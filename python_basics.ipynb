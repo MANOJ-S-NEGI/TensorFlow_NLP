{
  "nbformat": 4,
  "nbformat_minor": 0,
  "metadata": {
    "colab": {
      "name": "python basics.ipynb",
      "provenance": [],
      "collapsed_sections": [],
      "authorship_tag": "ABX9TyNG3GXSxF+FjskwowFvKLlD",
      "include_colab_link": true
    },
    "kernelspec": {
      "name": "python3",
      "display_name": "Python 3"
    },
    "language_info": {
      "name": "python"
    }
  },
  "cells": [
    {
      "cell_type": "markdown",
      "metadata": {
        "id": "view-in-github",
        "colab_type": "text"
      },
      "source": [
        "<a href=\"https://colab.research.google.com/github/MANOJ-S-NEGI/TensorFlow_NLP/blob/main/python_basics.ipynb\" target=\"_parent\"><img src=\"https://colab.research.google.com/assets/colab-badge.svg\" alt=\"Open In Colab\"/></a>"
      ]
    },
    {
      "cell_type": "markdown",
      "source": [
        "# Python magic function:NLP fundamental\n",
        "\n"
      ],
      "metadata": {
        "id": "H9WSw-4bal5b"
      }
    },
    {
      "cell_type": "code",
      "execution_count": 1,
      "metadata": {
        "id": "ELp_N__CjERj"
      },
      "outputs": [],
      "source": [
        "text=\"my phone number is 12345654321, phone call soon!\""
      ]
    },
    {
      "cell_type": "code",
      "source": [
        "text"
      ],
      "metadata": {
        "colab": {
          "base_uri": "https://localhost:8080/",
          "height": 35
        },
        "id": "FjxR3XFLjNHk",
        "outputId": "a8f0672f-f520-4c38-b03c-80dfc1ec4556"
      },
      "execution_count": 5,
      "outputs": [
        {
          "output_type": "execute_result",
          "data": {
            "text/plain": [
              "'my number id 123-123-345-'"
            ],
            "application/vnd.google.colaboratory.intrinsic+json": {
              "type": "string"
            }
          },
          "metadata": {},
          "execution_count": 5
        }
      ]
    },
    {
      "cell_type": "code",
      "source": [
        "\"phone\" in text"
      ],
      "metadata": {
        "colab": {
          "base_uri": "https://localhost:8080/"
        },
        "id": "bWCAoa5-jOzf",
        "outputId": "78e6c06d-1d62-4e42-f61e-a45729604f89"
      },
      "execution_count": 6,
      "outputs": [
        {
          "output_type": "execute_result",
          "data": {
            "text/plain": [
              "False"
            ]
          },
          "metadata": {},
          "execution_count": 6
        }
      ]
    },
    {
      "cell_type": "markdown",
      "source": [
        "findinding match"
      ],
      "metadata": {
        "id": "Lk5QJFwTkOT3"
      }
    },
    {
      "cell_type": "code",
      "source": [
        "import re"
      ],
      "metadata": {
        "id": "RLKVlIWQjSYX"
      },
      "execution_count": 7,
      "outputs": []
    },
    {
      "cell_type": "code",
      "source": [
        "pattern=\"phone\""
      ],
      "metadata": {
        "id": "fZVRzX2LkVtH"
      },
      "execution_count": 8,
      "outputs": []
    },
    {
      "cell_type": "code",
      "source": [
        "##finding the pattern in the text file()\n",
        "re.search(pattern,text)  ##span 3,8 means position (0,1,2,3,4,5....)"
      ],
      "metadata": {
        "id": "lx5jfQH-kYnh"
      },
      "execution_count": 9,
      "outputs": []
    },
    {
      "cell_type": "code",
      "source": [
        "match=re.search(pattern,text)\n",
        "match.span()"
      ],
      "metadata": {
        "colab": {
          "base_uri": "https://localhost:8080/"
        },
        "id": "HGX3-p6IkcLm",
        "outputId": "5dc3f5f0-5017-42f7-e53a-43f78c1edb07"
      },
      "execution_count": 25,
      "outputs": [
        {
          "output_type": "execute_result",
          "data": {
            "text/plain": [
              "(13, 24)"
            ]
          },
          "metadata": {},
          "execution_count": 25
        }
      ]
    },
    {
      "cell_type": "code",
      "source": [
        "match.start(),match.end()"
      ],
      "metadata": {
        "id": "ObtfcTHck0KE"
      },
      "execution_count": null,
      "outputs": []
    },
    {
      "cell_type": "markdown",
      "source": [
        "finding the match in the document:"
      ],
      "metadata": {
        "id": "6OCeuGHmlo3z"
      }
    },
    {
      "cell_type": "code",
      "source": [
        "findm=re.findall(\"phone\",text)\n",
        "findm,   len(findm)"
      ],
      "metadata": {
        "id": "MOrPwspdlKh5"
      },
      "execution_count": null,
      "outputs": []
    },
    {
      "cell_type": "code",
      "source": [
        "for match in findm:\n",
        "  print(match)"
      ],
      "metadata": {
        "id": "Y_pYrxd9ls50"
      },
      "execution_count": null,
      "outputs": []
    },
    {
      "cell_type": "code",
      "source": [
        "iter_find=re.finditer(\"phone\",text)\n",
        "\n",
        "for match in iter_find:\n",
        "  print(match.span())"
      ],
      "metadata": {
        "id": "SH2BIhfDmQWS"
      },
      "execution_count": null,
      "outputs": []
    },
    {
      "cell_type": "markdown",
      "source": [
        "finding the match:"
      ],
      "metadata": {
        "id": "GIfpbCcXpSYW"
      }
    },
    {
      "cell_type": "code",
      "source": [
        "text=\"my number id 123-123-345-\"\n",
        "text"
      ],
      "metadata": {
        "colab": {
          "base_uri": "https://localhost:8080/",
          "height": 35
        },
        "id": "wdIN3G1_mrX-",
        "outputId": "cd88ac81-91ca-462f-b111-e7c8f99e78b4"
      },
      "execution_count": 11,
      "outputs": [
        {
          "output_type": "execute_result",
          "data": {
            "text/plain": [
              "'my number id 123-123-345-'"
            ],
            "application/vnd.google.colaboratory.intrinsic+json": {
              "type": "string"
            }
          },
          "metadata": {},
          "execution_count": 11
        }
      ]
    },
    {
      "cell_type": "code",
      "source": [
        "pattern= r'\\d\\d\\d-\\d\\d\\d-\\d\\d\\d'"
      ],
      "metadata": {
        "id": "X69gT9uDp35l"
      },
      "execution_count": 12,
      "outputs": []
    },
    {
      "cell_type": "code",
      "source": [
        "ph_no=re.search(pattern,text)\n",
        "ph_no"
      ],
      "metadata": {
        "colab": {
          "base_uri": "https://localhost:8080/"
        },
        "id": "wBTNNyVopgh0",
        "outputId": "cae5eeb5-71f4-4636-fd75-becee12685a4"
      },
      "execution_count": 13,
      "outputs": [
        {
          "output_type": "execute_result",
          "data": {
            "text/plain": [
              "<re.Match object; span=(13, 24), match='123-123-345'>"
            ]
          },
          "metadata": {},
          "execution_count": 13
        }
      ]
    },
    {
      "cell_type": "code",
      "source": [
        "ph_no.group()"
      ],
      "metadata": {
        "colab": {
          "base_uri": "https://localhost:8080/",
          "height": 35
        },
        "id": "mZF06Eobpx7Y",
        "outputId": "6ae9b0cf-ed1b-4f65-b8e4-3248acd02df4"
      },
      "execution_count": 14,
      "outputs": [
        {
          "output_type": "execute_result",
          "data": {
            "text/plain": [
              "'123-123-345'"
            ],
            "application/vnd.google.colaboratory.intrinsic+json": {
              "type": "string"
            }
          },
          "metadata": {},
          "execution_count": 14
        }
      ]
    },
    {
      "cell_type": "code",
      "source": [
        "phrase='This is string but it has punctuation. How to remove it?'"
      ],
      "metadata": {
        "id": "qSnbZYHCbFS0"
      },
      "execution_count": 22,
      "outputs": []
    },
    {
      "cell_type": "code",
      "source": [
        "re.findall(r'[^!?]',phrase)"
      ],
      "metadata": {
        "id": "Vcc1puqeqJ7G",
        "colab": {
          "base_uri": "https://localhost:8080/"
        },
        "outputId": "273d1075-1ded-41ea-eb7c-0687f0ce76d3"
      },
      "execution_count": 24,
      "outputs": [
        {
          "output_type": "execute_result",
          "data": {
            "text/plain": [
              "['T',\n",
              " 'h',\n",
              " 'i',\n",
              " 's',\n",
              " ' ',\n",
              " 'i',\n",
              " 's',\n",
              " ' ',\n",
              " 's',\n",
              " 't',\n",
              " 'r',\n",
              " 'i',\n",
              " 'n',\n",
              " 'g',\n",
              " ' ',\n",
              " 'b',\n",
              " 'u',\n",
              " 't',\n",
              " ' ',\n",
              " 'i',\n",
              " 't',\n",
              " ' ',\n",
              " 'h',\n",
              " 'a',\n",
              " 's',\n",
              " ' ',\n",
              " 'p',\n",
              " 'u',\n",
              " 'n',\n",
              " 'c',\n",
              " 't',\n",
              " 'u',\n",
              " 'a',\n",
              " 't',\n",
              " 'i',\n",
              " 'o',\n",
              " 'n',\n",
              " '.',\n",
              " ' ',\n",
              " 'H',\n",
              " 'o',\n",
              " 'w',\n",
              " ' ',\n",
              " 't',\n",
              " 'o',\n",
              " ' ',\n",
              " 'r',\n",
              " 'e',\n",
              " 'm',\n",
              " 'o',\n",
              " 'v',\n",
              " 'e',\n",
              " ' ',\n",
              " 'i',\n",
              " 't']"
            ]
          },
          "metadata": {},
          "execution_count": 24
        }
      ]
    },
    {
      "cell_type": "code",
      "source": [
        "re.findall(r'[^!?]+',phrase)   ## + means grouping"
      ],
      "metadata": {
        "colab": {
          "base_uri": "https://localhost:8080/"
        },
        "id": "ttMKdRmsa_Js",
        "outputId": "c130b873-7558-4888-a674-2aff26c13595"
      },
      "execution_count": 26,
      "outputs": [
        {
          "output_type": "execute_result",
          "data": {
            "text/plain": [
              "['This is string but it has punctuation. How to remove it']"
            ]
          },
          "metadata": {},
          "execution_count": 26
        }
      ]
    },
    {
      "cell_type": "code",
      "source": [
        ""
      ],
      "metadata": {
        "id": "SFTt7aPWxDvm"
      },
      "execution_count": null,
      "outputs": []
    }
  ]
}