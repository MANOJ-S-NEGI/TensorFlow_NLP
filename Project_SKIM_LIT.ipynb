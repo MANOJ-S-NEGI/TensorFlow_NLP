{
  "nbformat": 4,
  "nbformat_minor": 0,
  "metadata": {
    "colab": {
      "name": "Project:SKIM-LIT.ipynb",
      "provenance": [],
      "collapsed_sections": [],
      "authorship_tag": "ABX9TyPQBSiEFhkYiFRUfkzLJQ41",
      "include_colab_link": true
    },
    "kernelspec": {
      "name": "python3",
      "display_name": "Python 3"
    },
    "language_info": {
      "name": "python"
    },
    "accelerator": "GPU"
  },
  "cells": [
    {
      "cell_type": "markdown",
      "metadata": {
        "id": "view-in-github",
        "colab_type": "text"
      },
      "source": [
        "<a href=\"https://colab.research.google.com/github/MANOJ-S-NEGI/TensorFlow_NLP/blob/main/Project_SKIM_LIT.ipynb\" target=\"_parent\"><img src=\"https://colab.research.google.com/assets/colab-badge.svg\" alt=\"Open In Colab\"/></a>"
      ]
    },
    {
      "cell_type": "code",
      "execution_count": 171,
      "metadata": {
        "colab": {
          "base_uri": "https://localhost:8080/"
        },
        "id": "4qKYrnas4zEX",
        "outputId": "3034f0fb-3613-4fa0-f28c-bcc3a724f0cf"
      },
      "outputs": [
        {
          "output_type": "stream",
          "name": "stdout",
          "text": [
            "GPU 0: Tesla K80 (UUID: GPU-2c5616c5-d8d5-b914-136f-1dd8f6fe8f95)\n"
          ]
        }
      ],
      "source": [
        "! nvidia-smi -L"
      ]
    },
    {
      "cell_type": "code",
      "source": [
        "!git clone https://github.com/Franck-Dernoncourt/pubmed-rct.git\n",
        "!ls pubmed-rct"
      ],
      "metadata": {
        "id": "ol5-gk6L5Quh",
        "colab": {
          "base_uri": "https://localhost:8080/"
        },
        "outputId": "701ed816-1086-47f0-ffa5-a9aa8c435bb0"
      },
      "execution_count": 172,
      "outputs": [
        {
          "output_type": "stream",
          "name": "stdout",
          "text": [
            "fatal: destination path 'pubmed-rct' already exists and is not an empty directory.\n",
            "PubMed_200k_RCT\n",
            "PubMed_200k_RCT_numbers_replaced_with_at_sign\n",
            "PubMed_20k_RCT\n",
            "PubMed_20k_RCT_numbers_replaced_with_at_sign\n",
            "README.md\n"
          ]
        }
      ]
    },
    {
      "cell_type": "code",
      "source": [
        "# Start by using the 20k dataset\n",
        "data_dir = \"pubmed-rct/PubMed_20k_RCT_numbers_replaced_with_at_sign/\""
      ],
      "metadata": {
        "id": "KdHbrXbXx0Tg"
      },
      "execution_count": 173,
      "outputs": []
    },
    {
      "cell_type": "code",
      "source": [
        "## importing functions:\n",
        "import os\n",
        "import tensorflow as tf\n",
        "import matplotlib.pyplot as plt\n",
        "import tensorflow_hub as hub\n",
        "import numpy as np\n",
        "import pandas as pd\n",
        "import zipfile\n",
        "import random"
      ],
      "metadata": {
        "id": "tY6JboD9x1Ux"
      },
      "execution_count": 174,
      "outputs": []
    },
    {
      "cell_type": "code",
      "source": [
        "## check int the file in directory:\n",
        "\n",
        "filename=[data_dir+filename for filename in os.listdir(data_dir)]\n",
        "filename"
      ],
      "metadata": {
        "colab": {
          "base_uri": "https://localhost:8080/"
        },
        "id": "okRQNEG7zG7g",
        "outputId": "a5c0bac4-ab89-40a3-e464-6ee318c740a6"
      },
      "execution_count": 175,
      "outputs": [
        {
          "output_type": "execute_result",
          "data": {
            "text/plain": [
              "['pubmed-rct/PubMed_20k_RCT_numbers_replaced_with_at_sign/test.txt',\n",
              " 'pubmed-rct/PubMed_20k_RCT_numbers_replaced_with_at_sign/train.txt',\n",
              " 'pubmed-rct/PubMed_20k_RCT_numbers_replaced_with_at_sign/dev.txt']"
            ]
          },
          "metadata": {},
          "execution_count": 175
        }
      ]
    },
    {
      "cell_type": "code",
      "source": [
        "## creating a function to read the line of document: Checking\n",
        "\n",
        "def get_lines(filename):\n",
        "    with open(filename,'r')as file:\n",
        "        return file.readlines()\n",
        "\n",
        "##readin the trained line:\n",
        "train_lines=get_lines(filename[2])\n",
        "train_lines[:4]"
      ],
      "metadata": {
        "colab": {
          "base_uri": "https://localhost:8080/"
        },
        "id": "SmiGlTVsz6DO",
        "outputId": "162b9e1e-49ae-4ba2-9550-53f13f503f3e"
      },
      "execution_count": 176,
      "outputs": [
        {
          "output_type": "execute_result",
          "data": {
            "text/plain": [
              "['###24290286\\n',\n",
              " 'BACKGROUND\\tIgE sensitization to Aspergillus fumigatus and a positive sputum fungal culture result are common in patients with refractory asthma .\\n',\n",
              " 'BACKGROUND\\tIt is not clear whether these patients would benefit from antifungal treatment .\\n',\n",
              " 'OBJECTIVE\\tWe sought to determine whether a @-month course of voriconazole improved asthma-related outcomes in patients with asthma who are IgE sensitized to A fumigatus .\\n']"
            ]
          },
          "metadata": {},
          "execution_count": 176
        }
      ]
    },
    {
      "cell_type": "code",
      "source": [
        "  \"\"\"Returns a list of dictionaries of abstract line data.\n",
        "\n",
        "  Takes in filename, reads its contents and sorts through each line,\n",
        "  extracting things like the target label, the text of the sentence,\n",
        "  how many sentences are in the current abstract and what sentence number\n",
        "  the target line is.\n",
        "\n",
        "  Args:\n",
        "      filename: a string of the target text file to read and extract line data\n",
        "      from.\n",
        "\n",
        "  Returns:\n",
        "      A list of dictionaries each containing a line from an abstract,\n",
        "      the lines label, the lines position in the abstract and the total number\n",
        "      of lines in the abstract where the line is from. For example:\n",
        "\n",
        "      [{\"target\": 'CONCLUSION',\n",
        "        \"text\": The study couldn't have gone better, turns out people are kinder than you think\",\n",
        "        \"line_number\": 8,\n",
        "        \"total_lines\": 8}]\n",
        "  \"\"\"      "
      ],
      "metadata": {
        "id": "RfDA78iF1ahd",
        "colab": {
          "base_uri": "https://localhost:8080/",
          "height": 105
        },
        "outputId": "f6334bd5-8fa8-45ac-f2c9-3f2c6adc2b02"
      },
      "execution_count": 177,
      "outputs": [
        {
          "output_type": "execute_result",
          "data": {
            "text/plain": [
              "'Returns a list of dictionaries of abstract line data.\\n\\nTakes in filename, reads its contents and sorts through each line,\\nextracting things like the target label, the text of the sentence,\\nhow many sentences are in the current abstract and what sentence number\\nthe target line is.\\n\\nArgs:\\n    filename: a string of the target text file to read and extract line data\\n    from.\\n\\nReturns:\\n    A list of dictionaries each containing a line from an abstract,\\n    the lines label, the lines position in the abstract and the total number\\n    of lines in the abstract where the line is from. For example:\\n\\n    [{\"target\": \\'CONCLUSION\\',\\n      \"text\": The study couldn\\'t have gone better, turns out people are kinder than you think\",\\n      \"line_number\": 8,\\n      \"total_lines\": 8}]\\n'"
            ],
            "application/vnd.google.colaboratory.intrinsic+json": {
              "type": "string"
            }
          },
          "metadata": {},
          "execution_count": 177
        }
      ]
    },
    {
      "cell_type": "code",
      "source": [
        "def process_text(filename):\n",
        "    input_line=get_lines(filename)\n",
        "    abstract_line=\"\"\n",
        "    abstract_sample=[]\n",
        "\n",
        "    for line in input_line:       #Check/go through the lines one by one\n",
        "        if line.startswith('###'): #if line start with '###'then\n",
        "            number_id=line        #print the line and store it in number id variable\n",
        "            abstract_line=\"\"     # and make abstract line -reset\n",
        "        elif line.isspace():      #if not ### in line but space is there then\n",
        "            abstract_line_split=abstract_line.splitlines()#split the line from the space to....\n",
        "            # Iterate through each line in abstract and count them at the same time:\n",
        "            for id_number,abstract_line in enumerate(abstract_line_split): #enumerate over                \n",
        "                target_text_split=abstract_line.split('\\t')                 #split it again from text '\\t'\n",
        "                line_data={}                                                # create empty dict to store data from line\n",
        "\n",
        "                line_data['Target']=target_text_split[0]                    #put target as label and store all index 0 item in it\n",
        "                line_data['Text']=target_text_split[1].lower()              #put Text as label and store all index 1 item in it\n",
        "                line_data['Line_number']=id_number\n",
        "                line_data['Total_lines']=len(abstract_line_split)-1           # as index is starting from the zero\n",
        "                abstract_sample.append(line_data)                           # adding to abstract sample \n",
        "        else:# if the above conditions aren't fulfilled, the line contains a labelled sentence\n",
        "            abstract_line += line\n",
        "\n",
        "    return abstract_sample"
      ],
      "metadata": {
        "id": "wDzaVsHQ_JAz"
      },
      "execution_count": 178,
      "outputs": []
    },
    {
      "cell_type": "code",
      "source": [
        "%%time\n",
        "train_samples= process_text(data_dir + \"train.txt\")\n",
        "val_samples = process_text(data_dir + \"dev.txt\") # dev is another name for validation set\n",
        "test_samples = process_text(data_dir + \"test.txt\")\n",
        "len(train_samples), len(val_samples), len(test_samples)\n"
      ],
      "metadata": {
        "id": "G9NSzcYb4n0l",
        "colab": {
          "base_uri": "https://localhost:8080/"
        },
        "outputId": "a7d2473d-8365-49ba-f9b4-039c2d5d49a6"
      },
      "execution_count": 179,
      "outputs": [
        {
          "output_type": "stream",
          "name": "stdout",
          "text": [
            "CPU times: user 580 ms, sys: 130 ms, total: 710 ms\n",
            "Wall time: 716 ms\n"
          ]
        }
      ]
    },
    {
      "cell_type": "code",
      "source": [
        "train_samples[:14]"
      ],
      "metadata": {
        "id": "Rflbx5gMQ1x4",
        "colab": {
          "base_uri": "https://localhost:8080/"
        },
        "outputId": "4610b494-b064-4582-8612-f36b9c1065a5"
      },
      "execution_count": 180,
      "outputs": [
        {
          "output_type": "execute_result",
          "data": {
            "text/plain": [
              "[{'Line_number': 0,\n",
              "  'Target': 'OBJECTIVE',\n",
              "  'Text': 'to investigate the efficacy of @ weeks of daily low-dose oral prednisolone in improving pain , mobility , and systemic low-grade inflammation in the short term and whether the effect would be sustained at @ weeks in older adults with moderate to severe knee osteoarthritis ( oa ) .',\n",
              "  'Total_lines': 11},\n",
              " {'Line_number': 1,\n",
              "  'Target': 'METHODS',\n",
              "  'Text': 'a total of @ patients with primary knee oa were randomized @:@ ; @ received @ mg/day of prednisolone and @ received placebo for @ weeks .',\n",
              "  'Total_lines': 11},\n",
              " {'Line_number': 2,\n",
              "  'Target': 'METHODS',\n",
              "  'Text': 'outcome measures included pain reduction and improvement in function scores and systemic inflammation markers .',\n",
              "  'Total_lines': 11},\n",
              " {'Line_number': 3,\n",
              "  'Target': 'METHODS',\n",
              "  'Text': 'pain was assessed using the visual analog pain scale ( @-@ mm ) .',\n",
              "  'Total_lines': 11},\n",
              " {'Line_number': 4,\n",
              "  'Target': 'METHODS',\n",
              "  'Text': 'secondary outcome measures included the western ontario and mcmaster universities osteoarthritis index scores , patient global assessment ( pga ) of the severity of knee oa , and @-min walk distance ( @mwd ) .',\n",
              "  'Total_lines': 11},\n",
              " {'Line_number': 5,\n",
              "  'Target': 'METHODS',\n",
              "  'Text': 'serum levels of interleukin @ ( il-@ ) , il-@ , tumor necrosis factor ( tnf ) - , and high-sensitivity c-reactive protein ( hscrp ) were measured .',\n",
              "  'Total_lines': 11},\n",
              " {'Line_number': 6,\n",
              "  'Target': 'RESULTS',\n",
              "  'Text': 'there was a clinically relevant reduction in the intervention group compared to the placebo group for knee pain , physical function , pga , and @mwd at @ weeks .',\n",
              "  'Total_lines': 11},\n",
              " {'Line_number': 7,\n",
              "  'Target': 'RESULTS',\n",
              "  'Text': 'the mean difference between treatment arms ( @ % ci ) was @ ( @-@ @ ) , p < @ ; @ ( @-@ @ ) , p < @ ; @ ( @-@ @ ) , p < @ ; and @ ( @-@ @ ) , p < @ , respectively .',\n",
              "  'Total_lines': 11},\n",
              " {'Line_number': 8,\n",
              "  'Target': 'RESULTS',\n",
              "  'Text': 'further , there was a clinically relevant reduction in the serum levels of il-@ , il-@ , tnf - , and hscrp at @ weeks in the intervention group when compared to the placebo group .',\n",
              "  'Total_lines': 11},\n",
              " {'Line_number': 9,\n",
              "  'Target': 'RESULTS',\n",
              "  'Text': 'these differences remained significant at @ weeks .',\n",
              "  'Total_lines': 11},\n",
              " {'Line_number': 10,\n",
              "  'Target': 'RESULTS',\n",
              "  'Text': 'the outcome measures in rheumatology clinical trials-osteoarthritis research society international responder rate was @ % in the intervention group and @ % in the placebo group ( p < @ ) .',\n",
              "  'Total_lines': 11},\n",
              " {'Line_number': 11,\n",
              "  'Target': 'CONCLUSIONS',\n",
              "  'Text': 'low-dose oral prednisolone had both a short-term and a longer sustained effect resulting in less knee pain , better physical function , and attenuation of systemic inflammation in older patients with knee oa ( clinicaltrials.gov identifier nct@ ) .',\n",
              "  'Total_lines': 11},\n",
              " {'Line_number': 0,\n",
              "  'Target': 'BACKGROUND',\n",
              "  'Text': 'emotional eating is associated with overeating and the development of obesity .',\n",
              "  'Total_lines': 10},\n",
              " {'Line_number': 1,\n",
              "  'Target': 'BACKGROUND',\n",
              "  'Text': 'yet , empirical evidence for individual ( trait ) differences in emotional eating and cognitive mechanisms that contribute to eating during sad mood remain equivocal .',\n",
              "  'Total_lines': 10}]"
            ]
          },
          "metadata": {},
          "execution_count": 180
        }
      ]
    },
    {
      "cell_type": "code",
      "source": [
        "## putting every thing in dtaframe:\n",
        "train_df = pd.DataFrame(train_samples)\n",
        "val_df = pd.DataFrame(val_samples)\n",
        "test_df = pd.DataFrame(test_samples)\n",
        "train_df.head(24)"
      ],
      "metadata": {
        "colab": {
          "base_uri": "https://localhost:8080/",
          "height": 802
        },
        "id": "M1kP4OzjVC5o",
        "outputId": "2bb75c96-8204-4f7c-94c7-2fd6802a30fb"
      },
      "execution_count": 181,
      "outputs": [
        {
          "output_type": "execute_result",
          "data": {
            "text/plain": [
              "         Target                                               Text  \\\n",
              "0     OBJECTIVE  to investigate the efficacy of @ weeks of dail...   \n",
              "1       METHODS  a total of @ patients with primary knee oa wer...   \n",
              "2       METHODS  outcome measures included pain reduction and i...   \n",
              "3       METHODS  pain was assessed using the visual analog pain...   \n",
              "4       METHODS  secondary outcome measures included the wester...   \n",
              "5       METHODS  serum levels of interleukin @ ( il-@ ) , il-@ ...   \n",
              "6       RESULTS  there was a clinically relevant reduction in t...   \n",
              "7       RESULTS  the mean difference between treatment arms ( @...   \n",
              "8       RESULTS  further , there was a clinically relevant redu...   \n",
              "9       RESULTS  these differences remained significant at @ we...   \n",
              "10      RESULTS  the outcome measures in rheumatology clinical ...   \n",
              "11  CONCLUSIONS  low-dose oral prednisolone had both a short-te...   \n",
              "12   BACKGROUND  emotional eating is associated with overeating...   \n",
              "13   BACKGROUND  yet , empirical evidence for individual ( trai...   \n",
              "14    OBJECTIVE  the aim of this study was to test if attention...   \n",
              "15    OBJECTIVE  it was expected that emotional eating is predi...   \n",
              "16      METHODS  participants ( n = @ ) were randomly assigned ...   \n",
              "17      METHODS  attentional biases for high caloric foods were...   \n",
              "18      METHODS  self-reported emotional eating was assessed wi...   \n",
              "19      RESULTS  hierarchical multivariate regression modeling ...   \n",
              "20      RESULTS  yet , attention maintenance on food cues was s...   \n",
              "21  CONCLUSIONS  the current findings show that self-reported e...   \n",
              "22  CONCLUSIONS  results further suggest that attention mainten...   \n",
              "23   BACKGROUND  although working smoke alarms halve deaths in ...   \n",
              "\n",
              "    Line_number  Total_lines  \n",
              "0             0           11  \n",
              "1             1           11  \n",
              "2             2           11  \n",
              "3             3           11  \n",
              "4             4           11  \n",
              "5             5           11  \n",
              "6             6           11  \n",
              "7             7           11  \n",
              "8             8           11  \n",
              "9             9           11  \n",
              "10           10           11  \n",
              "11           11           11  \n",
              "12            0           10  \n",
              "13            1           10  \n",
              "14            2           10  \n",
              "15            3           10  \n",
              "16            4           10  \n",
              "17            5           10  \n",
              "18            6           10  \n",
              "19            7           10  \n",
              "20            8           10  \n",
              "21            9           10  \n",
              "22           10           10  \n",
              "23            0           14  "
            ],
            "text/html": [
              "\n",
              "  <div id=\"df-e88c2d28-762c-427b-bcb0-19422e86b331\">\n",
              "    <div class=\"colab-df-container\">\n",
              "      <div>\n",
              "<style scoped>\n",
              "    .dataframe tbody tr th:only-of-type {\n",
              "        vertical-align: middle;\n",
              "    }\n",
              "\n",
              "    .dataframe tbody tr th {\n",
              "        vertical-align: top;\n",
              "    }\n",
              "\n",
              "    .dataframe thead th {\n",
              "        text-align: right;\n",
              "    }\n",
              "</style>\n",
              "<table border=\"1\" class=\"dataframe\">\n",
              "  <thead>\n",
              "    <tr style=\"text-align: right;\">\n",
              "      <th></th>\n",
              "      <th>Target</th>\n",
              "      <th>Text</th>\n",
              "      <th>Line_number</th>\n",
              "      <th>Total_lines</th>\n",
              "    </tr>\n",
              "  </thead>\n",
              "  <tbody>\n",
              "    <tr>\n",
              "      <th>0</th>\n",
              "      <td>OBJECTIVE</td>\n",
              "      <td>to investigate the efficacy of @ weeks of dail...</td>\n",
              "      <td>0</td>\n",
              "      <td>11</td>\n",
              "    </tr>\n",
              "    <tr>\n",
              "      <th>1</th>\n",
              "      <td>METHODS</td>\n",
              "      <td>a total of @ patients with primary knee oa wer...</td>\n",
              "      <td>1</td>\n",
              "      <td>11</td>\n",
              "    </tr>\n",
              "    <tr>\n",
              "      <th>2</th>\n",
              "      <td>METHODS</td>\n",
              "      <td>outcome measures included pain reduction and i...</td>\n",
              "      <td>2</td>\n",
              "      <td>11</td>\n",
              "    </tr>\n",
              "    <tr>\n",
              "      <th>3</th>\n",
              "      <td>METHODS</td>\n",
              "      <td>pain was assessed using the visual analog pain...</td>\n",
              "      <td>3</td>\n",
              "      <td>11</td>\n",
              "    </tr>\n",
              "    <tr>\n",
              "      <th>4</th>\n",
              "      <td>METHODS</td>\n",
              "      <td>secondary outcome measures included the wester...</td>\n",
              "      <td>4</td>\n",
              "      <td>11</td>\n",
              "    </tr>\n",
              "    <tr>\n",
              "      <th>5</th>\n",
              "      <td>METHODS</td>\n",
              "      <td>serum levels of interleukin @ ( il-@ ) , il-@ ...</td>\n",
              "      <td>5</td>\n",
              "      <td>11</td>\n",
              "    </tr>\n",
              "    <tr>\n",
              "      <th>6</th>\n",
              "      <td>RESULTS</td>\n",
              "      <td>there was a clinically relevant reduction in t...</td>\n",
              "      <td>6</td>\n",
              "      <td>11</td>\n",
              "    </tr>\n",
              "    <tr>\n",
              "      <th>7</th>\n",
              "      <td>RESULTS</td>\n",
              "      <td>the mean difference between treatment arms ( @...</td>\n",
              "      <td>7</td>\n",
              "      <td>11</td>\n",
              "    </tr>\n",
              "    <tr>\n",
              "      <th>8</th>\n",
              "      <td>RESULTS</td>\n",
              "      <td>further , there was a clinically relevant redu...</td>\n",
              "      <td>8</td>\n",
              "      <td>11</td>\n",
              "    </tr>\n",
              "    <tr>\n",
              "      <th>9</th>\n",
              "      <td>RESULTS</td>\n",
              "      <td>these differences remained significant at @ we...</td>\n",
              "      <td>9</td>\n",
              "      <td>11</td>\n",
              "    </tr>\n",
              "    <tr>\n",
              "      <th>10</th>\n",
              "      <td>RESULTS</td>\n",
              "      <td>the outcome measures in rheumatology clinical ...</td>\n",
              "      <td>10</td>\n",
              "      <td>11</td>\n",
              "    </tr>\n",
              "    <tr>\n",
              "      <th>11</th>\n",
              "      <td>CONCLUSIONS</td>\n",
              "      <td>low-dose oral prednisolone had both a short-te...</td>\n",
              "      <td>11</td>\n",
              "      <td>11</td>\n",
              "    </tr>\n",
              "    <tr>\n",
              "      <th>12</th>\n",
              "      <td>BACKGROUND</td>\n",
              "      <td>emotional eating is associated with overeating...</td>\n",
              "      <td>0</td>\n",
              "      <td>10</td>\n",
              "    </tr>\n",
              "    <tr>\n",
              "      <th>13</th>\n",
              "      <td>BACKGROUND</td>\n",
              "      <td>yet , empirical evidence for individual ( trai...</td>\n",
              "      <td>1</td>\n",
              "      <td>10</td>\n",
              "    </tr>\n",
              "    <tr>\n",
              "      <th>14</th>\n",
              "      <td>OBJECTIVE</td>\n",
              "      <td>the aim of this study was to test if attention...</td>\n",
              "      <td>2</td>\n",
              "      <td>10</td>\n",
              "    </tr>\n",
              "    <tr>\n",
              "      <th>15</th>\n",
              "      <td>OBJECTIVE</td>\n",
              "      <td>it was expected that emotional eating is predi...</td>\n",
              "      <td>3</td>\n",
              "      <td>10</td>\n",
              "    </tr>\n",
              "    <tr>\n",
              "      <th>16</th>\n",
              "      <td>METHODS</td>\n",
              "      <td>participants ( n = @ ) were randomly assigned ...</td>\n",
              "      <td>4</td>\n",
              "      <td>10</td>\n",
              "    </tr>\n",
              "    <tr>\n",
              "      <th>17</th>\n",
              "      <td>METHODS</td>\n",
              "      <td>attentional biases for high caloric foods were...</td>\n",
              "      <td>5</td>\n",
              "      <td>10</td>\n",
              "    </tr>\n",
              "    <tr>\n",
              "      <th>18</th>\n",
              "      <td>METHODS</td>\n",
              "      <td>self-reported emotional eating was assessed wi...</td>\n",
              "      <td>6</td>\n",
              "      <td>10</td>\n",
              "    </tr>\n",
              "    <tr>\n",
              "      <th>19</th>\n",
              "      <td>RESULTS</td>\n",
              "      <td>hierarchical multivariate regression modeling ...</td>\n",
              "      <td>7</td>\n",
              "      <td>10</td>\n",
              "    </tr>\n",
              "    <tr>\n",
              "      <th>20</th>\n",
              "      <td>RESULTS</td>\n",
              "      <td>yet , attention maintenance on food cues was s...</td>\n",
              "      <td>8</td>\n",
              "      <td>10</td>\n",
              "    </tr>\n",
              "    <tr>\n",
              "      <th>21</th>\n",
              "      <td>CONCLUSIONS</td>\n",
              "      <td>the current findings show that self-reported e...</td>\n",
              "      <td>9</td>\n",
              "      <td>10</td>\n",
              "    </tr>\n",
              "    <tr>\n",
              "      <th>22</th>\n",
              "      <td>CONCLUSIONS</td>\n",
              "      <td>results further suggest that attention mainten...</td>\n",
              "      <td>10</td>\n",
              "      <td>10</td>\n",
              "    </tr>\n",
              "    <tr>\n",
              "      <th>23</th>\n",
              "      <td>BACKGROUND</td>\n",
              "      <td>although working smoke alarms halve deaths in ...</td>\n",
              "      <td>0</td>\n",
              "      <td>14</td>\n",
              "    </tr>\n",
              "  </tbody>\n",
              "</table>\n",
              "</div>\n",
              "      <button class=\"colab-df-convert\" onclick=\"convertToInteractive('df-e88c2d28-762c-427b-bcb0-19422e86b331')\"\n",
              "              title=\"Convert this dataframe to an interactive table.\"\n",
              "              style=\"display:none;\">\n",
              "        \n",
              "  <svg xmlns=\"http://www.w3.org/2000/svg\" height=\"24px\"viewBox=\"0 0 24 24\"\n",
              "       width=\"24px\">\n",
              "    <path d=\"M0 0h24v24H0V0z\" fill=\"none\"/>\n",
              "    <path d=\"M18.56 5.44l.94 2.06.94-2.06 2.06-.94-2.06-.94-.94-2.06-.94 2.06-2.06.94zm-11 1L8.5 8.5l.94-2.06 2.06-.94-2.06-.94L8.5 2.5l-.94 2.06-2.06.94zm10 10l.94 2.06.94-2.06 2.06-.94-2.06-.94-.94-2.06-.94 2.06-2.06.94z\"/><path d=\"M17.41 7.96l-1.37-1.37c-.4-.4-.92-.59-1.43-.59-.52 0-1.04.2-1.43.59L10.3 9.45l-7.72 7.72c-.78.78-.78 2.05 0 2.83L4 21.41c.39.39.9.59 1.41.59.51 0 1.02-.2 1.41-.59l7.78-7.78 2.81-2.81c.8-.78.8-2.07 0-2.86zM5.41 20L4 18.59l7.72-7.72 1.47 1.35L5.41 20z\"/>\n",
              "  </svg>\n",
              "      </button>\n",
              "      \n",
              "  <style>\n",
              "    .colab-df-container {\n",
              "      display:flex;\n",
              "      flex-wrap:wrap;\n",
              "      gap: 12px;\n",
              "    }\n",
              "\n",
              "    .colab-df-convert {\n",
              "      background-color: #E8F0FE;\n",
              "      border: none;\n",
              "      border-radius: 50%;\n",
              "      cursor: pointer;\n",
              "      display: none;\n",
              "      fill: #1967D2;\n",
              "      height: 32px;\n",
              "      padding: 0 0 0 0;\n",
              "      width: 32px;\n",
              "    }\n",
              "\n",
              "    .colab-df-convert:hover {\n",
              "      background-color: #E2EBFA;\n",
              "      box-shadow: 0px 1px 2px rgba(60, 64, 67, 0.3), 0px 1px 3px 1px rgba(60, 64, 67, 0.15);\n",
              "      fill: #174EA6;\n",
              "    }\n",
              "\n",
              "    [theme=dark] .colab-df-convert {\n",
              "      background-color: #3B4455;\n",
              "      fill: #D2E3FC;\n",
              "    }\n",
              "\n",
              "    [theme=dark] .colab-df-convert:hover {\n",
              "      background-color: #434B5C;\n",
              "      box-shadow: 0px 1px 3px 1px rgba(0, 0, 0, 0.15);\n",
              "      filter: drop-shadow(0px 1px 2px rgba(0, 0, 0, 0.3));\n",
              "      fill: #FFFFFF;\n",
              "    }\n",
              "  </style>\n",
              "\n",
              "      <script>\n",
              "        const buttonEl =\n",
              "          document.querySelector('#df-e88c2d28-762c-427b-bcb0-19422e86b331 button.colab-df-convert');\n",
              "        buttonEl.style.display =\n",
              "          google.colab.kernel.accessAllowed ? 'block' : 'none';\n",
              "\n",
              "        async function convertToInteractive(key) {\n",
              "          const element = document.querySelector('#df-e88c2d28-762c-427b-bcb0-19422e86b331');\n",
              "          const dataTable =\n",
              "            await google.colab.kernel.invokeFunction('convertToInteractive',\n",
              "                                                     [key], {});\n",
              "          if (!dataTable) return;\n",
              "\n",
              "          const docLinkHtml = 'Like what you see? Visit the ' +\n",
              "            '<a target=\"_blank\" href=https://colab.research.google.com/notebooks/data_table.ipynb>data table notebook</a>'\n",
              "            + ' to learn more about interactive tables.';\n",
              "          element.innerHTML = '';\n",
              "          dataTable['output_type'] = 'display_data';\n",
              "          await google.colab.output.renderOutput(dataTable, element);\n",
              "          const docLink = document.createElement('div');\n",
              "          docLink.innerHTML = docLinkHtml;\n",
              "          element.appendChild(docLink);\n",
              "        }\n",
              "      </script>\n",
              "    </div>\n",
              "  </div>\n",
              "  "
            ]
          },
          "metadata": {},
          "execution_count": 181
        }
      ]
    },
    {
      "cell_type": "code",
      "source": [
        "pd.DataFrame(train_df.Target.value_counts())"
      ],
      "metadata": {
        "colab": {
          "base_uri": "https://localhost:8080/",
          "height": 206
        },
        "id": "rrZS89TWVIv0",
        "outputId": "68a7bc5e-f00f-4981-c7de-bf29777e8df4"
      },
      "execution_count": 182,
      "outputs": [
        {
          "output_type": "execute_result",
          "data": {
            "text/plain": [
              "             Target\n",
              "METHODS       59353\n",
              "RESULTS       57953\n",
              "CONCLUSIONS   27168\n",
              "BACKGROUND    21727\n",
              "OBJECTIVE     13839"
            ],
            "text/html": [
              "\n",
              "  <div id=\"df-0ffefc4c-a413-4592-93dd-ff8dbe37e4ff\">\n",
              "    <div class=\"colab-df-container\">\n",
              "      <div>\n",
              "<style scoped>\n",
              "    .dataframe tbody tr th:only-of-type {\n",
              "        vertical-align: middle;\n",
              "    }\n",
              "\n",
              "    .dataframe tbody tr th {\n",
              "        vertical-align: top;\n",
              "    }\n",
              "\n",
              "    .dataframe thead th {\n",
              "        text-align: right;\n",
              "    }\n",
              "</style>\n",
              "<table border=\"1\" class=\"dataframe\">\n",
              "  <thead>\n",
              "    <tr style=\"text-align: right;\">\n",
              "      <th></th>\n",
              "      <th>Target</th>\n",
              "    </tr>\n",
              "  </thead>\n",
              "  <tbody>\n",
              "    <tr>\n",
              "      <th>METHODS</th>\n",
              "      <td>59353</td>\n",
              "    </tr>\n",
              "    <tr>\n",
              "      <th>RESULTS</th>\n",
              "      <td>57953</td>\n",
              "    </tr>\n",
              "    <tr>\n",
              "      <th>CONCLUSIONS</th>\n",
              "      <td>27168</td>\n",
              "    </tr>\n",
              "    <tr>\n",
              "      <th>BACKGROUND</th>\n",
              "      <td>21727</td>\n",
              "    </tr>\n",
              "    <tr>\n",
              "      <th>OBJECTIVE</th>\n",
              "      <td>13839</td>\n",
              "    </tr>\n",
              "  </tbody>\n",
              "</table>\n",
              "</div>\n",
              "      <button class=\"colab-df-convert\" onclick=\"convertToInteractive('df-0ffefc4c-a413-4592-93dd-ff8dbe37e4ff')\"\n",
              "              title=\"Convert this dataframe to an interactive table.\"\n",
              "              style=\"display:none;\">\n",
              "        \n",
              "  <svg xmlns=\"http://www.w3.org/2000/svg\" height=\"24px\"viewBox=\"0 0 24 24\"\n",
              "       width=\"24px\">\n",
              "    <path d=\"M0 0h24v24H0V0z\" fill=\"none\"/>\n",
              "    <path d=\"M18.56 5.44l.94 2.06.94-2.06 2.06-.94-2.06-.94-.94-2.06-.94 2.06-2.06.94zm-11 1L8.5 8.5l.94-2.06 2.06-.94-2.06-.94L8.5 2.5l-.94 2.06-2.06.94zm10 10l.94 2.06.94-2.06 2.06-.94-2.06-.94-.94-2.06-.94 2.06-2.06.94z\"/><path d=\"M17.41 7.96l-1.37-1.37c-.4-.4-.92-.59-1.43-.59-.52 0-1.04.2-1.43.59L10.3 9.45l-7.72 7.72c-.78.78-.78 2.05 0 2.83L4 21.41c.39.39.9.59 1.41.59.51 0 1.02-.2 1.41-.59l7.78-7.78 2.81-2.81c.8-.78.8-2.07 0-2.86zM5.41 20L4 18.59l7.72-7.72 1.47 1.35L5.41 20z\"/>\n",
              "  </svg>\n",
              "      </button>\n",
              "      \n",
              "  <style>\n",
              "    .colab-df-container {\n",
              "      display:flex;\n",
              "      flex-wrap:wrap;\n",
              "      gap: 12px;\n",
              "    }\n",
              "\n",
              "    .colab-df-convert {\n",
              "      background-color: #E8F0FE;\n",
              "      border: none;\n",
              "      border-radius: 50%;\n",
              "      cursor: pointer;\n",
              "      display: none;\n",
              "      fill: #1967D2;\n",
              "      height: 32px;\n",
              "      padding: 0 0 0 0;\n",
              "      width: 32px;\n",
              "    }\n",
              "\n",
              "    .colab-df-convert:hover {\n",
              "      background-color: #E2EBFA;\n",
              "      box-shadow: 0px 1px 2px rgba(60, 64, 67, 0.3), 0px 1px 3px 1px rgba(60, 64, 67, 0.15);\n",
              "      fill: #174EA6;\n",
              "    }\n",
              "\n",
              "    [theme=dark] .colab-df-convert {\n",
              "      background-color: #3B4455;\n",
              "      fill: #D2E3FC;\n",
              "    }\n",
              "\n",
              "    [theme=dark] .colab-df-convert:hover {\n",
              "      background-color: #434B5C;\n",
              "      box-shadow: 0px 1px 3px 1px rgba(0, 0, 0, 0.15);\n",
              "      filter: drop-shadow(0px 1px 2px rgba(0, 0, 0, 0.3));\n",
              "      fill: #FFFFFF;\n",
              "    }\n",
              "  </style>\n",
              "\n",
              "      <script>\n",
              "        const buttonEl =\n",
              "          document.querySelector('#df-0ffefc4c-a413-4592-93dd-ff8dbe37e4ff button.colab-df-convert');\n",
              "        buttonEl.style.display =\n",
              "          google.colab.kernel.accessAllowed ? 'block' : 'none';\n",
              "\n",
              "        async function convertToInteractive(key) {\n",
              "          const element = document.querySelector('#df-0ffefc4c-a413-4592-93dd-ff8dbe37e4ff');\n",
              "          const dataTable =\n",
              "            await google.colab.kernel.invokeFunction('convertToInteractive',\n",
              "                                                     [key], {});\n",
              "          if (!dataTable) return;\n",
              "\n",
              "          const docLinkHtml = 'Like what you see? Visit the ' +\n",
              "            '<a target=\"_blank\" href=https://colab.research.google.com/notebooks/data_table.ipynb>data table notebook</a>'\n",
              "            + ' to learn more about interactive tables.';\n",
              "          element.innerHTML = '';\n",
              "          dataTable['output_type'] = 'display_data';\n",
              "          await google.colab.output.renderOutput(dataTable, element);\n",
              "          const docLink = document.createElement('div');\n",
              "          docLink.innerHTML = docLinkHtml;\n",
              "          element.appendChild(docLink);\n",
              "        }\n",
              "      </script>\n",
              "    </div>\n",
              "  </div>\n",
              "  "
            ]
          },
          "metadata": {},
          "execution_count": 182
        }
      ]
    },
    {
      "cell_type": "code",
      "source": [
        "plt.figure(figsize=(7,7))\n",
        "plt.plot(train_df.Target.value_counts());"
      ],
      "metadata": {
        "colab": {
          "base_uri": "https://localhost:8080/",
          "height": 428
        },
        "id": "-i3qzvR2YrFL",
        "outputId": "76cb8a51-188f-4a36-e718-12971086a368"
      },
      "execution_count": 183,
      "outputs": [
        {
          "output_type": "display_data",
          "data": {
            "text/plain": [
              "<Figure size 504x504 with 1 Axes>"
            ],
            "image/png": "[encoded data removed]"
          },
          "metadata": {
            "needs_background": "light"
          }
        }
      ]
    },
    {
      "cell_type": "code",
      "source": [
        "plt.hist(train_df.Total_lines);"
      ],
      "metadata": {
        "colab": {
          "base_uri": "https://localhost:8080/",
          "height": 267
        },
        "id": "nQP27S5Le58I",
        "outputId": "4ad34358-d47f-4d10-d0a1-abf32fd63920"
      },
      "execution_count": 184,
      "outputs": [
        {
          "output_type": "display_data",
          "data": {
            "text/plain": [
              "<Figure size 432x288 with 1 Axes>"
            ],
            "image/png": "[encoded data removed]"
          },
          "metadata": {
            "needs_background": "light"
          }
        }
      ]
    },
    {
      "cell_type": "markdown",
      "source": [
        "### Changing target into numerical values:\n",
        "---\n",
        "1.   Convert into Hot_Encoder\n",
        "2.   Convert into label_Encoder\n",
        "\n"
      ],
      "metadata": {
        "id": "3SL3caChhb_U"
      }
    },
    {
      "cell_type": "code",
      "source": [
        "# One hot encode labels\n",
        "from sklearn.preprocessing import OneHotEncoder\n",
        "one_hot_encoder = OneHotEncoder(sparse=False)\n",
        "train_labels_one_hot = one_hot_encoder.fit_transform(train_df[\"Target\"].to_numpy().reshape(-1, 1))\n",
        "val_labels_one_hot = one_hot_encoder.transform(val_df[\"Target\"].to_numpy().reshape(-1, 1))\n",
        "test_labels_one_hot = one_hot_encoder.transform(test_df[\"Target\"].to_numpy().reshape(-1, 1))\n",
        "\n",
        "# Check what training labels look like:\n",
        "train_labels_one_hot"
      ],
      "metadata": {
        "id": "mdCvwYozh8nJ",
        "colab": {
          "base_uri": "https://localhost:8080/"
        },
        "outputId": "2a21c793-f8c2-471b-9680-528a711c2078"
      },
      "execution_count": 185,
      "outputs": [
        {
          "output_type": "execute_result",
          "data": {
            "text/plain": [
              "array([[0., 0., 0., 1., 0.],\n",
              "       [0., 0., 1., 0., 0.],\n",
              "       [0., 0., 1., 0., 0.],\n",
              "       ...,\n",
              "       [0., 0., 0., 0., 1.],\n",
              "       [0., 1., 0., 0., 0.],\n",
              "       [0., 1., 0., 0., 0.]])"
            ]
          },
          "metadata": {},
          "execution_count": 185
        }
      ]
    },
    {
      "cell_type": "code",
      "source": [
        "train_labels_one_hot.shape"
      ],
      "metadata": {
        "colab": {
          "base_uri": "https://localhost:8080/"
        },
        "id": "_r941KgVeWAg",
        "outputId": "90e9f0d7-7047-4d2e-a470-f444e2df8ef6"
      },
      "execution_count": 186,
      "outputs": [
        {
          "output_type": "execute_result",
          "data": {
            "text/plain": [
              "(180040, 5)"
            ]
          },
          "metadata": {},
          "execution_count": 186
        }
      ]
    },
    {
      "cell_type": "code",
      "source": [
        "# converting the hotencoder into label\n",
        "\n",
        "from sklearn.preprocessing import LabelEncoder\n",
        "LabelEncoder=LabelEncoder()\n",
        "train_label_encoder= LabelEncoder.fit_transform(train_df['Target'].to_numpy())\n",
        "valid_label_encoder= LabelEncoder.fit_transform(val_df['Target'].to_numpy())\n",
        "test_label_encoder= LabelEncoder.fit_transform(test_df['Target'].to_numpy())\n",
        "\n",
        "train_label_encoder"
      ],
      "metadata": {
        "colab": {
          "base_uri": "https://localhost:8080/"
        },
        "id": "9I5lc0eiZnCu",
        "outputId": "6a6f505c-a00a-453e-cd9d-7b9ddc42bfd6"
      },
      "execution_count": 187,
      "outputs": [
        {
          "output_type": "execute_result",
          "data": {
            "text/plain": [
              "array([3, 2, 2, ..., 4, 1, 1])"
            ]
          },
          "metadata": {},
          "execution_count": 187
        }
      ]
    },
    {
      "cell_type": "code",
      "source": [
        "# Convert abstract text lines into lists \n",
        "train_sentences = train_df[\"Text\"].tolist()\n",
        "val_sentences = val_df[\"Text\"].tolist()\n",
        "test_sentences = test_df[\"Text\"].tolist()\n",
        "len(train_sentences), len(val_sentences), len(test_sentences)"
      ],
      "metadata": {
        "colab": {
          "base_uri": "https://localhost:8080/"
        },
        "id": "Qz-Yec0c2PC4",
        "outputId": "c2b59404-8227-4510-ba6e-56f041bc0496"
      },
      "execution_count": 188,
      "outputs": [
        {
          "output_type": "execute_result",
          "data": {
            "text/plain": [
              "(180040, 30212, 30135)"
            ]
          },
          "metadata": {},
          "execution_count": 188
        }
      ]
    },
    {
      "cell_type": "code",
      "source": [
        "# Get class names and number of classes from LabelEncoder instance \n",
        "num_classes = len(LabelEncoder.classes_)\n",
        "class_names = LabelEncoder.classes_\n",
        "num_classes, class_names"
      ],
      "metadata": {
        "colab": {
          "base_uri": "https://localhost:8080/"
        },
        "id": "GDJMzD5CbVRP",
        "outputId": "999dc0aa-2c6b-4589-f14a-26dc6ceb4c44"
      },
      "execution_count": 189,
      "outputs": [
        {
          "output_type": "execute_result",
          "data": {
            "text/plain": [
              "(5, array(['BACKGROUND', 'CONCLUSIONS', 'METHODS', 'OBJECTIVE', 'RESULTS'],\n",
              "       dtype=object))"
            ]
          },
          "metadata": {},
          "execution_count": 189
        }
      ]
    },
    {
      "cell_type": "markdown",
      "source": [
        "###creating\n",
        "the model_0:the Base model Naive Bayes\n",
        "\n",
        "---\n",
        "\n",
        "\n",
        "\n"
      ],
      "metadata": {
        "id": "OphaArw1YM4O"
      }
    },
    {
      "cell_type": "code",
      "source": [
        "## lets create the model_0:the Base model Naive Bayes\n",
        "from sklearn.feature_extraction.text import TfidfVectorizer\n",
        "from sklearn.naive_bayes import MultinomialNB\n",
        "from sklearn.pipeline import Pipeline\n",
        "model_0= Pipeline([(\"tf-idf\", TfidfVectorizer()), (\"clf\", MultinomialNB())])\n",
        "\n",
        "## fitting the model:\n",
        "model_0.fit(train_sentences,train_label_encoder)\n",
        "\n",
        "## model score\n",
        "model_0.score(train_sentences,train_label_encoder)"
      ],
      "metadata": {
        "colab": {
          "base_uri": "https://localhost:8080/"
        },
        "id": "3d0WozYocCKU",
        "outputId": "257cf436-0079-427e-e151-d53d2d6fb84b"
      },
      "execution_count": 20,
      "outputs": [
        {
          "output_type": "execute_result",
          "data": {
            "text/plain": [
              "0.7516829593423684"
            ]
          },
          "metadata": {},
          "execution_count": 20
        }
      ]
    },
    {
      "cell_type": "code",
      "source": [
        "# checking the base_line prediction:\n",
        "baseline_preds=model_0.predict(val_sentences)\n",
        "baseline_preds"
      ],
      "metadata": {
        "colab": {
          "base_uri": "https://localhost:8080/"
        },
        "id": "Qtt84Y6C4gBz",
        "outputId": "0c14c253-ebd5-474f-892b-01614bc6619b"
      },
      "execution_count": 21,
      "outputs": [
        {
          "output_type": "execute_result",
          "data": {
            "text/plain": [
              "array([4, 1, 3, ..., 4, 4, 1])"
            ]
          },
          "metadata": {},
          "execution_count": 21
        }
      ]
    },
    {
      "cell_type": "code",
      "source": [
        "# Function to evaluate: accuracy, precision, recall, f1-score\n",
        "from sklearn.metrics import accuracy_score, precision_recall_fscore_support\n",
        "def calculate_results(y_true, y_pred):\n",
        "  \"\"\"\n",
        "  Calculates model accuracy, precision, recall and f1 score of a binary classification model.\n",
        "  Args:\n",
        "      y_true: true labels in the form of a 1D array\n",
        "      y_pred: predicted labels in the form of a 1D array\n",
        "  Returns a dictionary of accuracy, precision, recall, f1-score.\n",
        "  \"\"\"\n",
        "  # Calculate model accuracy\n",
        "  model_accuracy = accuracy_score(y_true, y_pred) * 100\n",
        "  # Calculate model precision, recall and f1 score using \"weighted average\n",
        "  model_precision, model_recall, model_f1, _ = precision_recall_fscore_support(y_true, y_pred, average=\"weighted\")\n",
        "  model_results = {\"accuracy\": model_accuracy,\n",
        "                  \"precision\": model_precision,\n",
        "                  \"recall\": model_recall,\n",
        "                  \"f1\": model_f1}\n",
        "  return model_results\n"
      ],
      "metadata": {
        "id": "YLzZJfcexW8g"
      },
      "execution_count": 22,
      "outputs": []
    },
    {
      "cell_type": "code",
      "source": [
        "# Calculate baseline results\n",
        "baseline_results = calculate_results(y_true=valid_label_encoder,\n",
        "                                     y_pred=baseline_preds)\n",
        "baseline_results"
      ],
      "metadata": {
        "colab": {
          "base_uri": "https://localhost:8080/"
        },
        "id": "wNaUd_HW41w_",
        "outputId": "dcc47a34-7ad3-44aa-f5f6-7ba6a7be5899"
      },
      "execution_count": 23,
      "outputs": [
        {
          "output_type": "execute_result",
          "data": {
            "text/plain": [
              "{'accuracy': 72.1832384482987,\n",
              " 'f1': 0.6989250353450294,\n",
              " 'precision': 0.7186466952323352,\n",
              " 'recall': 0.7218323844829869}"
            ]
          },
          "metadata": {},
          "execution_count": 23
        }
      ]
    },
    {
      "cell_type": "code",
      "source": [
        "## getting the average sentence:\n",
        "## split the train_sentences in word by word spaces:\n",
        "sentence_length=[len(sentence.split())for sentence in train_sentences]\n",
        "\n",
        "## pick the mean :\n",
        "sent_mean=np.mean(sentence_length)\n",
        "print(f'average words:{sent_mean}')\n",
        "plt.hist(sentence_length);\n"
      ],
      "metadata": {
        "colab": {
          "base_uri": "https://localhost:8080/",
          "height": 282
        },
        "id": "XmZDdPlB6J1P",
        "outputId": "17e5e2a2-cc38-4f43-b053-f7f5a48271fd"
      },
      "execution_count": 24,
      "outputs": [
        {
          "output_type": "stream",
          "name": "stdout",
          "text": [
            "average words:26.338269273494777\n"
          ]
        },
        {
          "output_type": "display_data",
          "data": {
            "text/plain": [
              "<Figure size 432x288 with 1 Axes>"
            ],
            "image/png": "[encoded data removed]"
          },
          "metadata": {
            "needs_background": "light"
          }
        }
      ]
    },
    {
      "cell_type": "markdown",
      "source": [
        "```\n",
        "we can take word sequence between 60 to 80\n",
        "```\n",
        "### creating the model_1"
      ],
      "metadata": {
        "id": "FTLHwawHDzwu"
      }
    },
    {
      "cell_type": "code",
      "source": [
        "## text Vectorization:\n",
        "text_vectorization=tf.keras.layers.TextVectorization(max_tokens=68000,      # given in published paper\n",
        "                                  output_sequence_length=75)\n",
        "\n",
        "text_vectorization.adapt(train_sentences)                                   ##adapting the text vactorization:\n"
      ],
      "metadata": {
        "id": "YLqSMdXBACH6"
      },
      "execution_count": 25,
      "outputs": []
    },
    {
      "cell_type": "markdown",
      "source": [
        "###Create custom text embedding\n",
        "---\n",
        "Our token_vectorization layer maps the words in our text directly to numbers.\n",
        "\n",
        "\n",
        "However, this doesn't necessarily capture the relationships between those numbers.\n",
        "\n",
        "To create a richer numerical representation of our text, we can use an embedding."
      ],
      "metadata": {
        "id": "Jv9jz_OyNKjo"
      }
    },
    {
      "cell_type": "code",
      "source": [
        "text_vocab=text_vectorization.get_vocabulary()\n",
        "print(f\"len of text_vocab:{len(text_vocab)}\")\n",
        "print(f\"Most common words in the vocabulary: {text_vocab[:5]}\")\n",
        "print(f\"Least common words in the vocabulary: {text_vocab[-5:]}\\\\nget_config():\\n\")\n",
        "text_vectorization.get_config()"
      ],
      "metadata": {
        "colab": {
          "base_uri": "https://localhost:8080/"
        },
        "id": "287xzJnZJtvl",
        "outputId": "d1e799d5-0886-45ba-f0ac-b30c77cd90f3"
      },
      "execution_count": 222,
      "outputs": [
        {
          "output_type": "stream",
          "name": "stdout",
          "text": [
            "len of text_vocab:64841\n",
            "Most common words in the vocabulary: ['', '[UNK]', 'the', 'and', 'of']\n",
            "Least common words in the vocabulary: ['aainduced', 'aaigroup', 'aachener', 'aachen', 'aaacp']\\nget_config():\n",
            "\n"
          ]
        },
        {
          "output_type": "execute_result",
          "data": {
            "text/plain": [
              "{'batch_input_shape': (None,),\n",
              " 'dtype': 'string',\n",
              " 'idf_weights': None,\n",
              " 'max_tokens': 68000,\n",
              " 'name': 'text_vectorization',\n",
              " 'ngrams': None,\n",
              " 'output_mode': 'int',\n",
              " 'output_sequence_length': 75,\n",
              " 'pad_to_max_tokens': False,\n",
              " 'ragged': False,\n",
              " 'sparse': False,\n",
              " 'split': 'whitespace',\n",
              " 'standardize': 'lower_and_strip_punctuation',\n",
              " 'trainable': True,\n",
              " 'vocabulary': None}"
            ]
          },
          "metadata": {},
          "execution_count": 222
        }
      ]
    },
    {
      "cell_type": "code",
      "source": [
        "token_embed=tf.keras.layers.Embedding(input_dim=len(text_vocab),\n",
        "                                      output_dim=128, # emmbeding size(integer. Dimension of the dense embedding.)\n",
        "                                      mask_zero=True)## If mask_zero is set to True, as a consequence, index 0 cannot be used in the vocabulary(input_dim of vocabulary =+ 1)\n",
        "                                   "
      ],
      "metadata": {
        "id": "v2-mRe5bKGsc"
      },
      "execution_count": 27,
      "outputs": []
    },
    {
      "cell_type": "markdown",
      "source": [
        "### checking the text vectorizaton and text embedding:\n"
      ],
      "metadata": {
        "id": "zZvETGY9U4qx"
      }
    },
    {
      "cell_type": "code",
      "source": [
        "## example testing the text vectoriztion:\n",
        "train_sentence_testing=random.choice(train_sentences)\n",
        "print(f'random_text:{train_sentence_testing}\\n number of words in srandom text :{len(train_sentence_testing.split())}')\n",
        "\n",
        "text_test=text_vectorization([train_sentence_testing])\n",
        "print(f'random sentence after the vectorization will be like: \\n{text_test}')\n",
        "\n",
        "\n",
        "# Show example embedding\n",
        "\n",
        "embedded_sentence = token_embed(text_test)\n",
        "print(f\"\\nSentence after embedding:\\n{embedded_sentence}\\n\")\n",
        "print(f\"Embedded sentence shape: {embedded_sentence.shape}\")\n"
      ],
      "metadata": {
        "colab": {
          "base_uri": "https://localhost:8080/"
        },
        "id": "9QmpCk6NGLOt",
        "outputId": "1f167cec-ac70-4e9a-9201-f9f62d3949fc"
      },
      "execution_count": 28,
      "outputs": [
        {
          "output_type": "stream",
          "name": "stdout",
          "text": [
            "random_text:bone graft substitutes are widely used for reconstruction of posttraumatic bone defects .\n",
            " number of words in srandom text :13\n",
            "random sentence after the vectorization will be like: \n",
            "[[  410  1031 15391    58  1580    98    11  1314     4  3052   410  3318\n",
            "      0     0     0     0     0     0     0     0     0     0     0     0\n",
            "      0     0     0     0     0     0     0     0     0     0     0     0\n",
            "      0     0     0     0     0     0     0     0     0     0     0     0\n",
            "      0     0     0     0     0     0     0     0     0     0     0     0\n",
            "      0     0     0     0     0     0     0     0     0     0     0     0\n",
            "      0     0     0]]\n",
            "\n",
            "Sentence after embedding:\n",
            "[[[-0.00655812  0.03030772 -0.00195529 ... -0.03159471 -0.00807601\n",
            "    0.00501764]\n",
            "  [ 0.04703236  0.00779776 -0.0216302  ... -0.03664806  0.01383643\n",
            "   -0.01835771]\n",
            "  [ 0.0107311  -0.04402743  0.01090587 ... -0.00117099 -0.03140034\n",
            "    0.04872116]\n",
            "  ...\n",
            "  [ 0.02843093 -0.00264515 -0.00780158 ... -0.02336605 -0.006618\n",
            "    0.02374804]\n",
            "  [ 0.02843093 -0.00264515 -0.00780158 ... -0.02336605 -0.006618\n",
            "    0.02374804]\n",
            "  [ 0.02843093 -0.00264515 -0.00780158 ... -0.02336605 -0.006618\n",
            "    0.02374804]]]\n",
            "\n",
            "Embedded sentence shape: (1, 75, 128)\n"
          ]
        }
      ]
    },
    {
      "cell_type": "markdown",
      "source": [
        "The[ tf.data.Dataset] API supports writing descriptive and efficient input pipelines. Dataset usage follows a common pattern:\n",
        "---\n",
        "* Create a source dataset from your input data.\n",
        "* Apply dataset transformations to preprocess the data.\n",
        "* Iterate over the dataset and process the elements.\n",
        "\n",
        "\n",
        "Iteration happens in a streaming fashion, so the full dataset does not need to fit into memory."
      ],
      "metadata": {
        "id": "Kp7bmz2rXydY"
      }
    },
    {
      "cell_type": "code",
      "source": [
        "# Turn our data into TensorFlow Datasets\n",
        "train_dataset = tf.data.Dataset.from_tensor_slices((train_sentences, train_labels_one_hot)).batch(32).prefetch(tf.data.AUTOTUNE)\n",
        "valid_dataset = tf.data.Dataset.from_tensor_slices((val_sentences, val_labels_one_hot)).batch(32).prefetch(tf.data.AUTOTUNE)\n",
        "test_dataset = tf.data.Dataset.from_tensor_slices((test_sentences, test_labels_one_hot)).batch(32).prefetch(tf.data.AUTOTUNE)\n",
        "\n",
        "train_dataset\n"
      ],
      "metadata": {
        "colab": {
          "base_uri": "https://localhost:8080/"
        },
        "id": "aWBTrkw4VZTg",
        "outputId": "d22bb4b9-dd76-4ee4-d72c-a0ba0aa66bed"
      },
      "execution_count": 29,
      "outputs": [
        {
          "output_type": "execute_result",
          "data": {
            "text/plain": [
              "<PrefetchDataset element_spec=(TensorSpec(shape=(None,), dtype=tf.string, name=None), TensorSpec(shape=(None, 5), dtype=tf.float64, name=None))>"
            ]
          },
          "metadata": {},
          "execution_count": 29
        }
      ]
    },
    {
      "cell_type": "markdown",
      "source": [
        "#### Model 1: Conv1D with token embeddings\n",
        "\n",
        "---\n",
        "```\n",
        "\n",
        "Alright, we've now got a way to numerically represent our text and labels, time to build a series of deep models to try and improve upon our baseline.\n",
        "\n",
        "All of our deep models will follow a similar structure:\n",
        "\n",
        "Input (text) -> Tokenize -> Embedding -> Layers -> Output (label probability)\n",
        "The main component we'll be changing throughout is the Layers component. Because any modern deep NLP model requires text to be converted into an embedding before meaningful patterns can be discovered within.\n",
        "\n",
        "The first model we're going to build is a 1-dimensional Convolutional Neural Network.\n",
        "\n",
        "We're also going to be following the standard machine learning workflow of:\n",
        "\n",
        "Build model\n",
        "Train model\n",
        "Evaluate model (make predictions and compare to ground truth)\n",
        "```"
      ],
      "metadata": {
        "id": "dhJF0FZphgpc"
      }
    },
    {
      "cell_type": "code",
      "source": [
        "# setting the layers of model:\n",
        "\n",
        "input=tf.keras.layers.Input(shape=(1,),dtype='string')\n",
        "x=text_vectorization(input)\n",
        "x=token_embed(x)\n",
        "x = tf.keras.layers.Conv1D(64, kernel_size=5, padding=\"same\", activation=\"relu\")(x)\n",
        "x=tf.keras.layers.GlobalMaxPooling1D()(x)\n",
        "output=tf.keras.layers.Dense(num_classes, activation='softmax')(x)\n",
        "model_1=tf.keras.Model(input,output)\n",
        "\n",
        "##compiling the model:\n",
        "model_1.compile(loss=tf.keras.losses.BinaryCrossentropy(),\n",
        "                metrics=['accuracy'],\n",
        "                optimizer=tf.keras.optimizers.Adam())\n",
        "\n",
        "# Get summary of Conv1D model\n",
        "model_1.summary()"
      ],
      "metadata": {
        "colab": {
          "base_uri": "https://localhost:8080/"
        },
        "id": "LXLitEomgtBS",
        "outputId": "ea0da434-6329-49ec-ce9e-91ac340140b9"
      },
      "execution_count": 30,
      "outputs": [
        {
          "output_type": "stream",
          "name": "stdout",
          "text": [
            "Model: \"model\"\n",
            "_________________________________________________________________\n",
            " Layer (type)                Output Shape              Param #   \n",
            "=================================================================\n",
            " input_1 (InputLayer)        [(None, 1)]               0         \n",
            "                                                                 \n",
            " text_vectorization (TextVec  (None, 75)               0         \n",
            " torization)                                                     \n",
            "                                                                 \n",
            " embedding (Embedding)       (None, 75, 128)           8299648   \n",
            "                                                                 \n",
            " conv1d (Conv1D)             (None, 75, 64)            41024     \n",
            "                                                                 \n",
            " global_max_pooling1d (Globa  (None, 64)               0         \n",
            " lMaxPooling1D)                                                  \n",
            "                                                                 \n",
            " dense (Dense)               (None, 5)                 325       \n",
            "                                                                 \n",
            "=================================================================\n",
            "Total params: 8,340,997\n",
            "Trainable params: 8,340,997\n",
            "Non-trainable params: 0\n",
            "_________________________________________________________________\n"
          ]
        }
      ]
    },
    {
      "cell_type": "code",
      "source": [
        "#fitting the model:\n",
        "model_1_history=model_1.fit(train_dataset,\n",
        "                            epochs=5,\n",
        "                            steps_per_epoch=int(0.1*len(train_dataset)),\n",
        "                             validation_data=valid_dataset,\n",
        "                              validation_steps=int(0.1 * len(valid_dataset)) # only validate on 25% of batches                    \n",
        ")"
      ],
      "metadata": {
        "colab": {
          "base_uri": "https://localhost:8080/"
        },
        "id": "Ai3mTY2PjMzo",
        "outputId": "1246470c-50ad-4d45-c860-77284e07f1a5"
      },
      "execution_count": 31,
      "outputs": [
        {
          "output_type": "stream",
          "name": "stdout",
          "text": [
            "Epoch 1/5\n",
            "562/562 [==============================] - 19s 15ms/step - loss: 0.3077 - accuracy: 0.6634 - val_loss: 0.2241 - val_accuracy: 0.7696\n",
            "Epoch 2/5\n",
            "562/562 [==============================] - 8s 14ms/step - loss: 0.2157 - accuracy: 0.7848 - val_loss: 0.2049 - val_accuracy: 0.7989\n",
            "Epoch 3/5\n",
            "562/562 [==============================] - 8s 14ms/step - loss: 0.2043 - accuracy: 0.7950 - val_loss: 0.1961 - val_accuracy: 0.8122\n",
            "Epoch 4/5\n",
            "562/562 [==============================] - 8s 14ms/step - loss: 0.1973 - accuracy: 0.8067 - val_loss: 0.1934 - val_accuracy: 0.8102\n",
            "Epoch 5/5\n",
            "562/562 [==============================] - 8s 14ms/step - loss: 0.1959 - accuracy: 0.8076 - val_loss: 0.1876 - val_accuracy: 0.8195\n"
          ]
        }
      ]
    },
    {
      "cell_type": "code",
      "source": [
        "model_1.evaluate(valid_dataset)"
      ],
      "metadata": {
        "colab": {
          "base_uri": "https://localhost:8080/"
        },
        "id": "jmQwXpMfl2GB",
        "outputId": "cb4dee05-5d1d-4ab1-b38e-433061e81435"
      },
      "execution_count": 32,
      "outputs": [
        {
          "output_type": "stream",
          "name": "stdout",
          "text": [
            "945/945 [==============================] - 4s 4ms/step - loss: 0.1859 - accuracy: 0.8186\n"
          ]
        },
        {
          "output_type": "execute_result",
          "data": {
            "text/plain": [
              "[0.1859089881181717, 0.8185819983482361]"
            ]
          },
          "metadata": {},
          "execution_count": 32
        }
      ]
    },
    {
      "cell_type": "code",
      "source": [
        "model_1_preds_probs=model_1.predict(valid_dataset)\n",
        "model_1_preds_probs"
      ],
      "metadata": {
        "colab": {
          "base_uri": "https://localhost:8080/"
        },
        "id": "b4ROWzIfm1sL",
        "outputId": "b8e01b79-20aa-4e57-a1cd-741a0f67c750"
      },
      "execution_count": 33,
      "outputs": [
        {
          "output_type": "execute_result",
          "data": {
            "text/plain": [
              "array([[7.34406292e-01, 1.66001126e-01, 9.08044516e-04, 9.05864313e-02,\n",
              "        8.09819996e-03],\n",
              "       [2.89302766e-01, 6.56454206e-01, 6.79573917e-04, 3.87576520e-02,\n",
              "        1.48057584e-02],\n",
              "       [6.12614602e-02, 9.46383364e-03, 7.27165584e-03, 9.21653211e-01,\n",
              "        3.49917158e-04],\n",
              "       ...,\n",
              "       [1.07746935e-04, 2.72719117e-05, 5.12437779e-04, 7.06298961e-05,\n",
              "        9.99281943e-01],\n",
              "       [3.54348659e-03, 5.32742023e-01, 2.54241414e-02, 5.44385472e-03,\n",
              "        4.32846516e-01],\n",
              "       [7.50379870e-03, 9.90355611e-01, 1.40464096e-03, 2.17633045e-04,\n",
              "        5.18432818e-04]], dtype=float32)"
            ]
          },
          "metadata": {},
          "execution_count": 33
        }
      ]
    },
    {
      "cell_type": "code",
      "source": [
        "# Convert pred probs to classes\n",
        "model_1_preds = tf.argmax(model_1_preds_probs, axis=1)\n",
        "model_1_preds"
      ],
      "metadata": {
        "colab": {
          "base_uri": "https://localhost:8080/"
        },
        "id": "IvKiwWbXnVox",
        "outputId": "cbf5233f-fcd0-49a2-afa4-77ad2ea09a68"
      },
      "execution_count": 34,
      "outputs": [
        {
          "output_type": "execute_result",
          "data": {
            "text/plain": [
              "<tf.Tensor: shape=(30212,), dtype=int64, numpy=array([0, 1, 3, ..., 4, 1, 1])>"
            ]
          },
          "metadata": {},
          "execution_count": 34
        }
      ]
    },
    {
      "cell_type": "code",
      "source": [
        "model_1_results=calculate_results(valid_label_encoder,model_1_preds)\n",
        "model_1_results"
      ],
      "metadata": {
        "colab": {
          "base_uri": "https://localhost:8080/"
        },
        "id": "uaJZ-QsHzYif",
        "outputId": "b4aa67f9-26fd-46fd-b043-46432ace23db"
      },
      "execution_count": 35,
      "outputs": [
        {
          "output_type": "execute_result",
          "data": {
            "text/plain": [
              "{'accuracy': 81.85820203892493,\n",
              " 'f1': 0.8151241956828176,\n",
              " 'precision': 0.8181912260821139,\n",
              " 'recall': 0.8185820203892493}"
            ]
          },
          "metadata": {},
          "execution_count": 35
        }
      ]
    },
    {
      "cell_type": "markdown",
      "source": [
        "#### Model 2: Feature extraction with pretrained token embeddings(TRANSFER LEARNING)"
      ],
      "metadata": {
        "id": "UquwlfL346JA"
      }
    },
    {
      "cell_type": "code",
      "source": [
        "# Download pretrained TensorFlow Hub USE\n",
        "hub_embed =hub.KerasLayer(\"https://tfhub.dev/google/universal-sentence-encoder/4\",\n",
        "                                        trainable=False,\n",
        "                                        name=\"universal_sentence_encoder\")\n",
        "hub_embed"
      ],
      "metadata": {
        "id": "0eUktYLVoSDt",
        "colab": {
          "base_uri": "https://localhost:8080/"
        },
        "outputId": "8795c604-66ac-46ef-d54a-508518db83ec"
      },
      "execution_count": 36,
      "outputs": [
        {
          "output_type": "execute_result",
          "data": {
            "text/plain": [
              "<tensorflow_hub.keras_layer.KerasLayer at 0x7fccd7a6f550>"
            ]
          },
          "metadata": {},
          "execution_count": 36
        }
      ]
    },
    {
      "cell_type": "code",
      "source": [
        "## checking the embeding:\n",
        "check_embed_sent= random.choice(train_sentences)\n",
        "print(f\"random sentence before embeding the sentence encoder:\\n{check_embed_sent}\\n\")\n",
        "embed_sentence=hub_embed([check_embed_sent])\n",
        "print(f\"embeding the sentence encoder:\\n{embed_sentence[0][:30]} (truncated output)...\\n\")\n",
        "print(f\"Length of sentence embedding:\\n{len(embed_sentence[0])}\")"
      ],
      "metadata": {
        "colab": {
          "base_uri": "https://localhost:8080/"
        },
        "id": "P9ON7kUO59EZ",
        "outputId": "4c85a272-2104-40a3-cc8d-1b9d8c6eb1bd"
      },
      "execution_count": 37,
      "outputs": [
        {
          "output_type": "stream",
          "name": "stdout",
          "text": [
            "random sentence before embeding the sentence encoder:\n",
            "treatment decisions for individual patients may be guided by the different side effect profiles of the two drugs and patient preference .\n",
            "\n",
            "embeding the sentence encoder:\n",
            "[-0.04343864 -0.06744736 -0.02284578  0.07365428  0.0042408  -0.04221601\n",
            "  0.01995149  0.00101102 -0.07449496 -0.00401499  0.08942671 -0.0486832\n",
            "  0.01522031  0.04455499  0.01632995 -0.0160047  -0.08985067 -0.03138693\n",
            " -0.07204355  0.06100776  0.07850106  0.06643213 -0.01473225 -0.07562634\n",
            "  0.06215611 -0.01427895  0.02529307  0.04825346  0.02638502  0.0479467 ] (truncated output)...\n",
            "\n",
            "Length of sentence embedding:\n",
            "512\n"
          ]
        }
      ]
    },
    {
      "cell_type": "code",
      "source": [
        "## Building and fitting an NLP feature extraction model from TensorFlow Hub\n",
        "\n",
        "input=tf.keras.layers.Input(shape=[],dtype=tf.string)\n",
        "embed=hub_embed(input)\n",
        "layer_x=tf.keras.layers.Dense(128,activation='relu')(embed)\n",
        "output=tf.keras.layers.Dense(num_classes,activation='sigmoid')(layer_x)\n",
        "model_2=tf.keras.Model(input,output)\n",
        "# compiling the model:\n",
        "\n",
        "model_2.compile(loss=tf.keras.losses.BinaryCrossentropy(),\n",
        "                optimizer=tf.keras.optimizers.Adam(),\n",
        "                metrics=['accuracy'])"
      ],
      "metadata": {
        "id": "Um3P1kYa6saB"
      },
      "execution_count": 38,
      "outputs": []
    },
    {
      "cell_type": "code",
      "source": [
        "model_2.summary()"
      ],
      "metadata": {
        "colab": {
          "base_uri": "https://localhost:8080/"
        },
        "id": "J76x4stjCNmd",
        "outputId": "af0e46da-4de4-4881-936f-7bb6b11d69fc"
      },
      "execution_count": 39,
      "outputs": [
        {
          "output_type": "stream",
          "name": "stdout",
          "text": [
            "Model: \"model_1\"\n",
            "_________________________________________________________________\n",
            " Layer (type)                Output Shape              Param #   \n",
            "=================================================================\n",
            " input_2 (InputLayer)        [(None,)]                 0         \n",
            "                                                                 \n",
            " universal_sentence_encoder   (None, 512)              256797824 \n",
            " (KerasLayer)                                                    \n",
            "                                                                 \n",
            " dense_1 (Dense)             (None, 128)               65664     \n",
            "                                                                 \n",
            " dense_2 (Dense)             (None, 5)                 645       \n",
            "                                                                 \n",
            "=================================================================\n",
            "Total params: 256,864,133\n",
            "Trainable params: 66,309\n",
            "Non-trainable params: 256,797,824\n",
            "_________________________________________________________________\n"
          ]
        }
      ]
    },
    {
      "cell_type": "code",
      "source": [
        "## fitting the models:\n",
        "\n",
        "history_model_2=model_2.fit(train_dataset,\n",
        "                            epochs=5,\n",
        "                            steps_per_epoch=int(0.25*len(train_dataset)),\n",
        "                            validation_data=valid_dataset,\n",
        "                            validation_steps= int(0.25*len(valid_dataset)))"
      ],
      "metadata": {
        "colab": {
          "base_uri": "https://localhost:8080/"
        },
        "id": "pcBuvwO9-NiU",
        "outputId": "3e8723db-11c7-4594-8d38-2caa1e7eb035"
      },
      "execution_count": 40,
      "outputs": [
        {
          "output_type": "stream",
          "name": "stdout",
          "text": [
            "Epoch 1/5\n",
            "1406/1406 [==============================] - 32s 21ms/step - loss: 0.2991 - accuracy: 0.6704 - val_loss: 0.2634 - val_accuracy: 0.7111\n",
            "Epoch 2/5\n",
            "1406/1406 [==============================] - 29s 21ms/step - loss: 0.2565 - accuracy: 0.7170 - val_loss: 0.2485 - val_accuracy: 0.7328\n",
            "Epoch 3/5\n",
            "1406/1406 [==============================] - 29s 20ms/step - loss: 0.2462 - accuracy: 0.7322 - val_loss: 0.2394 - val_accuracy: 0.7427\n",
            "Epoch 4/5\n",
            "1406/1406 [==============================] - 28s 20ms/step - loss: 0.2379 - accuracy: 0.7430 - val_loss: 0.2357 - val_accuracy: 0.7480\n",
            "Epoch 5/5\n",
            "   1/1406 [..............................] - ETA: 28s - loss: 0.2717 - accuracy: 0.8125WARNING:tensorflow:Your input ran out of data; interrupting training. Make sure that your dataset or generator can generate at least `steps_per_epoch * epochs` batches (in this case, 7030 batches). You may need to use the repeat() function when building your dataset.\n"
          ]
        },
        {
          "output_type": "stream",
          "name": "stderr",
          "text": [
            "WARNING:tensorflow:Your input ran out of data; interrupting training. Make sure that your dataset or generator can generate at least `steps_per_epoch * epochs` batches (in this case, 7030 batches). You may need to use the repeat() function when building your dataset.\n"
          ]
        },
        {
          "output_type": "stream",
          "name": "stdout",
          "text": [
            "\b\b\b\b\b\b\b\b\b\b\b\b\b\b\b\b\b\b\b\b\b\b\b\b\b\b\b\b\b\b\b\b\b\b\b\b\b\b\b\b\b\b\b\b\b\b\b\b\b\b\b\b\b\b\b\b\b\b\b\b\b\b\b\b\b\b\b\b\b\b\b\b\b\b\b\b\b\b\b\b\b\b\b\b\b\b\b\r1406/1406 [==============================] - 4s 3ms/step - loss: 0.2733 - accuracy: 0.7361 - val_loss: 0.2357 - val_accuracy: 0.7471\n"
          ]
        }
      ]
    },
    {
      "cell_type": "code",
      "source": [
        "# Evaluate on whole validation dataset\n",
        "model_2.evaluate(valid_dataset)"
      ],
      "metadata": {
        "colab": {
          "base_uri": "https://localhost:8080/"
        },
        "id": "b7FU2oVVG6j4",
        "outputId": "00624db8-3199-43b3-91e2-d685409afca2"
      },
      "execution_count": 41,
      "outputs": [
        {
          "output_type": "stream",
          "name": "stdout",
          "text": [
            "945/945 [==============================] - 16s 17ms/step - loss: 0.2339 - accuracy: 0.7472\n"
          ]
        },
        {
          "output_type": "execute_result",
          "data": {
            "text/plain": [
              "[0.23389221727848053, 0.7472196221351624]"
            ]
          },
          "metadata": {},
          "execution_count": 41
        }
      ]
    },
    {
      "cell_type": "code",
      "source": [
        "## predicting the possible probabilities:\n",
        "model_2_pred_prob=model_2.predict(valid_dataset)\n",
        "model_2_pred= np.argmax(model_2_pred_prob,axis=1)\n",
        "model_2_pred"
      ],
      "metadata": {
        "colab": {
          "base_uri": "https://localhost:8080/"
        },
        "id": "wIOv0RlMCEmt",
        "outputId": "605dde54-6476-4ab7-d197-c204c7b6b6df"
      },
      "execution_count": 42,
      "outputs": [
        {
          "output_type": "execute_result",
          "data": {
            "text/plain": [
              "array([1, 1, 0, ..., 4, 4, 1])"
            ]
          },
          "metadata": {},
          "execution_count": 42
        }
      ]
    },
    {
      "cell_type": "code",
      "source": [
        "print(model_2_pred[:10])\n",
        "print(class_names[model_2_pred][:10])"
      ],
      "metadata": {
        "colab": {
          "base_uri": "https://localhost:8080/"
        },
        "id": "Q_LFC2MXJy1W",
        "outputId": "90bbd961-6574-405f-ebf8-c4efa4e30d0e"
      },
      "execution_count": 43,
      "outputs": [
        {
          "output_type": "stream",
          "name": "stdout",
          "text": [
            "[1 1 0 2 2 4 2 2 4 1]\n",
            "['CONCLUSIONS' 'CONCLUSIONS' 'BACKGROUND' 'METHODS' 'METHODS' 'RESULTS'\n",
            " 'METHODS' 'METHODS' 'RESULTS' 'CONCLUSIONS']\n"
          ]
        }
      ]
    },
    {
      "cell_type": "code",
      "source": [
        "model_2_results=calculate_results(valid_label_encoder,model_2_pred)\n",
        "model_2_results"
      ],
      "metadata": {
        "colab": {
          "base_uri": "https://localhost:8080/"
        },
        "id": "JSTxDxG2IH_N",
        "outputId": "1cff9697-21d1-4bb5-fced-803a69788a0a"
      },
      "execution_count": 44,
      "outputs": [
        {
          "output_type": "execute_result",
          "data": {
            "text/plain": [
              "{'accuracy': 74.72196478220575,\n",
              " 'f1': 0.7418694971196027,\n",
              " 'precision': 0.7413903061193104,\n",
              " 'recall': 0.7472196478220574}"
            ]
          },
          "metadata": {},
          "execution_count": 44
        }
      ]
    },
    {
      "cell_type": "markdown",
      "source": [
        "### Model 3: Conv1D with character embeddings"
      ],
      "metadata": {
        "id": "s6cPzaeaNBCJ"
      }
    },
    {
      "cell_type": "code",
      "source": [
        "# Make function to split sentences into characters\n",
        "def split_char(text):\n",
        "    return \" \".join(list(text))\n",
        "\n",
        "# Test splitting non-character-level sequence into characters\n",
        "split_char(train_sentences[1])"
      ],
      "metadata": {
        "id": "lMmGpb2HNDqs",
        "colab": {
          "base_uri": "https://localhost:8080/",
          "height": 53
        },
        "outputId": "2005b661-6d1a-45ad-bf43-0639c438fc03"
      },
      "execution_count": 45,
      "outputs": [
        {
          "output_type": "execute_result",
          "data": {
            "text/plain": [
              "'a   t o t a l   o f   @   p a t i e n t s   w i t h   p r i m a r y   k n e e   o a   w e r e   r a n d o m i z e d   @ : @   ;   @   r e c e i v e d   @   m g / d a y   o f   p r e d n i s o l o n e   a n d   @   r e c e i v e d   p l a c e b o   f o r   @   w e e k s   .'"
            ],
            "application/vnd.google.colaboratory.intrinsic+json": {
              "type": "string"
            }
          },
          "metadata": {},
          "execution_count": 45
        }
      ]
    },
    {
      "cell_type": "code",
      "source": [
        "# spliting all train valid and test:\n",
        "train_chars=[split_char(train)for train in train_sentences]\n",
        "val_chars=[split_char(valid) for valid in val_sentences]\n",
        "test_chars=[split_char(test) for test in test_sentences]\n",
        "\n",
        "train_chars[2]\n"
      ],
      "metadata": {
        "colab": {
          "base_uri": "https://localhost:8080/",
          "height": 53
        },
        "id": "nb6b8-fUaozH",
        "outputId": "67995c00-e845-4b2e-ff3b-eea703b68011"
      },
      "execution_count": 46,
      "outputs": [
        {
          "output_type": "execute_result",
          "data": {
            "text/plain": [
              "'o u t c o m e   m e a s u r e s   i n c l u d e d   p a i n   r e d u c t i o n   a n d   i m p r o v e m e n t   i n   f u n c t i o n   s c o r e s   a n d   s y s t e m i c   i n f l a m m a t i o n   m a r k e r s   .'"
            ],
            "application/vnd.google.colaboratory.intrinsic+json": {
              "type": "string"
            }
          },
          "metadata": {},
          "execution_count": 46
        }
      ]
    },
    {
      "cell_type": "code",
      "source": [
        "## finding the average character length:\n",
        "\n",
        "char_len=[len(sentence)for sentence in train_sentences]\n",
        "mean_char=np.mean(char_len)\n",
        "print(mean_char)\n",
        "\n",
        "plt.hist(char_len);"
      ],
      "metadata": {
        "colab": {
          "base_uri": "https://localhost:8080/",
          "height": 282
        },
        "id": "v660oJBqcmim",
        "outputId": "a505a45b-71e7-4aea-91dd-792a67fd074d"
      },
      "execution_count": 47,
      "outputs": [
        {
          "output_type": "stream",
          "name": "stdout",
          "text": [
            "149.3662574983337\n"
          ]
        },
        {
          "output_type": "display_data",
          "data": {
            "text/plain": [
              "<Figure size 432x288 with 1 Axes>"
            ],
            "image/png": "[encoded data removed]"
          },
          "metadata": {
            "needs_background": "light"
          }
        }
      ]
    },
    {
      "cell_type": "code",
      "source": [
        "# Find what character length covers 95% of sequences\n",
        "output_seq_char_len = int(np.percentile(char_len, 95))\n",
        "plt.hist(output_seq_char_len);"
      ],
      "metadata": {
        "colab": {
          "base_uri": "https://localhost:8080/",
          "height": 265
        },
        "id": "cmlp0RNbhiC2",
        "outputId": "77efbc3a-a0c3-432a-9140-73ffa7ff52a3"
      },
      "execution_count": 48,
      "outputs": [
        {
          "output_type": "display_data",
          "data": {
            "text/plain": [
              "<Figure size 432x288 with 1 Axes>"
            ],
            "image/png": "[encoded data removed]"
          },
          "metadata": {
            "needs_background": "light"
          }
        }
      ]
    },
    {
      "cell_type": "code",
      "source": [
        "## calling the keyboard token:\n",
        "import string\n",
        "alphabet=string.ascii_lowercase + string.digits + string.punctuation\n",
        "alphabet"
      ],
      "metadata": {
        "colab": {
          "base_uri": "https://localhost:8080/",
          "height": 35
        },
        "id": "ACAxOehKf9l3",
        "outputId": "ca0d48bb-2014-4409-afb2-63ffbf377157"
      },
      "execution_count": 49,
      "outputs": [
        {
          "output_type": "execute_result",
          "data": {
            "text/plain": [
              "'abcdefghijklmnopqrstuvwxyz0123456789!\"#$%&\\'()*+,-./:;<=>?@[\\\\]^_`{|}~'"
            ],
            "application/vnd.google.colaboratory.intrinsic+json": {
              "type": "string"
            }
          },
          "metadata": {},
          "execution_count": 49
        }
      ]
    },
    {
      "cell_type": "markdown",
      "source": [
        "#### creating the char vectorizor and embedding layer."
      ],
      "metadata": {
        "id": "RuH0TAZkle-D"
      }
    },
    {
      "cell_type": "code",
      "source": [
        "## creating the token vectorizer :\n",
        "NUM_CHAR_TOKENS=len(alphabet)+2\n",
        "char_vectorizor= tf.keras.layers.TextVectorization(max_tokens=NUM_CHAR_TOKENS,\n",
        "                                                   output_sequence_length=output_seq_char_len,\n",
        "                                                   standardize=None)\n",
        "char_vectorizor.adapt(train_chars)\n",
        "\n",
        "## Creatimg the embedding the layer:\n",
        "char_embed= tf.keras.layers.Embedding(input_dim=NUM_CHAR_TOKENS,\n",
        "                                   output_dim=25,            # (same as Figure 1 in https://arxiv.org/pdf/1612.05251.pdf)\n",
        "                                     mask_zero=False)        # don't use masks (this messes up model_5 if set to True"
      ],
      "metadata": {
        "id": "2mrF1nGKhaff"
      },
      "execution_count": 50,
      "outputs": []
    },
    {
      "cell_type": "code",
      "source": [
        "## checking character vectorizor layer:\n",
        "random_sentence=random.choice(train_chars)\n",
        "print(f\"random sentence is :{random_sentence}\\n\")\n",
        "print(f'Char vectorizor layer :{char_vectorizor([random_sentence])}\\n')\n"
      ],
      "metadata": {
        "colab": {
          "base_uri": "https://localhost:8080/"
        },
        "id": "IJ3lEdogiupf",
        "outputId": "a23feb6b-25fe-4964-d505-3a9d660e3309"
      },
      "execution_count": 54,
      "outputs": [
        {
          "output_type": "stream",
          "name": "stdout",
          "text": [
            "random sentence is :g e n e   e x p r e s s i o n   p r o f i l i n g   t e s t   s c o r e s   h a v e   p r i m a r i l y   b e e n   u s e d   t o   i d e n t i f y   h e a r t   t r a n s p l a n t   r e c i p i e n t s   w h o   h a v e   a   l o w   p r o b a b i l i t y   o f   r e j e c t i o n   a t   t h e   t i m e   o f   s u r v e i l l a n c e   t e s t i n g   .\n",
            "\n",
            "Char vectorizor layer :[[18  2  6  2  2 30 14  8  2  9  9  4  7  6 14  8  7 17  4 12  4  6 18  3\n",
            "   2  9  3  9 11  7  8  2  9 13  5 22  2 14  8  4 15  5  8  4 12 20 23  2\n",
            "   2  6 16  9  2 10  3  7  4 10  2  6  3  4 17 20 13  2  5  8  3  3  8  5\n",
            "   6  9 14 12  5  6  3  8  2 11  4 14  4  2  6  3  9 21 13  7 13  5 22  2\n",
            "   5 12  7 21 14  8  7 23  5 23  4 12  4  3 20  7 17  8  2 37  2 11  3  4\n",
            "   7  6  5  3  3 13  2  3  4 15  2  7 17  9 16  8 22  2  4 12 12  5  6 11\n",
            "   2  3  2  9  3  4  6 18 25  0  0  0  0  0  0  0  0  0  0  0  0  0  0  0\n",
            "   0  0  0  0  0  0  0  0  0  0  0  0  0  0  0  0  0  0  0  0  0  0  0  0\n",
            "   0  0  0  0  0  0  0  0  0  0  0  0  0  0  0  0  0  0  0  0  0  0  0  0\n",
            "   0  0  0  0  0  0  0  0  0  0  0  0  0  0  0  0  0  0  0  0  0  0  0  0\n",
            "   0  0  0  0  0  0  0  0  0  0  0  0  0  0  0  0  0  0  0  0  0  0  0  0\n",
            "   0  0  0  0  0  0  0  0  0  0  0  0  0  0  0  0  0  0  0  0  0  0  0  0\n",
            "   0  0]]\n",
            "\n"
          ]
        }
      ]
    },
    {
      "cell_type": "code",
      "source": [
        "# Testing character embedding layer\n",
        "print(f\"Charified text (before vectorization and embedding):\\n{random_sentence}\\n\")\n",
        "char_embed_example = char_embed(char_vectorizor([random_sentence]))\n",
        "print(f\"Embedded chars (after vectorization and embedding):\\n{char_embed_example}\\n\")\n",
        "print(f\"Character embedding shape: {char_embed_example.shape}\")"
      ],
      "metadata": {
        "colab": {
          "base_uri": "https://localhost:8080/"
        },
        "id": "UvPQ9E10l2Ei",
        "outputId": "bcb18c82-1d85-461d-ac9d-c73824ca2688"
      },
      "execution_count": 55,
      "outputs": [
        {
          "output_type": "stream",
          "name": "stdout",
          "text": [
            "Charified text (before vectorization and embedding):\n",
            "g e n e   e x p r e s s i o n   p r o f i l i n g   t e s t   s c o r e s   h a v e   p r i m a r i l y   b e e n   u s e d   t o   i d e n t i f y   h e a r t   t r a n s p l a n t   r e c i p i e n t s   w h o   h a v e   a   l o w   p r o b a b i l i t y   o f   r e j e c t i o n   a t   t h e   t i m e   o f   s u r v e i l l a n c e   t e s t i n g   .\n",
            "\n",
            "Embedded chars (after vectorization and embedding):\n",
            "[[[-0.01059945  0.03848007 -0.01301588 ... -0.03743071 -0.0498977\n",
            "   -0.01204125]\n",
            "  [ 0.03954727  0.00903891 -0.02554734 ... -0.03634654 -0.03170717\n",
            "    0.02436967]\n",
            "  [ 0.04058724  0.03648393  0.00266258 ...  0.02397852  0.04239846\n",
            "    0.01311816]\n",
            "  ...\n",
            "  [-0.0388683   0.0485981  -0.03232867 ...  0.04622832 -0.00523452\n",
            "   -0.04570807]\n",
            "  [-0.0388683   0.0485981  -0.03232867 ...  0.04622832 -0.00523452\n",
            "   -0.04570807]\n",
            "  [-0.0388683   0.0485981  -0.03232867 ...  0.04622832 -0.00523452\n",
            "   -0.04570807]]]\n",
            "\n",
            "Character embedding shape: (1, 290, 25)\n"
          ]
        }
      ]
    },
    {
      "cell_type": "code",
      "source": [
        "## creating the model_3:\n",
        "input=tf.keras.layers.Input(shape=(1,),dtype='string')\n",
        "x=char_vectorizor(input)\n",
        "x=char_embed(x)\n",
        "x=tf.keras.layers.Dense(128,activation='relu')(x)\n",
        "x=tf.keras.layers.GlobalMaxPooling1D()(x)\n",
        "output=tf.keras.layers.Dense(num_classes,activation='sigmoid')(x)\n",
        "model_3=tf.keras.Model(input,output)\n",
        "\n",
        "## compiling the model_3\n",
        "model_3.compile(loss=tf.keras.losses.BinaryCrossentropy(),\n",
        "                optimizer=tf.keras.optimizers.Adam(),\n",
        "                metrics=['accuracy'])\n",
        "model_3.summary()## getting the summary"
      ],
      "metadata": {
        "colab": {
          "base_uri": "https://localhost:8080/"
        },
        "id": "-SFHoN21oDyv",
        "outputId": "77445c30-7dbd-4d7f-a9ee-7d5093fdc908"
      },
      "execution_count": 56,
      "outputs": [
        {
          "output_type": "stream",
          "name": "stdout",
          "text": [
            "Model: \"model_2\"\n",
            "_________________________________________________________________\n",
            " Layer (type)                Output Shape              Param #   \n",
            "=================================================================\n",
            " input_3 (InputLayer)        [(None, 1)]               0         \n",
            "                                                                 \n",
            " text_vectorization_1 (TextV  (None, 290)              0         \n",
            " ectorization)                                                   \n",
            "                                                                 \n",
            " embedding_1 (Embedding)     (None, 290, 25)           1750      \n",
            "                                                                 \n",
            " dense_3 (Dense)             (None, 290, 128)          3328      \n",
            "                                                                 \n",
            " global_max_pooling1d_1 (Glo  (None, 128)              0         \n",
            " balMaxPooling1D)                                                \n",
            "                                                                 \n",
            " dense_4 (Dense)             (None, 5)                 645       \n",
            "                                                                 \n",
            "=================================================================\n",
            "Total params: 5,723\n",
            "Trainable params: 5,723\n",
            "Non-trainable params: 0\n",
            "_________________________________________________________________\n"
          ]
        }
      ]
    },
    {
      "cell_type": "code",
      "source": [
        "# Plot hybrid token and character model\n",
        "from tensorflow.keras.utils  import plot_model\n",
        "plot_model(model_3)"
      ],
      "metadata": {
        "colab": {
          "base_uri": "https://localhost:8080/",
          "height": 564
        },
        "id": "YpJ7IyWlDNOI",
        "outputId": "c61d229e-6d22-4314-f57e-2e619e28574b"
      },
      "execution_count": 57,
      "outputs": [
        {
          "output_type": "execute_result",
          "data": {
            "text/plain": [
              "<IPython.core.display.Image object>"
            ],
            "image/png": "[encoded data removed]"
          },
          "metadata": {},
          "execution_count": 57
        }
      ]
    },
    {
      "cell_type": "code",
      "source": [
        "## converting into dataset for enhaced performance:\n",
        "train_char_dataset=tf.data.Dataset.from_tensor_slices((train_chars, train_labels_one_hot)).batch(32).prefetch(tf.data.AUTOTUNE)\n",
        "valid_char_dataset=tf.data.Dataset.from_tensor_slices((val_chars,val_labels_one_hot)).batch(32).prefetch(tf.data.AUTOTUNE)"
      ],
      "metadata": {
        "id": "-4BLI8awrjJk"
      },
      "execution_count": 58,
      "outputs": []
    },
    {
      "cell_type": "code",
      "source": [
        "## Fitting the mokdel:\n",
        "model_3_history= model_3.fit(train_char_dataset,\n",
        "                             validation_data=valid_char_dataset,\n",
        "                             validation_steps=int(0.25*len(valid_char_dataset)),\n",
        "                             steps_per_epoch=int(0.25*len(train_char_dataset)),\n",
        "                             epochs=5)"
      ],
      "metadata": {
        "colab": {
          "base_uri": "https://localhost:8080/"
        },
        "id": "M5g2YtZPpYhG",
        "outputId": "b438f72a-74b4-4230-bfe2-14cf2561e9eb"
      },
      "execution_count": 59,
      "outputs": [
        {
          "output_type": "stream",
          "name": "stdout",
          "text": [
            "Epoch 1/5\n",
            "1406/1406 [==============================] - 16s 11ms/step - loss: 0.4094 - accuracy: 0.4737 - val_loss: 0.3863 - val_accuracy: 0.5197\n",
            "Epoch 2/5\n",
            "1406/1406 [==============================] - 21s 15ms/step - loss: 0.3858 - accuracy: 0.5137 - val_loss: 0.3825 - val_accuracy: 0.5281\n",
            "Epoch 3/5\n",
            "1406/1406 [==============================] - 22s 16ms/step - loss: 0.3815 - accuracy: 0.5183 - val_loss: 0.3780 - val_accuracy: 0.5297\n",
            "Epoch 4/5\n",
            "1406/1406 [==============================] - 15s 11ms/step - loss: 0.3824 - accuracy: 0.5214 - val_loss: 0.3768 - val_accuracy: 0.5351\n",
            "Epoch 5/5\n",
            "   1/1406 [..............................] - ETA: 18s - loss: 0.3738 - accuracy: 0.5312WARNING:tensorflow:Your input ran out of data; interrupting training. Make sure that your dataset or generator can generate at least `steps_per_epoch * epochs` batches (in this case, 7030 batches). You may need to use the repeat() function when building your dataset.\n"
          ]
        },
        {
          "output_type": "stream",
          "name": "stderr",
          "text": [
            "WARNING:tensorflow:Your input ran out of data; interrupting training. Make sure that your dataset or generator can generate at least `steps_per_epoch * epochs` batches (in this case, 7030 batches). You may need to use the repeat() function when building your dataset.\n"
          ]
        },
        {
          "output_type": "stream",
          "name": "stdout",
          "text": [
            "\b\b\b\b\b\b\b\b\b\b\b\b\b\b\b\b\b\b\b\b\b\b\b\b\b\b\b\b\b\b\b\b\b\b\b\b\b\b\b\b\b\b\b\b\b\b\b\b\b\b\b\b\b\b\b\b\b\b\b\b\b\b\b\b\b\b\b\b\b\b\b\b\b\b\b\b\b\b\b\b\b\b\b\b\b\b\b\r1406/1406 [==============================] - 1s 752us/step - loss: 0.3853 - accuracy: 0.4583 - val_loss: 0.3772 - val_accuracy: 0.5347\n"
          ]
        }
      ]
    },
    {
      "cell_type": "code",
      "source": [
        "# Evaluate on whole validation dataset\n",
        "model_3.evaluate(valid_char_dataset)"
      ],
      "metadata": {
        "colab": {
          "base_uri": "https://localhost:8080/"
        },
        "id": "HnwGXlsSuZRn",
        "outputId": "07f07998-535a-4315-803f-57a851dfeab3"
      },
      "execution_count": 60,
      "outputs": [
        {
          "output_type": "stream",
          "name": "stdout",
          "text": [
            "945/945 [==============================] - 5s 5ms/step - loss: 0.3761 - accuracy: 0.5337\n"
          ]
        },
        {
          "output_type": "execute_result",
          "data": {
            "text/plain": [
              "[0.376143217086792, 0.5336952209472656]"
            ]
          },
          "metadata": {},
          "execution_count": 60
        }
      ]
    },
    {
      "cell_type": "code",
      "source": [
        "## predicting the possible probabilities:\n",
        "model_3_pred_prob=model_3.predict(valid_char_dataset)\n",
        "model_3_pred= np.argmax(model_3_pred_prob,axis=1)\n",
        "model_3_pred"
      ],
      "metadata": {
        "colab": {
          "base_uri": "https://localhost:8080/"
        },
        "id": "BF1j4g9qu0nu",
        "outputId": "f6253d82-fc5f-4e33-e12f-6d3039172681"
      },
      "execution_count": 61,
      "outputs": [
        {
          "output_type": "execute_result",
          "data": {
            "text/plain": [
              "array([2, 4, 2, ..., 4, 4, 2])"
            ]
          },
          "metadata": {},
          "execution_count": 61
        }
      ]
    },
    {
      "cell_type": "code",
      "source": [
        "print(model_3_pred[:10])\n",
        "print(class_names[model_3_pred][:10])"
      ],
      "metadata": {
        "colab": {
          "base_uri": "https://localhost:8080/"
        },
        "id": "-IKiASMEu0q-",
        "outputId": "f50d2d1f-4922-4702-b533-1035cfa51ff2"
      },
      "execution_count": 62,
      "outputs": [
        {
          "output_type": "stream",
          "name": "stdout",
          "text": [
            "[2 4 2 2 2 2 2 2 4 2]\n",
            "['METHODS' 'RESULTS' 'METHODS' 'METHODS' 'METHODS' 'METHODS' 'METHODS'\n",
            " 'METHODS' 'RESULTS' 'METHODS']\n"
          ]
        }
      ]
    },
    {
      "cell_type": "code",
      "source": [
        "model_3_results=calculate_results(valid_label_encoder,model_3_pred)\n",
        "model_3_results"
      ],
      "metadata": {
        "colab": {
          "base_uri": "https://localhost:8080/"
        },
        "id": "xDSviVDOu87G",
        "outputId": "95a1984b-027a-41c7-edad-57bfef903737"
      },
      "execution_count": 63,
      "outputs": [
        {
          "output_type": "execute_result",
          "data": {
            "text/plain": [
              "{'accuracy': 53.369522044220844,\n",
              " 'f1': 0.5186759283062559,\n",
              " 'precision': 0.5426506523506364,\n",
              " 'recall': 0.5336952204422084}"
            ]
          },
          "metadata": {},
          "execution_count": 63
        }
      ]
    },
    {
      "cell_type": "markdown",
      "source": [
        "####Model 4: Combining pretrained token embeddings + character embeddings (hybrid embedding layer)\n",
        "\n",
        "\n",
        "This hybrid token embedding layer is a combination of token embeddings and character embeddings. In other words, they create a stacked embedding to represent sequences before passing them to the sequence label prediction layer.\n",
        "\n",
        "So far we've built two models which have used token and character-level embeddings, however, these two models have used each of these embeddings exclusively.\n",
        "\n",
        "To start replicating (or getting close to replicating) the model in Figure 1, we're going to go through the following steps:\n",
        "\n",
        "* Create a token-level model (similar to model_1)\n",
        "* Create a character-level model (similar to model_3 with a slight modification to reflect the paper)\n",
        "* Combine (using layers.Concatenate) the outputs of 1 and 2\n",
        "* Build a series of output layers on top of 3 similar to Figure 1 and section 4.2 of Neural Networks for Joint Sentence Classification in Medical Paper Abstracts\n",
        "* Construct a model which takes token and character-level sequences as input and produces sequence label probabilities as output"
      ],
      "metadata": {
        "id": "TfjghNHSwjLX"
      }
    },
    {
      "cell_type": "code",
      "source": [
        "# 1. Setup token inputs/model-2  (layer)\n",
        "token_input=tf.keras.layers.Input(shape=[],dtype=tf.string)\n",
        "x=hub_embed(token_input)\n",
        "token_output=tf.keras.layers.Dense(num_classes,activation='relu')(x)\n",
        "token_model=tf.keras.Model(token_input,token_output)\n",
        "\n",
        "\n",
        "# 2. Setup char inputs/model-3  (layer_2)\n",
        "char_input=tf.keras.layers.Input(shape=(1,),dtype='string')\n",
        "x=char_vectorizor(char_input)\n",
        "x=char_embed(x)\n",
        "x=tf.keras.layers.Bidirectional(tf.keras.layers.LSTM(25))(x)\n",
        "char_output=tf.keras.layers.Dense(128,activation='relu')(x)\n",
        "char_model = tf.keras.Model(inputs=char_input,outputs=char_output)\n",
        "\n",
        "# 3. Concatenate token and char inputs (create hybrid token embedding)\n",
        "token_char_concat=tf.keras.layers.Concatenate(name='token_char_hybrid')([token_model.output,char_model.output])\n"
      ],
      "metadata": {
        "id": "Oq5UH6GQw504"
      },
      "execution_count": 64,
      "outputs": []
    },
    {
      "cell_type": "markdown",
      "source": [
        "**tf.keras.layers.Dropout(rate, noise_shape=None, seed=None, **kwargs)**\n",
        "\n",
        "#### Applies Dropout to the input.\n",
        "\n",
        "---\n",
        "\n",
        "The Dropout layer randomly sets input units to 0 with a frequency of rate at \n",
        "\n",
        "* each step during training time, which helps prevent overfitting.\n",
        "* Inputs not set to 0 are scaled up by 1/(1 - rate) such that the sum over all inputs is unchanged.\n",
        "\n",
        "**Note :** that the Dropout layer only applies when training is set to **True** such that no values are dropped during inference.\n",
        "\n",
        "When using **model.fit**, training will be appropriately set to True automatically, and in other contexts, you can set the kwarg explicitly to True when calling the layer.\n",
        "\n",
        "(This is in contrast to setting **trainable=False** for a Dropout layer. trainable does not affect the layer's behavior, as Dropout does not have any variables/weights that can be frozen during training.)\n"
      ],
      "metadata": {
        "id": "P14rHUlD-lbO"
      }
    },
    {
      "cell_type": "code",
      "source": [
        "# 4. Create output layers - addition of dropout discussed in 4.2 of [https://arxiv.org/pdf/1612.05251.pdf]\n",
        "combined_dropout=tf.keras.layers.Dropout(0.5)(token_char_concat)                          # dropout rate is 0.5 taken (layer 4)\n",
        "combined_dense =tf.keras.layers.Dense(200, activation='relu')(combined_dropout)          # (layer 5)\n",
        "final_dropout =tf.keras.layers.Dropout(0.5)(combined_dense)                              # (layer 6) \n",
        "output_layer = tf.keras.layers.Dense(num_classes, activation=\"softmax\")(final_dropout)   # (layer 7)\n",
        "\n",
        "# 5. Construct model with char and token inputs\n",
        "model_4 = tf.keras.Model(inputs=[token_model.input, char_model.input],\n",
        "                         outputs=output_layer,\n",
        "                         name=\"model_4_token_and_char_embeddings\")"
      ],
      "metadata": {
        "id": "aC1qo4WL_uDB"
      },
      "execution_count": 65,
      "outputs": []
    },
    {
      "cell_type": "code",
      "source": [
        "model_4.summary()"
      ],
      "metadata": {
        "colab": {
          "base_uri": "https://localhost:8080/"
        },
        "id": "nAk3JQEy5C7F",
        "outputId": "011a7359-994a-464e-c6bf-155ddbb63a90"
      },
      "execution_count": 66,
      "outputs": [
        {
          "output_type": "stream",
          "name": "stdout",
          "text": [
            "Model: \"model_4_token_and_char_embeddings\"\n",
            "__________________________________________________________________________________________________\n",
            " Layer (type)                   Output Shape         Param #     Connected to                     \n",
            "==================================================================================================\n",
            " input_5 (InputLayer)           [(None, 1)]          0           []                               \n",
            "                                                                                                  \n",
            " text_vectorization_1 (TextVect  (None, 290)         0           ['input_5[0][0]']                \n",
            " orization)                                                                                       \n",
            "                                                                                                  \n",
            " input_4 (InputLayer)           [(None,)]            0           []                               \n",
            "                                                                                                  \n",
            " embedding_1 (Embedding)        (None, 290, 25)      1750        ['text_vectorization_1[1][0]']   \n",
            "                                                                                                  \n",
            " universal_sentence_encoder (Ke  (None, 512)         256797824   ['input_4[0][0]']                \n",
            " rasLayer)                                                                                        \n",
            "                                                                                                  \n",
            " bidirectional (Bidirectional)  (None, 50)           10200       ['embedding_1[1][0]']            \n",
            "                                                                                                  \n",
            " dense_5 (Dense)                (None, 5)            2565        ['universal_sentence_encoder[1][0\n",
            "                                                                 ]']                              \n",
            "                                                                                                  \n",
            " dense_6 (Dense)                (None, 128)          6528        ['bidirectional[0][0]']          \n",
            "                                                                                                  \n",
            " token_char_hybrid (Concatenate  (None, 133)         0           ['dense_5[0][0]',                \n",
            " )                                                                'dense_6[0][0]']                \n",
            "                                                                                                  \n",
            " dropout (Dropout)              (None, 133)          0           ['token_char_hybrid[0][0]']      \n",
            "                                                                                                  \n",
            " dense_7 (Dense)                (None, 200)          26800       ['dropout[0][0]']                \n",
            "                                                                                                  \n",
            " dropout_1 (Dropout)            (None, 200)          0           ['dense_7[0][0]']                \n",
            "                                                                                                  \n",
            " dense_8 (Dense)                (None, 5)            1005        ['dropout_1[0][0]']              \n",
            "                                                                                                  \n",
            "==================================================================================================\n",
            "Total params: 256,846,672\n",
            "Trainable params: 48,848\n",
            "Non-trainable params: 256,797,824\n",
            "__________________________________________________________________________________________________\n"
          ]
        }
      ]
    },
    {
      "cell_type": "code",
      "source": [
        "# Plot hybrid token and character model\n",
        "from tensorflow.keras.utils import plot_model\n",
        "plot_model(model_4,)"
      ],
      "metadata": {
        "colab": {
          "base_uri": "https://localhost:8080/",
          "height": 953
        },
        "id": "fsZMy_cYB9Gq",
        "outputId": "02bfa692-a14d-4a8e-c97d-f77a427f067f"
      },
      "execution_count": 67,
      "outputs": [
        {
          "output_type": "execute_result",
          "data": {
            "text/plain": [
              "<IPython.core.display.Image object>"
            ],
            "image/png": "[encoded data removed]"
          },
          "metadata": {},
          "execution_count": 67
        }
      ]
    },
    {
      "cell_type": "code",
      "source": [
        "# Compile token char model\n",
        "model_4.compile(loss=tf.keras.losses.BinaryCrossentropy(),\n",
        "                optimizer=tf.keras.optimizers.Adam(),\n",
        "                metrics=[\"accuracy\"])\n"
      ],
      "metadata": {
        "id": "DBdPrl2aC9Qy"
      },
      "execution_count": 68,
      "outputs": []
    },
    {
      "cell_type": "code",
      "source": [
        "## efficient processing pipeline:\n",
        "train_token_char_data=tf.data.Dataset.from_tensor_slices((train_sentences,train_chars))\n",
        "train_token_char_label=tf.data.Dataset.from_tensor_slices(train_labels_one_hot)\n",
        "train_token_char_dataset=tf.data.Dataset.zip((train_token_char_data,train_token_char_label)).batch(32).prefetch(tf.data.AUTOTUNE)\n",
        "\n",
        "valid_token_char_data=tf.data.Dataset.from_tensor_slices((val_sentences,val_chars))\n",
        "valid_token_char_label=tf.data.Dataset.from_tensor_slices((val_labels_one_hot))\n",
        "valid_token_char_dataset=tf.data.Dataset.zip((valid_token_char_data,valid_token_char_label)).batch(32).prefetch(tf.data.AUTOTUNE)"
      ],
      "metadata": {
        "id": "istIXy-UYqHi"
      },
      "execution_count": 69,
      "outputs": []
    },
    {
      "cell_type": "code",
      "source": [
        "#fitting the model:\n",
        "history_model_4=model_4.fit(train_token_char_dataset,\n",
        "                            validation_data=valid_token_char_dataset,\n",
        "                            epochs=5,\n",
        "                            steps_per_epoch=int(0.25*len(train_token_char_dataset)),\n",
        "                            validation_steps=int(0.25*len(valid_token_char_dataset)))"
      ],
      "metadata": {
        "colab": {
          "base_uri": "https://localhost:8080/"
        },
        "id": "gUJGqp4OYo0Z",
        "outputId": "e955f1b5-c69e-45db-b328-bcff1bda02d7"
      },
      "execution_count": 70,
      "outputs": [
        {
          "output_type": "stream",
          "name": "stdout",
          "text": [
            "Epoch 1/5\n",
            "1406/1406 [==============================] - 170s 117ms/step - loss: 0.3812 - accuracy: 0.5156 - val_loss: 0.3043 - val_accuracy: 0.6506\n",
            "Epoch 2/5\n",
            "1406/1406 [==============================] - 162s 116ms/step - loss: 0.3341 - accuracy: 0.5906 - val_loss: 0.2878 - val_accuracy: 0.6680\n",
            "Epoch 3/5\n",
            "1406/1406 [==============================] - 163s 116ms/step - loss: 0.3154 - accuracy: 0.6222 - val_loss: 0.2805 - val_accuracy: 0.6813\n",
            "Epoch 4/5\n",
            "1406/1406 [==============================] - 163s 116ms/step - loss: 0.3067 - accuracy: 0.6364 - val_loss: 0.2728 - val_accuracy: 0.7018\n",
            "Epoch 5/5\n",
            "   3/1406 [..............................] - ETA: 2:27 - loss: 0.3356 - accuracy: 0.5694WARNING:tensorflow:Your input ran out of data; interrupting training. Make sure that your dataset or generator can generate at least `steps_per_epoch * epochs` batches (in this case, 7030 batches). You may need to use the repeat() function when building your dataset.\n"
          ]
        },
        {
          "output_type": "stream",
          "name": "stderr",
          "text": [
            "WARNING:tensorflow:Your input ran out of data; interrupting training. Make sure that your dataset or generator can generate at least `steps_per_epoch * epochs` batches (in this case, 7030 batches). You may need to use the repeat() function when building your dataset.\n"
          ]
        },
        {
          "output_type": "stream",
          "name": "stdout",
          "text": [
            "\b\b\b\b\b\b\b\b\b\b\b\b\b\b\b\b\b\b\b\b\b\b\b\b\b\b\b\b\b\b\b\b\b\b\b\b\b\b\b\b\b\b\b\b\b\b\b\b\b\b\b\b\b\b\b\b\b\b\b\b\b\b\b\b\b\b\b\b\b\b\b\b\b\b\b\b\b\b\b\b\b\b\b\b\b\b\b\b\r1406/1406 [==============================] - 11s 8ms/step - loss: 0.3356 - accuracy: 0.5694 - val_loss: 0.2718 - val_accuracy: 0.7001\n"
          ]
        }
      ]
    },
    {
      "cell_type": "code",
      "source": [
        "# Evaluate on the whole validation dataset\n",
        "model_4.evaluate(valid_token_char_dataset)"
      ],
      "metadata": {
        "colab": {
          "base_uri": "https://localhost:8080/"
        },
        "id": "Kw0Y9MTpYgpk",
        "outputId": "67abe5ad-3b8f-40e6-c3ae-832b0b5f2d2a"
      },
      "execution_count": 71,
      "outputs": [
        {
          "output_type": "stream",
          "name": "stdout",
          "text": [
            "945/945 [==============================] - 49s 52ms/step - loss: 0.2703 - accuracy: 0.7036\n"
          ]
        },
        {
          "output_type": "execute_result",
          "data": {
            "text/plain": [
              "[0.27028149366378784, 0.7035946249961853]"
            ]
          },
          "metadata": {},
          "execution_count": 71
        }
      ]
    },
    {
      "cell_type": "code",
      "source": [
        "# Make predictions using the token-character model hybrid\n",
        "model_4_pred_probs = model_4.predict(valid_token_char_dataset)\n",
        "model_4_pred_probs"
      ],
      "metadata": {
        "colab": {
          "base_uri": "https://localhost:8080/"
        },
        "id": "oH6dmBexYLoJ",
        "outputId": "577fe3a9-f63e-45fc-cfe7-47c077b9f29f"
      },
      "execution_count": 72,
      "outputs": [
        {
          "output_type": "execute_result",
          "data": {
            "text/plain": [
              "array([[3.3109811e-01, 4.4701093e-01, 7.6033391e-02, 6.8036251e-02,\n",
              "        7.7821247e-02],\n",
              "       [3.2896781e-01, 4.1387025e-01, 9.7066641e-02, 8.0101065e-02,\n",
              "        7.9994261e-02],\n",
              "       [5.5208313e-01, 1.0687615e-01, 4.3177128e-02, 2.8034139e-01,\n",
              "        1.7522139e-02],\n",
              "       ...,\n",
              "       [4.3359385e-05, 1.2711872e-03, 6.0267765e-03, 2.8440156e-06,\n",
              "        9.9265587e-01],\n",
              "       [8.5740453e-03, 5.2658219e-02, 3.0951637e-01, 2.6598375e-03,\n",
              "        6.2659156e-01],\n",
              "       [1.1491960e-01, 6.5961444e-01, 6.2671974e-02, 3.2662448e-02,\n",
              "        1.3013154e-01]], dtype=float32)"
            ]
          },
          "metadata": {},
          "execution_count": 72
        }
      ]
    },
    {
      "cell_type": "code",
      "source": [
        "# Turn prediction probabilities into prediction classes\n",
        "model_4_preds = tf.argmax(model_4_pred_probs,axis=1)\n",
        "model_4_preds"
      ],
      "metadata": {
        "colab": {
          "base_uri": "https://localhost:8080/"
        },
        "id": "QEuk8NWoiTL6",
        "outputId": "dbbba2f5-8ad3-4f42-da24-42350f33f244"
      },
      "execution_count": 73,
      "outputs": [
        {
          "output_type": "execute_result",
          "data": {
            "text/plain": [
              "<tf.Tensor: shape=(30212,), dtype=int64, numpy=array([1, 1, 0, ..., 4, 4, 1])>"
            ]
          },
          "metadata": {},
          "execution_count": 73
        }
      ]
    },
    {
      "cell_type": "code",
      "source": [
        "model_4_results=calculate_results(valid_label_encoder,model_4_preds)\n",
        "model_4_results"
      ],
      "metadata": {
        "colab": {
          "base_uri": "https://localhost:8080/"
        },
        "id": "2r6igrNljTC7",
        "outputId": "f15ae957-18d5-41d1-8d55-8721c7e97563"
      },
      "execution_count": 74,
      "outputs": [
        {
          "output_type": "execute_result",
          "data": {
            "text/plain": [
              "{'accuracy': 70.35945981729115,\n",
              " 'f1': 0.6929930741735105,\n",
              " 'precision': 0.6963587059625882,\n",
              " 'recall': 0.7035945981729115}"
            ]
          },
          "metadata": {},
          "execution_count": 74
        }
      ]
    },
    {
      "cell_type": "code",
      "source": [
        "class_names[model_4_preds][:10]"
      ],
      "metadata": {
        "colab": {
          "base_uri": "https://localhost:8080/"
        },
        "id": "I1egZaAbi_8f",
        "outputId": "e45e8a50-84a6-43a5-d973-3568617c90b8"
      },
      "execution_count": 75,
      "outputs": [
        {
          "output_type": "execute_result",
          "data": {
            "text/plain": [
              "array(['CONCLUSIONS', 'CONCLUSIONS', 'BACKGROUND', 'METHODS', 'METHODS',\n",
              "       'METHODS', 'METHODS', 'METHODS', 'RESULTS', 'METHODS'],\n",
              "      dtype=object)"
            ]
          },
          "metadata": {},
          "execution_count": 75
        }
      ]
    },
    {
      "cell_type": "markdown",
      "source": [
        "###Model 5: Transfer Learning with pretrained token embeddings + character embeddings + positional embeddings\n",
        "\n",
        "\n",
        "It seems like combining token embeddings and character embeddings gave our model a little performance boost.\n",
        "\n",
        "But there's one more piece of the puzzle we can add in.\n",
        "\n",
        "What if we engineered our own features into the model?\n",
        "\n",
        "Meaning, what if we took our own knowledge about the data and encoded it in a numerical way to give our model more information about our samples?\n",
        "\n",
        "The process of applying your own knowledge to build features as input to a model is called **feature engineering.**\n",
        "\n",
        "Can you think of something important about the sequences we're trying to classify?\n",
        "\n",
        "If you were to look at an abstract, would you expect the sentences to appear in order? Or does it make sense if they were to appear sequentially? For example, sequences labelled CONCLUSIONS at the beggining and sequences labelled OBJECTIVE at the end?\n",
        "\n",
        "Abstracts typically come in a sequential order, such as:\n",
        "\n",
        "\n",
        "\n",
        "\n",
        "* OBJECTIVE ...\n",
        "* METHODS ...\n",
        "* METHODS ...\n",
        "* METHODS ...\n",
        "* RESULTS ...\n",
        "* CONCLUSIONS ...\n",
        "\n",
        "\n",
        "> or\n",
        "\n",
        "\n",
        "\n",
        "* BACKGROUND ...\n",
        "* OBJECTIVE ...\n",
        "* METHODS ...\n",
        "* METHODS ...\n",
        "* RESULTS ...\n",
        "* RESULTS ...\n",
        "* CONCLUSIONS ...\n",
        "* CONCLUSIONS ...\n",
        ">Of course, we can't engineer the sequence labels themselves into the training data (we don't have these at test time), but we can encode the order of a set of sequences in an abstract.\n",
        "\n",
        "For example,\n",
        "\n",
        "* Sentence 1 of 10 ...\n",
        "* Sentence 2 of 10 ...\n",
        "* Sentence 3 of 10 ...\n",
        "* Sentence 4 of 10 ...\n",
        "...\n",
        ">You might've noticed this when we created our preprocess_text_with_line_numbers() function. When we read in a text file of abstracts, we counted the number of lines in an abstract as well as the number of each line itself.\n",
        "\n",
        "Doing this led to the \"line_number\" and \"total_lines\" columns of our DataFrames."
      ],
      "metadata": {
        "id": "3e5fx1cekNKX"
      }
    },
    {
      "cell_type": "code",
      "source": [
        "## inspeting the dataframe (created above)\n",
        "train_df[:15]"
      ],
      "metadata": {
        "colab": {
          "base_uri": "https://localhost:8080/",
          "height": 520
        },
        "id": "ZlhnESeakPVk",
        "outputId": "ef003544-755b-443b-c52b-a9752cabf0fe"
      },
      "execution_count": 76,
      "outputs": [
        {
          "output_type": "execute_result",
          "data": {
            "text/plain": [
              "         Target                                               Text  \\\n",
              "0     OBJECTIVE  to investigate the efficacy of @ weeks of dail...   \n",
              "1       METHODS  a total of @ patients with primary knee oa wer...   \n",
              "2       METHODS  outcome measures included pain reduction and i...   \n",
              "3       METHODS  pain was assessed using the visual analog pain...   \n",
              "4       METHODS  secondary outcome measures included the wester...   \n",
              "5       METHODS  serum levels of interleukin @ ( il-@ ) , il-@ ...   \n",
              "6       RESULTS  there was a clinically relevant reduction in t...   \n",
              "7       RESULTS  the mean difference between treatment arms ( @...   \n",
              "8       RESULTS  further , there was a clinically relevant redu...   \n",
              "9       RESULTS  these differences remained significant at @ we...   \n",
              "10      RESULTS  the outcome measures in rheumatology clinical ...   \n",
              "11  CONCLUSIONS  low-dose oral prednisolone had both a short-te...   \n",
              "12   BACKGROUND  emotional eating is associated with overeating...   \n",
              "13   BACKGROUND  yet , empirical evidence for individual ( trai...   \n",
              "14    OBJECTIVE  the aim of this study was to test if attention...   \n",
              "\n",
              "    Line_number  Total_lines  \n",
              "0             0           11  \n",
              "1             1           11  \n",
              "2             2           11  \n",
              "3             3           11  \n",
              "4             4           11  \n",
              "5             5           11  \n",
              "6             6           11  \n",
              "7             7           11  \n",
              "8             8           11  \n",
              "9             9           11  \n",
              "10           10           11  \n",
              "11           11           11  \n",
              "12            0           10  \n",
              "13            1           10  \n",
              "14            2           10  "
            ],
            "text/html": [
              "\n",
              "  <div id=\"df-64664ea3-85b2-47c6-9c17-95db413b8077\">\n",
              "    <div class=\"colab-df-container\">\n",
              "      <div>\n",
              "<style scoped>\n",
              "    .dataframe tbody tr th:only-of-type {\n",
              "        vertical-align: middle;\n",
              "    }\n",
              "\n",
              "    .dataframe tbody tr th {\n",
              "        vertical-align: top;\n",
              "    }\n",
              "\n",
              "    .dataframe thead th {\n",
              "        text-align: right;\n",
              "    }\n",
              "</style>\n",
              "<table border=\"1\" class=\"dataframe\">\n",
              "  <thead>\n",
              "    <tr style=\"text-align: right;\">\n",
              "      <th></th>\n",
              "      <th>Target</th>\n",
              "      <th>Text</th>\n",
              "      <th>Line_number</th>\n",
              "      <th>Total_lines</th>\n",
              "    </tr>\n",
              "  </thead>\n",
              "  <tbody>\n",
              "    <tr>\n",
              "      <th>0</th>\n",
              "      <td>OBJECTIVE</td>\n",
              "      <td>to investigate the efficacy of @ weeks of dail...</td>\n",
              "      <td>0</td>\n",
              "      <td>11</td>\n",
              "    </tr>\n",
              "    <tr>\n",
              "      <th>1</th>\n",
              "      <td>METHODS</td>\n",
              "      <td>a total of @ patients with primary knee oa wer...</td>\n",
              "      <td>1</td>\n",
              "      <td>11</td>\n",
              "    </tr>\n",
              "    <tr>\n",
              "      <th>2</th>\n",
              "      <td>METHODS</td>\n",
              "      <td>outcome measures included pain reduction and i...</td>\n",
              "      <td>2</td>\n",
              "      <td>11</td>\n",
              "    </tr>\n",
              "    <tr>\n",
              "      <th>3</th>\n",
              "      <td>METHODS</td>\n",
              "      <td>pain was assessed using the visual analog pain...</td>\n",
              "      <td>3</td>\n",
              "      <td>11</td>\n",
              "    </tr>\n",
              "    <tr>\n",
              "      <th>4</th>\n",
              "      <td>METHODS</td>\n",
              "      <td>secondary outcome measures included the wester...</td>\n",
              "      <td>4</td>\n",
              "      <td>11</td>\n",
              "    </tr>\n",
              "    <tr>\n",
              "      <th>5</th>\n",
              "      <td>METHODS</td>\n",
              "      <td>serum levels of interleukin @ ( il-@ ) , il-@ ...</td>\n",
              "      <td>5</td>\n",
              "      <td>11</td>\n",
              "    </tr>\n",
              "    <tr>\n",
              "      <th>6</th>\n",
              "      <td>RESULTS</td>\n",
              "      <td>there was a clinically relevant reduction in t...</td>\n",
              "      <td>6</td>\n",
              "      <td>11</td>\n",
              "    </tr>\n",
              "    <tr>\n",
              "      <th>7</th>\n",
              "      <td>RESULTS</td>\n",
              "      <td>the mean difference between treatment arms ( @...</td>\n",
              "      <td>7</td>\n",
              "      <td>11</td>\n",
              "    </tr>\n",
              "    <tr>\n",
              "      <th>8</th>\n",
              "      <td>RESULTS</td>\n",
              "      <td>further , there was a clinically relevant redu...</td>\n",
              "      <td>8</td>\n",
              "      <td>11</td>\n",
              "    </tr>\n",
              "    <tr>\n",
              "      <th>9</th>\n",
              "      <td>RESULTS</td>\n",
              "      <td>these differences remained significant at @ we...</td>\n",
              "      <td>9</td>\n",
              "      <td>11</td>\n",
              "    </tr>\n",
              "    <tr>\n",
              "      <th>10</th>\n",
              "      <td>RESULTS</td>\n",
              "      <td>the outcome measures in rheumatology clinical ...</td>\n",
              "      <td>10</td>\n",
              "      <td>11</td>\n",
              "    </tr>\n",
              "    <tr>\n",
              "      <th>11</th>\n",
              "      <td>CONCLUSIONS</td>\n",
              "      <td>low-dose oral prednisolone had both a short-te...</td>\n",
              "      <td>11</td>\n",
              "      <td>11</td>\n",
              "    </tr>\n",
              "    <tr>\n",
              "      <th>12</th>\n",
              "      <td>BACKGROUND</td>\n",
              "      <td>emotional eating is associated with overeating...</td>\n",
              "      <td>0</td>\n",
              "      <td>10</td>\n",
              "    </tr>\n",
              "    <tr>\n",
              "      <th>13</th>\n",
              "      <td>BACKGROUND</td>\n",
              "      <td>yet , empirical evidence for individual ( trai...</td>\n",
              "      <td>1</td>\n",
              "      <td>10</td>\n",
              "    </tr>\n",
              "    <tr>\n",
              "      <th>14</th>\n",
              "      <td>OBJECTIVE</td>\n",
              "      <td>the aim of this study was to test if attention...</td>\n",
              "      <td>2</td>\n",
              "      <td>10</td>\n",
              "    </tr>\n",
              "  </tbody>\n",
              "</table>\n",
              "</div>\n",
              "      <button class=\"colab-df-convert\" onclick=\"convertToInteractive('df-64664ea3-85b2-47c6-9c17-95db413b8077')\"\n",
              "              title=\"Convert this dataframe to an interactive table.\"\n",
              "              style=\"display:none;\">\n",
              "        \n",
              "  <svg xmlns=\"http://www.w3.org/2000/svg\" height=\"24px\"viewBox=\"0 0 24 24\"\n",
              "       width=\"24px\">\n",
              "    <path d=\"M0 0h24v24H0V0z\" fill=\"none\"/>\n",
              "    <path d=\"M18.56 5.44l.94 2.06.94-2.06 2.06-.94-2.06-.94-.94-2.06-.94 2.06-2.06.94zm-11 1L8.5 8.5l.94-2.06 2.06-.94-2.06-.94L8.5 2.5l-.94 2.06-2.06.94zm10 10l.94 2.06.94-2.06 2.06-.94-2.06-.94-.94-2.06-.94 2.06-2.06.94z\"/><path d=\"M17.41 7.96l-1.37-1.37c-.4-.4-.92-.59-1.43-.59-.52 0-1.04.2-1.43.59L10.3 9.45l-7.72 7.72c-.78.78-.78 2.05 0 2.83L4 21.41c.39.39.9.59 1.41.59.51 0 1.02-.2 1.41-.59l7.78-7.78 2.81-2.81c.8-.78.8-2.07 0-2.86zM5.41 20L4 18.59l7.72-7.72 1.47 1.35L5.41 20z\"/>\n",
              "  </svg>\n",
              "      </button>\n",
              "      \n",
              "  <style>\n",
              "    .colab-df-container {\n",
              "      display:flex;\n",
              "      flex-wrap:wrap;\n",
              "      gap: 12px;\n",
              "    }\n",
              "\n",
              "    .colab-df-convert {\n",
              "      background-color: #E8F0FE;\n",
              "      border: none;\n",
              "      border-radius: 50%;\n",
              "      cursor: pointer;\n",
              "      display: none;\n",
              "      fill: #1967D2;\n",
              "      height: 32px;\n",
              "      padding: 0 0 0 0;\n",
              "      width: 32px;\n",
              "    }\n",
              "\n",
              "    .colab-df-convert:hover {\n",
              "      background-color: #E2EBFA;\n",
              "      box-shadow: 0px 1px 2px rgba(60, 64, 67, 0.3), 0px 1px 3px 1px rgba(60, 64, 67, 0.15);\n",
              "      fill: #174EA6;\n",
              "    }\n",
              "\n",
              "    [theme=dark] .colab-df-convert {\n",
              "      background-color: #3B4455;\n",
              "      fill: #D2E3FC;\n",
              "    }\n",
              "\n",
              "    [theme=dark] .colab-df-convert:hover {\n",
              "      background-color: #434B5C;\n",
              "      box-shadow: 0px 1px 3px 1px rgba(0, 0, 0, 0.15);\n",
              "      filter: drop-shadow(0px 1px 2px rgba(0, 0, 0, 0.3));\n",
              "      fill: #FFFFFF;\n",
              "    }\n",
              "  </style>\n",
              "\n",
              "      <script>\n",
              "        const buttonEl =\n",
              "          document.querySelector('#df-64664ea3-85b2-47c6-9c17-95db413b8077 button.colab-df-convert');\n",
              "        buttonEl.style.display =\n",
              "          google.colab.kernel.accessAllowed ? 'block' : 'none';\n",
              "\n",
              "        async function convertToInteractive(key) {\n",
              "          const element = document.querySelector('#df-64664ea3-85b2-47c6-9c17-95db413b8077');\n",
              "          const dataTable =\n",
              "            await google.colab.kernel.invokeFunction('convertToInteractive',\n",
              "                                                     [key], {});\n",
              "          if (!dataTable) return;\n",
              "\n",
              "          const docLinkHtml = 'Like what you see? Visit the ' +\n",
              "            '<a target=\"_blank\" href=https://colab.research.google.com/notebooks/data_table.ipynb>data table notebook</a>'\n",
              "            + ' to learn more about interactive tables.';\n",
              "          element.innerHTML = '';\n",
              "          dataTable['output_type'] = 'display_data';\n",
              "          await google.colab.output.renderOutput(dataTable, element);\n",
              "          const docLink = document.createElement('div');\n",
              "          docLink.innerHTML = docLinkHtml;\n",
              "          element.appendChild(docLink);\n",
              "        }\n",
              "      </script>\n",
              "    </div>\n",
              "  </div>\n",
              "  "
            ]
          },
          "metadata": {},
          "execution_count": 76
        }
      ]
    },
    {
      "cell_type": "markdown",
      "source": [
        "\n",
        "The \"line_number\" and \"total_lines\" columns are features which didn't necessarily come with the training data but can be passed to our model as a positional embedding. In other words, the positional embedding is where the sentence appears in an abstract."
      ],
      "metadata": {
        "id": "uCpgOktTmtvX"
      }
    },
    {
      "cell_type": "code",
      "source": [
        "# How many different line numbers are there?\n",
        "train_df[\"Line_number\"].value_counts()"
      ],
      "metadata": {
        "colab": {
          "base_uri": "https://localhost:8080/"
        },
        "id": "crpEsLXSl7hR",
        "outputId": "e42a1711-eca3-4084-9ed2-49ee77fe5598"
      },
      "execution_count": 77,
      "outputs": [
        {
          "output_type": "execute_result",
          "data": {
            "text/plain": [
              "0     15000\n",
              "1     15000\n",
              "2     15000\n",
              "3     15000\n",
              "4     14992\n",
              "5     14949\n",
              "6     14758\n",
              "7     14279\n",
              "8     13346\n",
              "9     11981\n",
              "10    10041\n",
              "11     7892\n",
              "12     5853\n",
              "13     4152\n",
              "14     2835\n",
              "15     1861\n",
              "16     1188\n",
              "17      751\n",
              "18      462\n",
              "19      286\n",
              "20      162\n",
              "21      101\n",
              "22       66\n",
              "23       33\n",
              "24       22\n",
              "25       14\n",
              "26        7\n",
              "27        4\n",
              "28        3\n",
              "29        1\n",
              "30        1\n",
              "Name: Line_number, dtype: int64"
            ]
          },
          "metadata": {},
          "execution_count": 77
        }
      ]
    },
    {
      "cell_type": "code",
      "source": [
        "train_df.Line_number.plot.hist();"
      ],
      "metadata": {
        "colab": {
          "base_uri": "https://localhost:8080/",
          "height": 265
        },
        "id": "fTXwOG5En2Ef",
        "outputId": "cd567950-bbeb-49eb-f310-80865267bec3"
      },
      "execution_count": 78,
      "outputs": [
        {
          "output_type": "display_data",
          "data": {
            "text/plain": [
              "<Figure size 432x288 with 1 Axes>"
            ],
            "image/png": "[encoded data removed]"
          },
          "metadata": {
            "needs_background": "light"
          }
        }
      ]
    },
    {
      "cell_type": "code",
      "source": [
        "# How many different total lines are there?\n",
        "train_df[\"Total_lines\"].value_counts()"
      ],
      "metadata": {
        "colab": {
          "base_uri": "https://localhost:8080/"
        },
        "id": "bWNquPwVm1qn",
        "outputId": "ad6ecdc7-ad25-4cb1-f163-ab8871067ec2"
      },
      "execution_count": 79,
      "outputs": [
        {
          "output_type": "execute_result",
          "data": {
            "text/plain": [
              "11    24468\n",
              "10    23639\n",
              "12    22113\n",
              "9     19400\n",
              "13    18438\n",
              "14    14610\n",
              "8     12285\n",
              "15    10768\n",
              "7      7464\n",
              "16     7429\n",
              "17     5202\n",
              "6      3353\n",
              "18     3344\n",
              "19     2480\n",
              "20     1281\n",
              "5      1146\n",
              "21      770\n",
              "22      759\n",
              "23      264\n",
              "4       215\n",
              "24      200\n",
              "25      182\n",
              "26       81\n",
              "28       58\n",
              "3        32\n",
              "30       31\n",
              "27       28\n",
              "Name: Total_lines, dtype: int64"
            ]
          },
          "metadata": {},
          "execution_count": 79
        }
      ]
    },
    {
      "cell_type": "code",
      "source": [
        "train_df.Total_lines.plot.hist();"
      ],
      "metadata": {
        "colab": {
          "base_uri": "https://localhost:8080/",
          "height": 267
        },
        "id": "L6B5tivBnGtr",
        "outputId": "fb940ad1-5fc2-4632-ed24-87271c2f6feb"
      },
      "execution_count": 80,
      "outputs": [
        {
          "output_type": "display_data",
          "data": {
            "text/plain": [
              "<Figure size 432x288 with 1 Axes>"
            ],
            "image/png": "[encoded data removed]"
          },
          "metadata": {
            "needs_background": "light"
          }
        }
      ]
    },
    {
      "cell_type": "code",
      "source": [
        "# Use TensorFlow to create one-hot-encoded tensors of our \"line_number\" column \n",
        "train_line_numbers_one_hot = tf.one_hot(train_df[\"Line_number\"].to_numpy(), depth=15)\n",
        "val_line_numbers_one_hot = tf.one_hot(val_df[\"Line_number\"].to_numpy(), depth=15)\n",
        "test_line_numbers_one_hot = tf.one_hot(test_df[\"Line_number\"].to_numpy(), depth=15)"
      ],
      "metadata": {
        "id": "-YGVmtWAnzDT"
      },
      "execution_count": 81,
      "outputs": []
    },
    {
      "cell_type": "code",
      "source": [
        "# using tensorflow create one hot encoded tensor of \"Total_line\" column\n",
        "train_total_line_one_hot=tf.one_hot(train_df['Total_lines'].to_numpy(),depth=20)\n",
        "val_total_line_one_hot=tf.one_hot(val_df['Total_lines'].to_numpy(),depth=20)\n",
        "test_total_line_one_hot=tf.one_hot(test_df['Total_lines'].to_numpy(),depth=20)"
      ],
      "metadata": {
        "id": "hX_wJ4W6oPA4"
      },
      "execution_count": 82,
      "outputs": []
    },
    {
      "cell_type": "code",
      "source": [
        "train_total_line_one_hot.shape,train_line_numbers_one_hot.shape"
      ],
      "metadata": {
        "colab": {
          "base_uri": "https://localhost:8080/"
        },
        "id": "RIagilQfpYj4",
        "outputId": "7d4ea1c5-de98-4571-9f27-bc1de44bd183"
      },
      "execution_count": 83,
      "outputs": [
        {
          "output_type": "execute_result",
          "data": {
            "text/plain": [
              "(TensorShape([180040, 20]), TensorShape([180040, 15]))"
            ]
          },
          "metadata": {},
          "execution_count": 83
        }
      ]
    },
    {
      "cell_type": "code",
      "source": [
        "train_total_line_one_hot.dtype,train_line_numbers_one_hot.dtype"
      ],
      "metadata": {
        "colab": {
          "base_uri": "https://localhost:8080/"
        },
        "id": "In3r-bPLvPL7",
        "outputId": "db6ce6aa-707a-4a65-faab-86b1d7d5d474"
      },
      "execution_count": 84,
      "outputs": [
        {
          "output_type": "execute_result",
          "data": {
            "text/plain": [
              "(tf.float32, tf.float32)"
            ]
          },
          "metadata": {},
          "execution_count": 84
        }
      ]
    },
    {
      "cell_type": "markdown",
      "source": [
        ">Building a tribrid embedding model\n",
        "\n",
        "\n",
        ">It's time to build the biggest model we've built yet. One which incorporates token embeddings, character embeddings and our newly crafted positional embeddings.\n",
        "\n",
        "\n",
        "> we're going to go through the following steps:\n",
        "\n",
        "* Create a token-level model (similar to model_1)\n",
        "*  Create a character-level model (similar to model_3 with a slight \n",
        "*  modification to reflect the paper)\n",
        "* Create a \"line_number\" model (takes in one-hot-encoded \"line_number\" tensor and passes it through a non-linear layer)\n",
        "* Create a \"total_lines\" model (takes in one-hot-encoded \"total_lines\" tensor and passes it through a non-linear layer)\n",
        "* Combine (using layers.Concatenate) the outputs of 1 and 2 into a token-character-hybrid embedding and pass it series of output to Figure 1 and section 4.2 of Neural Networks for Joint Sentence Classification in Medical \n",
        "Paper Abstracts\n",
        "* Combine (using layers.Concatenate) the outputs of 3, 4 and 5 into a token-character-positional tribrid embedding\n",
        "* Create an output layer to accept the tribrid embedding and output predicted label probabilities\n",
        "* Combine the inputs of 1, 2, 3, 4 and outputs of 7 into a tf.keras.Model\n",
        "\n",
        "\n",
        "\n"
      ],
      "metadata": {
        "id": "grrUSwS6pv7u"
      }
    },
    {
      "cell_type": "code",
      "source": [
        "# 1. Setup token inputs/model-2  (layer)\n",
        "token_input=tf.keras.layers.Input(shape=[],dtype=tf.string)\n",
        "x=hub_embed(token_input)\n",
        "token_output=tf.keras.layers.Dense(num_classes,activation='relu')(x)\n",
        "token_model=tf.keras.Model(token_input,token_output)\n",
        "\n",
        "\n",
        "# 2. Setup char inputs/model-3  (layer_2)\n",
        "char_input=tf.keras.layers.Input(shape=(1,),dtype='string')\n",
        "x=char_vectorizor(char_input)\n",
        "x=char_embed(x)\n",
        "x=tf.keras.layers.Bidirectional(tf.keras.layers.LSTM(25))(x)\n",
        "char_output=tf.keras.layers.Dense(128,activation='relu')(x)\n",
        "char_model = tf.keras.Model(inputs=char_input,outputs=char_output)\n",
        "\n",
        "# 3. Line numbers inputs\n",
        "line_number_inputs = tf.keras.layers.Input(shape=(15,), dtype=tf.int32, name=\"line_number_input\")\n",
        "x =  tf.keras.layers.Dense(32, activation=\"relu\")(line_number_inputs)\n",
        "line_number_model = tf.keras.Model(inputs=line_number_inputs,\n",
        "                                   outputs=x)\n",
        "\n",
        "# 4. Total lines inputs\n",
        "total_lines_inputs =  tf.keras.layers.Input(shape=(20,), dtype=tf.int32, name=\"total_lines_input\")\n",
        "x =  tf.keras.layers.Dense(32, activation=\"relu\")(total_lines_inputs)\n",
        "total_line_model = tf.keras.Model(inputs=total_lines_inputs,\n",
        "                                  outputs=x)\n",
        "\n",
        "# 5. Combine token and char embeddings into a hybrid embedding\n",
        "combined_embeddings =  tf.keras.layers.Concatenate(name=\"token_char_hybrid_embedding\")([token_model.output, \n",
        "                                                                              char_model.output])\n",
        "z =  tf.keras.layers.Dense(256, activation=\"relu\")(combined_embeddings)\n",
        "z =  tf.keras.layers.Dropout(0.5)(z)\n",
        "\n",
        "# 6. Combine positional embeddings with combined token and char embeddings into a tribrid embedding\n",
        "z =  tf.keras.layers.Concatenate(name=\"token_char_positional_embedding\")([line_number_model.output,\n",
        "                                                                          total_line_model.output,z])\n",
        "\n",
        "# 7. Create output layer\n",
        "output_layer = tf.keras.layers.Dense(5, activation=\"softmax\", name=\"output_layer\")(z)\n",
        "\n",
        "# 8. Put together model\n",
        "model_5 = tf.keras.Model(inputs=[line_number_model.input,\n",
        "                                 total_line_model.input,\n",
        "                                 token_model.input, \n",
        "                                 char_model.input],\n",
        "                         outputs=output_layer)"
      ],
      "metadata": {
        "id": "DuIrqT7vd5CF"
      },
      "execution_count": 85,
      "outputs": []
    },
    {
      "cell_type": "code",
      "source": [
        "# Get a summary of our token, char and positional embedding model\n",
        "model_5.summary()"
      ],
      "metadata": {
        "colab": {
          "base_uri": "https://localhost:8080/"
        },
        "id": "VjizjSvYenhm",
        "outputId": "3f0c2147-eeb1-44a2-dc67-15f8bcff8e47"
      },
      "execution_count": 86,
      "outputs": [
        {
          "output_type": "stream",
          "name": "stdout",
          "text": [
            "Model: \"model_9\"\n",
            "__________________________________________________________________________________________________\n",
            " Layer (type)                   Output Shape         Param #     Connected to                     \n",
            "==================================================================================================\n",
            " input_7 (InputLayer)           [(None, 1)]          0           []                               \n",
            "                                                                                                  \n",
            " text_vectorization_1 (TextVect  (None, 290)         0           ['input_7[0][0]']                \n",
            " orization)                                                                                       \n",
            "                                                                                                  \n",
            " input_6 (InputLayer)           [(None,)]            0           []                               \n",
            "                                                                                                  \n",
            " embedding_1 (Embedding)        (None, 290, 25)      1750        ['text_vectorization_1[2][0]']   \n",
            "                                                                                                  \n",
            " universal_sentence_encoder (Ke  (None, 512)         256797824   ['input_6[0][0]']                \n",
            " rasLayer)                                                                                        \n",
            "                                                                                                  \n",
            " bidirectional_1 (Bidirectional  (None, 50)          10200       ['embedding_1[2][0]']            \n",
            " )                                                                                                \n",
            "                                                                                                  \n",
            " dense_9 (Dense)                (None, 5)            2565        ['universal_sentence_encoder[2][0\n",
            "                                                                 ]']                              \n",
            "                                                                                                  \n",
            " dense_10 (Dense)               (None, 128)          6528        ['bidirectional_1[0][0]']        \n",
            "                                                                                                  \n",
            " token_char_hybrid_embedding (C  (None, 133)         0           ['dense_9[0][0]',                \n",
            " oncatenate)                                                      'dense_10[0][0]']               \n",
            "                                                                                                  \n",
            " line_number_input (InputLayer)  [(None, 15)]        0           []                               \n",
            "                                                                                                  \n",
            " total_lines_input (InputLayer)  [(None, 20)]        0           []                               \n",
            "                                                                                                  \n",
            " dense_13 (Dense)               (None, 256)          34304       ['token_char_hybrid_embedding[0][\n",
            "                                                                 0]']                             \n",
            "                                                                                                  \n",
            " dense_11 (Dense)               (None, 32)           512         ['line_number_input[0][0]']      \n",
            "                                                                                                  \n",
            " dense_12 (Dense)               (None, 32)           672         ['total_lines_input[0][0]']      \n",
            "                                                                                                  \n",
            " dropout_2 (Dropout)            (None, 256)          0           ['dense_13[0][0]']               \n",
            "                                                                                                  \n",
            " token_char_positional_embeddin  (None, 320)         0           ['dense_11[0][0]',               \n",
            " g (Concatenate)                                                  'dense_12[0][0]',               \n",
            "                                                                  'dropout_2[0][0]']              \n",
            "                                                                                                  \n",
            " output_layer (Dense)           (None, 5)            1605        ['token_char_positional_embedding\n",
            "                                                                 [0][0]']                         \n",
            "                                                                                                  \n",
            "==================================================================================================\n",
            "Total params: 256,855,960\n",
            "Trainable params: 58,136\n",
            "Non-trainable params: 256,797,824\n",
            "__________________________________________________________________________________________________\n"
          ]
        }
      ]
    },
    {
      "cell_type": "code",
      "source": [
        "plot_model(model_5)"
      ],
      "metadata": {
        "colab": {
          "base_uri": "https://localhost:8080/",
          "height": 953
        },
        "id": "aqWmUGGLeoZb",
        "outputId": "82b99753-32f3-4f1c-cedb-54fd04864118"
      },
      "execution_count": 87,
      "outputs": [
        {
          "output_type": "execute_result",
          "data": {
            "text/plain": [
              "<IPython.core.display.Image object>"
            ],
            "image/png": "[encoded data removed]"
          },
          "metadata": {},
          "execution_count": 87
        }
      ]
    },
    {
      "cell_type": "code",
      "source": [
        "# Check which layers of our model are trainable or not\n",
        "for layer in model_5.layers:\n",
        "  print(layer, layer.trainable)"
      ],
      "metadata": {
        "colab": {
          "base_uri": "https://localhost:8080/"
        },
        "id": "G9scQcuXeqdK",
        "outputId": "ddf44811-7eb3-4f3c-d6fc-f5d7de86e88e"
      },
      "execution_count": 88,
      "outputs": [
        {
          "output_type": "stream",
          "name": "stdout",
          "text": [
            "<keras.engine.input_layer.InputLayer object at 0x7fcc595d9390> True\n",
            "<keras.layers.preprocessing.text_vectorization.TextVectorization object at 0x7fcc60096d90> True\n",
            "<keras.engine.input_layer.InputLayer object at 0x7fccd370d550> True\n",
            "<keras.layers.embeddings.Embedding object at 0x7fcc5bfb9a90> True\n",
            "<tensorflow_hub.keras_layer.KerasLayer object at 0x7fccd7a6f550> False\n",
            "<keras.layers.wrappers.Bidirectional object at 0x7fccd36bb910> True\n",
            "<keras.layers.core.dense.Dense object at 0x7fccd370d210> True\n",
            "<keras.layers.core.dense.Dense object at 0x7fccd37d2ed0> True\n",
            "<keras.layers.merge.Concatenate object at 0x7fccd37b48d0> True\n",
            "<keras.engine.input_layer.InputLayer object at 0x7fccd3aad190> True\n",
            "<keras.engine.input_layer.InputLayer object at 0x7fccd3793d50> True\n",
            "<keras.layers.core.dense.Dense object at 0x7fccd379fe10> True\n",
            "<keras.layers.core.dense.Dense object at 0x7fccd37b6fd0> True\n",
            "<keras.layers.core.dense.Dense object at 0x7fccd37b6a10> True\n",
            "<keras.layers.core.dropout.Dropout object at 0x7fccd37b4c50> True\n",
            "<keras.layers.merge.Concatenate object at 0x7fccd37b4ad0> True\n",
            "<keras.layers.core.dense.Dense object at 0x7fccd379fa50> True\n"
          ]
        }
      ]
    },
    {
      "cell_type": "code",
      "source": [
        "model_5.layers[4]# can release all the layer to enhance the result "
      ],
      "metadata": {
        "colab": {
          "base_uri": "https://localhost:8080/"
        },
        "id": "2lkynl5XevKE",
        "outputId": "baf2644d-19d8-48d5-e429-8bc5a9eb6dc5"
      },
      "execution_count": 89,
      "outputs": [
        {
          "output_type": "execute_result",
          "data": {
            "text/plain": [
              "<tensorflow_hub.keras_layer.KerasLayer at 0x7fccd7a6f550>"
            ]
          },
          "metadata": {},
          "execution_count": 89
        }
      ]
    },
    {
      "cell_type": "code",
      "source": [
        "# Compile token, char, positional embedding model\n",
        "model_5.compile(loss=tf.keras.losses.CategoricalCrossentropy(label_smoothing=0.2), # add label smoothing (examples which are really confident get smoothed a little)\n",
        "                optimizer=tf.keras.optimizers.Adam(),\n",
        "                metrics=[\"accuracy\"])"
      ],
      "metadata": {
        "id": "zM7BdMS2e0WN"
      },
      "execution_count": 90,
      "outputs": []
    },
    {
      "cell_type": "code",
      "source": [
        "# Create training and validation datasets (all four kinds of inputs)\n",
        "train_pos_char_token_data = tf.data.Dataset.from_tensor_slices((train_line_numbers_one_hot, # line numbers\n",
        "                                                                train_total_line_one_hot, # total lines\n",
        "                                                                train_sentences, # train tokens\n",
        "                                                                train_chars)) # train chars\n",
        "train_pos_char_token_labels = tf.data.Dataset.from_tensor_slices(train_labels_one_hot) # train labels\n",
        "train_pos_char_token_dataset = tf.data.Dataset.zip((train_pos_char_token_data, train_pos_char_token_labels)) # combine data and labels\n",
        "train_pos_char_token_dataset = train_pos_char_token_dataset.batch(32).prefetch(tf.data.AUTOTUNE) # turn into batches and prefetch appropriately\n",
        "\n",
        "# Validation dataset\n",
        "val_pos_char_token_data = tf.data.Dataset.from_tensor_slices((val_line_numbers_one_hot,\n",
        "                                                              val_total_line_one_hot,\n",
        "                                                              val_sentences,\n",
        "                                                              val_chars))\n",
        "val_pos_char_token_labels = tf.data.Dataset.from_tensor_slices(val_labels_one_hot)\n",
        "val_pos_char_token_dataset = tf.data.Dataset.zip((val_pos_char_token_data, val_pos_char_token_labels))\n",
        "val_pos_char_token_dataset = val_pos_char_token_dataset.batch(32).prefetch(tf.data.AUTOTUNE) # turn into batches and prefetch appropriately\n",
        "\n",
        "# Check input shapes\n",
        "train_pos_char_token_dataset, val_pos_char_token_dataset"
      ],
      "metadata": {
        "colab": {
          "base_uri": "https://localhost:8080/"
        },
        "id": "YXBNoFZjfDG-",
        "outputId": "bd4cfd79-618e-45f1-950d-4facf0c412d7"
      },
      "execution_count": 91,
      "outputs": [
        {
          "output_type": "execute_result",
          "data": {
            "text/plain": [
              "(<PrefetchDataset element_spec=((TensorSpec(shape=(None, 15), dtype=tf.float32, name=None), TensorSpec(shape=(None, 20), dtype=tf.float32, name=None), TensorSpec(shape=(None,), dtype=tf.string, name=None), TensorSpec(shape=(None,), dtype=tf.string, name=None)), TensorSpec(shape=(None, 5), dtype=tf.float64, name=None))>,\n",
              " <PrefetchDataset element_spec=((TensorSpec(shape=(None, 15), dtype=tf.float32, name=None), TensorSpec(shape=(None, 20), dtype=tf.float32, name=None), TensorSpec(shape=(None,), dtype=tf.string, name=None), TensorSpec(shape=(None,), dtype=tf.string, name=None)), TensorSpec(shape=(None, 5), dtype=tf.float64, name=None))>)"
            ]
          },
          "metadata": {},
          "execution_count": 91
        }
      ]
    },
    {
      "cell_type": "code",
      "source": [
        "# Fit the token, char and positional embedding model\n",
        "history_model_5 = model_5.fit(train_pos_char_token_dataset,\n",
        "                              steps_per_epoch=int(0.1 * len(train_pos_char_token_dataset)),\n",
        "                              epochs=5,\n",
        "                              validation_data=val_pos_char_token_dataset,\n",
        "                              validation_steps=int(0.1 * len(val_pos_char_token_dataset)))"
      ],
      "metadata": {
        "colab": {
          "base_uri": "https://localhost:8080/"
        },
        "id": "ZbGHWJGJfF4y",
        "outputId": "92f5fca1-2f66-4a5a-f687-33c00ddc981f"
      },
      "execution_count": 92,
      "outputs": [
        {
          "output_type": "stream",
          "name": "stdout",
          "text": [
            "Epoch 1/5\n",
            "562/562 [==============================] - 71s 119ms/step - loss: 1.1578 - accuracy: 0.6788 - val_loss: 1.0065 - val_accuracy: 0.7846\n",
            "Epoch 2/5\n",
            "562/562 [==============================] - 65s 115ms/step - loss: 0.9879 - accuracy: 0.8010 - val_loss: 0.9696 - val_accuracy: 0.8082\n",
            "Epoch 3/5\n",
            "562/562 [==============================] - 66s 117ms/step - loss: 0.9695 - accuracy: 0.8105 - val_loss: 0.9620 - val_accuracy: 0.8108\n",
            "Epoch 4/5\n",
            "562/562 [==============================] - 65s 115ms/step - loss: 0.9577 - accuracy: 0.8237 - val_loss: 0.9484 - val_accuracy: 0.8201\n",
            "Epoch 5/5\n",
            "562/562 [==============================] - 65s 116ms/step - loss: 0.9588 - accuracy: 0.8203 - val_loss: 0.9478 - val_accuracy: 0.8251\n"
          ]
        }
      ]
    },
    {
      "cell_type": "code",
      "source": [
        "# Make predictions with token-char-positional hybrid model\n",
        "model_5_pred_probs = model_5.predict(val_pos_char_token_dataset, verbose=1)\n",
        "model_5_pred_probs"
      ],
      "metadata": {
        "colab": {
          "base_uri": "https://localhost:8080/"
        },
        "id": "KlboTXJnfMa3",
        "outputId": "f069febc-c99c-4244-d58f-2525a087b6bd"
      },
      "execution_count": 93,
      "outputs": [
        {
          "output_type": "stream",
          "name": "stdout",
          "text": [
            "945/945 [==============================] - 52s 53ms/step\n"
          ]
        },
        {
          "output_type": "execute_result",
          "data": {
            "text/plain": [
              "array([[0.5291566 , 0.08097065, 0.02019414, 0.33616766, 0.03351091],\n",
              "       [0.5713879 , 0.07868951, 0.09573833, 0.23603408, 0.01815017],\n",
              "       [0.3576879 , 0.14015625, 0.1422568 , 0.28890386, 0.07099523],\n",
              "       ...,\n",
              "       [0.04818918, 0.08256998, 0.0462731 , 0.03009084, 0.79287696],\n",
              "       [0.02555041, 0.25199088, 0.11009289, 0.02302312, 0.58934265],\n",
              "       [0.07299177, 0.63231355, 0.17057547, 0.028688  , 0.09543122]],\n",
              "      dtype=float32)"
            ]
          },
          "metadata": {},
          "execution_count": 93
        }
      ]
    },
    {
      "cell_type": "code",
      "source": [
        "# Turn prediction probabilities into prediction classes\n",
        "model_5_preds = tf.argmax(model_5_pred_probs, axis=1)\n",
        "model_5_preds"
      ],
      "metadata": {
        "colab": {
          "base_uri": "https://localhost:8080/"
        },
        "id": "Q190mYLcfX76",
        "outputId": "f106fa7e-f0a9-49cb-cc93-ed2386f3ef88"
      },
      "execution_count": 94,
      "outputs": [
        {
          "output_type": "execute_result",
          "data": {
            "text/plain": [
              "<tf.Tensor: shape=(30212,), dtype=int64, numpy=array([0, 0, 0, ..., 4, 4, 1])>"
            ]
          },
          "metadata": {},
          "execution_count": 94
        }
      ]
    },
    {
      "cell_type": "code",
      "source": [
        "# Calculate results of token-char-positional hybrid model\n",
        "model_5_results = calculate_results(y_true=valid_label_encoder,\n",
        "                                    y_pred=model_5_preds)\n",
        "model_5_results"
      ],
      "metadata": {
        "colab": {
          "base_uri": "https://localhost:8080/"
        },
        "id": "yacLrL_GfbXc",
        "outputId": "26f52871-8d46-4f4a-ca02-ed7810336603"
      },
      "execution_count": 95,
      "outputs": [
        {
          "output_type": "execute_result",
          "data": {
            "text/plain": [
              "{'accuracy': 82.5963193433073,\n",
              " 'f1': 0.8215989967655076,\n",
              " 'precision': 0.8294250659009298,\n",
              " 'recall': 0.825963193433073}"
            ]
          },
          "metadata": {},
          "execution_count": 95
        }
      ]
    },
    {
      "cell_type": "markdown",
      "source": [
        "Model 6: Transfer Learning with pretrained convid embedding + character embeddings + positional embeddings"
      ],
      "metadata": {
        "id": "wVPDinqFhW14"
      }
    },
    {
      "cell_type": "code",
      "source": [
        "# 1. Setup token inputs/model-2  (layer)\n",
        "convd_input=tf.keras.layers.Input(shape=[],dtype=tf.string,name=\"convd_input\")\n",
        "x=text_vectorization(convd_input)\n",
        "x=token_embed(x)\n",
        "x = tf.keras.layers.Conv1D(64, kernel_size=5, padding=\"same\", activation=\"relu\")(x)\n",
        "x=tf.keras.layers.GlobalMaxPooling1D()(x)\n",
        "convd_output=tf.keras.layers.Dense(num_classes,activation='relu')(x)\n",
        "convd_model=tf.keras.Model(convd_input,convd_output)\n",
        "\n",
        "# 2. Setup char inputs/model-3  (layer_2)\n",
        "char_input=tf.keras.layers.Input(shape=(1,),dtype='string',name='char_input')\n",
        "x=char_vectorizor(char_input)\n",
        "x=char_embed(x)\n",
        "x=tf.keras.layers.Bidirectional(tf.keras.layers.LSTM(25))(x)\n",
        "char_output=tf.keras.layers.Dense(128,activation='relu')(x)\n",
        "char_model = tf.keras.Model(inputs=char_input,outputs=char_output)\n",
        "\n",
        "# 3. Line numbers inputs\n",
        "line_number_inputs = tf.keras.layers.Input(shape=(15,), dtype=tf.int32, name=\"line_number_input\")\n",
        "x =  tf.keras.layers.Dense(32, activation=\"relu\")(line_number_inputs)\n",
        "line_number_model = tf.keras.Model(inputs=line_number_inputs,\n",
        "                                   outputs=x)\n",
        "\n",
        "# 4. Total lines inputs\n",
        "total_lines_inputs =  tf.keras.layers.Input(shape=(20,), dtype=tf.int32, name=\"total_lines_input\")\n",
        "x =  tf.keras.layers.Dense(32, activation=\"relu\")(total_lines_inputs)\n",
        "total_line_model = tf.keras.Model(inputs=total_lines_inputs,\n",
        "                                  outputs=x)\n",
        "\n",
        "# 5. Combine token and char embeddings into a hybrid embedding\n",
        "combined_embeddings =  tf.keras.layers.Concatenate(name=\"convd_char_hybrid_embedding\")([convd_model.output, \n",
        "                                                                              char_model.output])\n",
        "z =  tf.keras.layers.Dense(256, activation=\"relu\")(combined_embeddings)\n",
        "z =  tf.keras.layers.Dropout(0.5)(z)\n",
        "\n",
        "# 6. Combine positional embeddings with combined token and char embeddings into a tribrid embedding\n",
        "z =  tf.keras.layers.Concatenate(name=\"convd_char_positional_embedding\")([line_number_model.output,\n",
        "                                                                          total_line_model.output,z])\n",
        "\n",
        "# 7. Create output layer\n",
        "output_layer = tf.keras.layers.Dense(5, activation=\"softmax\", name=\"output_layer\")(z)\n",
        "\n",
        "# 8. Put together model\n",
        "model_6 = tf.keras.Model(inputs=[line_number_model.input,\n",
        "                                 total_line_model.input,\n",
        "                                 convd_model.input, \n",
        "                                 char_model.input],\n",
        "                         outputs=output_layer)"
      ],
      "metadata": {
        "id": "r5wUqbJYhHKD"
      },
      "execution_count": 96,
      "outputs": []
    },
    {
      "cell_type": "code",
      "source": [
        "model_6.summary()"
      ],
      "metadata": {
        "colab": {
          "base_uri": "https://localhost:8080/"
        },
        "id": "Wh_f7fF7iN41",
        "outputId": "ca89aa29-2ab7-4f80-ea1a-892733de1e29"
      },
      "execution_count": 97,
      "outputs": [
        {
          "output_type": "stream",
          "name": "stdout",
          "text": [
            "Model: \"model_14\"\n",
            "__________________________________________________________________________________________________\n",
            " Layer (type)                   Output Shape         Param #     Connected to                     \n",
            "==================================================================================================\n",
            " convd_input (InputLayer)       [(None,)]            0           []                               \n",
            "                                                                                                  \n",
            " text_vectorization (TextVector  (None, 75)          0           ['convd_input[0][0]']            \n",
            " ization)                                                                                         \n",
            "                                                                                                  \n",
            " char_input (InputLayer)        [(None, 1)]          0           []                               \n",
            "                                                                                                  \n",
            " embedding (Embedding)          (None, 75, 128)      8299648     ['text_vectorization[1][0]']     \n",
            "                                                                                                  \n",
            " text_vectorization_1 (TextVect  (None, 290)         0           ['char_input[0][0]']             \n",
            " orization)                                                                                       \n",
            "                                                                                                  \n",
            " conv1d_1 (Conv1D)              (None, 75, 64)       41024       ['embedding[1][0]']              \n",
            "                                                                                                  \n",
            " embedding_1 (Embedding)        (None, 290, 25)      1750        ['text_vectorization_1[3][0]']   \n",
            "                                                                                                  \n",
            " global_max_pooling1d_2 (Global  (None, 64)          0           ['conv1d_1[0][0]']               \n",
            " MaxPooling1D)                                                                                    \n",
            "                                                                                                  \n",
            " bidirectional_2 (Bidirectional  (None, 50)          10200       ['embedding_1[3][0]']            \n",
            " )                                                                                                \n",
            "                                                                                                  \n",
            " dense_14 (Dense)               (None, 5)            325         ['global_max_pooling1d_2[0][0]'] \n",
            "                                                                                                  \n",
            " dense_15 (Dense)               (None, 128)          6528        ['bidirectional_2[0][0]']        \n",
            "                                                                                                  \n",
            " convd_char_hybrid_embedding (C  (None, 133)         0           ['dense_14[0][0]',               \n",
            " oncatenate)                                                      'dense_15[0][0]']               \n",
            "                                                                                                  \n",
            " line_number_input (InputLayer)  [(None, 15)]        0           []                               \n",
            "                                                                                                  \n",
            " total_lines_input (InputLayer)  [(None, 20)]        0           []                               \n",
            "                                                                                                  \n",
            " dense_18 (Dense)               (None, 256)          34304       ['convd_char_hybrid_embedding[0][\n",
            "                                                                 0]']                             \n",
            "                                                                                                  \n",
            " dense_16 (Dense)               (None, 32)           512         ['line_number_input[0][0]']      \n",
            "                                                                                                  \n",
            " dense_17 (Dense)               (None, 32)           672         ['total_lines_input[0][0]']      \n",
            "                                                                                                  \n",
            " dropout_3 (Dropout)            (None, 256)          0           ['dense_18[0][0]']               \n",
            "                                                                                                  \n",
            " convd_char_positional_embeddin  (None, 320)         0           ['dense_16[0][0]',               \n",
            " g (Concatenate)                                                  'dense_17[0][0]',               \n",
            "                                                                  'dropout_3[0][0]']              \n",
            "                                                                                                  \n",
            " output_layer (Dense)           (None, 5)            1605        ['convd_char_positional_embedding\n",
            "                                                                 [0][0]']                         \n",
            "                                                                                                  \n",
            "==================================================================================================\n",
            "Total params: 8,396,568\n",
            "Trainable params: 8,396,568\n",
            "Non-trainable params: 0\n",
            "__________________________________________________________________________________________________\n"
          ]
        }
      ]
    },
    {
      "cell_type": "code",
      "source": [
        "plot_model(model_6)"
      ],
      "metadata": {
        "colab": {
          "base_uri": "https://localhost:8080/",
          "height": 1000
        },
        "id": "cAmLT0ABi1PT",
        "outputId": "7f6b5801-3f39-4e9d-e662-79fc4c3ec012"
      },
      "execution_count": 98,
      "outputs": [
        {
          "output_type": "execute_result",
          "data": {
            "text/plain": [
              "<IPython.core.display.Image object>"
            ],
            "image/png": "[encoded data removed]"
          },
          "metadata": {},
          "execution_count": 98
        }
      ]
    },
    {
      "cell_type": "code",
      "source": [
        "# Compile convd, char, positional embedding model\n",
        "model_6.compile(loss=tf.keras.losses.CategoricalCrossentropy(label_smoothing=0.2), # add label smoothing (examples which are really confident get smoothed a little)\n",
        "                optimizer=tf.keras.optimizers.Adam(),\n",
        "                metrics=[\"accuracy\"])"
      ],
      "metadata": {
        "id": "YuvSumaKiNHg"
      },
      "execution_count": 99,
      "outputs": []
    },
    {
      "cell_type": "code",
      "source": [
        "# Create training and validation datasets (all four kinds of inputs)\n",
        "train_pos_char_convd_data = tf.data.Dataset.from_tensor_slices((train_line_numbers_one_hot, # line numbers\n",
        "                                                                train_total_line_one_hot, # total lines\n",
        "                                                                train_sentences, # train tokens\n",
        "                                                                train_chars)) # train chars\n",
        "train_pos_char_convd_labels = tf.data.Dataset.from_tensor_slices(train_labels_one_hot) # train labels\n",
        "train_pos_char_convd_dataset = tf.data.Dataset.zip((train_pos_char_token_data, train_pos_char_token_labels)).batch(32).prefetch(tf.data.AUTOTUNE) # turn into batches and prefetch appropriately\n",
        "\n",
        "# Validation dataset\n",
        "val_pos_char_convd_data = tf.data.Dataset.from_tensor_slices((val_line_numbers_one_hot,\n",
        "                                                              val_total_line_one_hot,\n",
        "                                                              val_sentences,\n",
        "                                                              val_chars))\n",
        "val_pos_char_convd_labels = tf.data.Dataset.from_tensor_slices(val_labels_one_hot)\n",
        "val_pos_char_convd_dataset = tf.data.Dataset.zip((val_pos_char_token_data, val_pos_char_token_labels)).batch(32).prefetch(tf.data.AUTOTUNE) # turn into batches and prefetch appropriately\n",
        "\n",
        "# Check input shapes\n",
        "train_pos_char_convd_dataset, val_pos_char_convd_dataset"
      ],
      "metadata": {
        "colab": {
          "base_uri": "https://localhost:8080/"
        },
        "id": "gQlqaBKvibOZ",
        "outputId": "3134a81a-55f0-4249-87f6-577c5937c53b"
      },
      "execution_count": 100,
      "outputs": [
        {
          "output_type": "execute_result",
          "data": {
            "text/plain": [
              "(<PrefetchDataset element_spec=((TensorSpec(shape=(None, 15), dtype=tf.float32, name=None), TensorSpec(shape=(None, 20), dtype=tf.float32, name=None), TensorSpec(shape=(None,), dtype=tf.string, name=None), TensorSpec(shape=(None,), dtype=tf.string, name=None)), TensorSpec(shape=(None, 5), dtype=tf.float64, name=None))>,\n",
              " <PrefetchDataset element_spec=((TensorSpec(shape=(None, 15), dtype=tf.float32, name=None), TensorSpec(shape=(None, 20), dtype=tf.float32, name=None), TensorSpec(shape=(None,), dtype=tf.string, name=None), TensorSpec(shape=(None,), dtype=tf.string, name=None)), TensorSpec(shape=(None, 5), dtype=tf.float64, name=None))>)"
            ]
          },
          "metadata": {},
          "execution_count": 100
        }
      ]
    },
    {
      "cell_type": "code",
      "source": [
        "# Fit the token, char and positional embedding model\n",
        "history_model_6 = model_6.fit(train_pos_char_convd_dataset,\n",
        "                              steps_per_epoch=int(0.25 * len(train_pos_char_convd_dataset)),\n",
        "                              epochs=3,\n",
        "                              validation_data=val_pos_char_convd_dataset,\n",
        "                              validation_steps=int(0.25 * len(val_pos_char_convd_dataset)))"
      ],
      "metadata": {
        "colab": {
          "base_uri": "https://localhost:8080/"
        },
        "id": "QWOTcV2ci7wt",
        "outputId": "4ece3575-2300-4157-f8d7-6f426e49233b"
      },
      "execution_count": 101,
      "outputs": [
        {
          "output_type": "stream",
          "name": "stdout",
          "text": [
            "Epoch 1/3\n",
            "1406/1406 [==============================] - 171s 118ms/step - loss: 0.9283 - accuracy: 0.8406 - val_loss: 0.8931 - val_accuracy: 0.8570\n",
            "Epoch 2/3\n",
            "1406/1406 [==============================] - 165s 117ms/step - loss: 0.8637 - accuracy: 0.8840 - val_loss: 0.8823 - val_accuracy: 0.8616\n",
            "Epoch 3/3\n",
            "1406/1406 [==============================] - 165s 117ms/step - loss: 0.8918 - accuracy: 0.8613 - val_loss: 0.8766 - val_accuracy: 0.8686\n"
          ]
        }
      ]
    },
    {
      "cell_type": "code",
      "source": [
        "# Evaluate on the whole validation dataset\n",
        "model_6.evaluate(val_pos_char_convd_dataset)\n",
        "model_6"
      ],
      "metadata": {
        "colab": {
          "base_uri": "https://localhost:8080/"
        },
        "id": "h3Mm5Wi1jA7V",
        "outputId": "c2a37e5f-e201-45f8-cef7-ef752ea95c68"
      },
      "execution_count": 102,
      "outputs": [
        {
          "output_type": "stream",
          "name": "stdout",
          "text": [
            "945/945 [==============================] - 40s 42ms/step - loss: 0.8752 - accuracy: 0.8707\n"
          ]
        },
        {
          "output_type": "execute_result",
          "data": {
            "text/plain": [
              "<keras.engine.functional.Functional at 0x7fcc441a4e10>"
            ]
          },
          "metadata": {},
          "execution_count": 102
        }
      ]
    },
    {
      "cell_type": "code",
      "source": [
        "# Make predictions with token-char-positional hybrid model\n",
        "model_6_pred_probs = model_6.predict(val_pos_char_convd_dataset, verbose=1)\n",
        "model_6_pred_probs"
      ],
      "metadata": {
        "colab": {
          "base_uri": "https://localhost:8080/"
        },
        "id": "dh5NboJXmWeM",
        "outputId": "9de1a053-a1b6-41c5-ccf6-51b04c14db26"
      },
      "execution_count": 103,
      "outputs": [
        {
          "output_type": "stream",
          "name": "stdout",
          "text": [
            "945/945 [==============================] - 36s 38ms/step\n"
          ]
        },
        {
          "output_type": "execute_result",
          "data": {
            "text/plain": [
              "array([[0.5824517 , 0.05998459, 0.0241634 , 0.2998936 , 0.03350672],\n",
              "       [0.6328928 , 0.12778455, 0.0583985 , 0.16032712, 0.02059699],\n",
              "       [0.37794632, 0.06931844, 0.09492153, 0.4147955 , 0.04301817],\n",
              "       ...,\n",
              "       [0.04023844, 0.06256936, 0.0329669 , 0.03722604, 0.82699925],\n",
              "       [0.04844132, 0.77505106, 0.02750227, 0.02358415, 0.12542108],\n",
              "       [0.05939996, 0.8869443 , 0.01096577, 0.02148086, 0.02120925]],\n",
              "      dtype=float32)"
            ]
          },
          "metadata": {},
          "execution_count": 103
        }
      ]
    },
    {
      "cell_type": "code",
      "source": [
        " #Turn prediction probabilities into prediction classes\n",
        "model_6_preds = tf.argmax(model_6_pred_probs, axis=1)\n",
        "model_6_preds"
      ],
      "metadata": {
        "colab": {
          "base_uri": "https://localhost:8080/"
        },
        "id": "TUIrvXLfm5It",
        "outputId": "15911399-8141-485c-d9d2-ff7102dd2c30"
      },
      "execution_count": 104,
      "outputs": [
        {
          "output_type": "execute_result",
          "data": {
            "text/plain": [
              "<tf.Tensor: shape=(30212,), dtype=int64, numpy=array([0, 0, 3, ..., 4, 1, 1])>"
            ]
          },
          "metadata": {},
          "execution_count": 104
        }
      ]
    },
    {
      "cell_type": "code",
      "source": [
        "# Calculate results of token-char-positional hybrid model\n",
        "model_6_results = calculate_results(y_true=valid_label_encoder,\n",
        "                                    y_pred=model_6_preds)\n",
        "model_6_results"
      ],
      "metadata": {
        "colab": {
          "base_uri": "https://localhost:8080/"
        },
        "id": "VbdXNIMBqtcx",
        "outputId": "cd64962b-0cd9-4bc5-8333-c4b81cfd3f15"
      },
      "execution_count": 105,
      "outputs": [
        {
          "output_type": "execute_result",
          "data": {
            "text/plain": [
              "{'accuracy': 87.0713623725672,\n",
              " 'f1': 0.8673290676910687,\n",
              " 'precision': 0.8755804578193562,\n",
              " 'recall': 0.870713623725672}"
            ]
          },
          "metadata": {},
          "execution_count": 105
        }
      ]
    },
    {
      "cell_type": "markdown",
      "source": [
        "###Compare model results"
      ],
      "metadata": {
        "id": "KaFVi7HQrQ5w"
      }
    },
    {
      "cell_type": "code",
      "source": [
        "# Combine model results into a DataFrame\n",
        "all_model_results = pd.DataFrame({\"baseline\": baseline_results,\n",
        "                                  \"custom_token_embed_conv1d\": model_1_results,\n",
        "                                  \"pretrained_token_embed\": model_2_results,\n",
        "                                  \"custom_char_embed_conv1d\": model_3_results,\n",
        "                                  \"hybrid_char_token_embed\": model_4_results,\n",
        "                                  \"tribrid_pos_char_token_embed\": model_5_results,\n",
        "                                  \"tribrid_pos_char_convd_embed\": model_6_results})\n",
        "all_model_results = all_model_results.transpose()\n",
        "all_model_results"
      ],
      "metadata": {
        "colab": {
          "base_uri": "https://localhost:8080/",
          "height": 269
        },
        "id": "ncVKQ-OErOHn",
        "outputId": "4bc06072-f027-4e8a-e146-b32f3bf4ca22"
      },
      "execution_count": 106,
      "outputs": [
        {
          "output_type": "execute_result",
          "data": {
            "text/plain": [
              "                               accuracy  precision    recall        f1\n",
              "baseline                      72.183238   0.718647  0.721832  0.698925\n",
              "custom_token_embed_conv1d     81.858202   0.818191  0.818582  0.815124\n",
              "pretrained_token_embed        74.721965   0.741390  0.747220  0.741869\n",
              "custom_char_embed_conv1d      53.369522   0.542651  0.533695  0.518676\n",
              "hybrid_char_token_embed       70.359460   0.696359  0.703595  0.692993\n",
              "tribrid_pos_char_token_embed  82.596319   0.829425  0.825963  0.821599\n",
              "tribrid_pos_char_convd_embed  87.071362   0.875580  0.870714  0.867329"
            ],
            "text/html": [
              "\n",
              "  <div id=\"df-ce02acad-551a-4cc3-887e-7e989f24634b\">\n",
              "    <div class=\"colab-df-container\">\n",
              "      <div>\n",
              "<style scoped>\n",
              "    .dataframe tbody tr th:only-of-type {\n",
              "        vertical-align: middle;\n",
              "    }\n",
              "\n",
              "    .dataframe tbody tr th {\n",
              "        vertical-align: top;\n",
              "    }\n",
              "\n",
              "    .dataframe thead th {\n",
              "        text-align: right;\n",
              "    }\n",
              "</style>\n",
              "<table border=\"1\" class=\"dataframe\">\n",
              "  <thead>\n",
              "    <tr style=\"text-align: right;\">\n",
              "      <th></th>\n",
              "      <th>accuracy</th>\n",
              "      <th>precision</th>\n",
              "      <th>recall</th>\n",
              "      <th>f1</th>\n",
              "    </tr>\n",
              "  </thead>\n",
              "  <tbody>\n",
              "    <tr>\n",
              "      <th>baseline</th>\n",
              "      <td>72.183238</td>\n",
              "      <td>0.718647</td>\n",
              "      <td>0.721832</td>\n",
              "      <td>0.698925</td>\n",
              "    </tr>\n",
              "    <tr>\n",
              "      <th>custom_token_embed_conv1d</th>\n",
              "      <td>81.858202</td>\n",
              "      <td>0.818191</td>\n",
              "      <td>0.818582</td>\n",
              "      <td>0.815124</td>\n",
              "    </tr>\n",
              "    <tr>\n",
              "      <th>pretrained_token_embed</th>\n",
              "      <td>74.721965</td>\n",
              "      <td>0.741390</td>\n",
              "      <td>0.747220</td>\n",
              "      <td>0.741869</td>\n",
              "    </tr>\n",
              "    <tr>\n",
              "      <th>custom_char_embed_conv1d</th>\n",
              "      <td>53.369522</td>\n",
              "      <td>0.542651</td>\n",
              "      <td>0.533695</td>\n",
              "      <td>0.518676</td>\n",
              "    </tr>\n",
              "    <tr>\n",
              "      <th>hybrid_char_token_embed</th>\n",
              "      <td>70.359460</td>\n",
              "      <td>0.696359</td>\n",
              "      <td>0.703595</td>\n",
              "      <td>0.692993</td>\n",
              "    </tr>\n",
              "    <tr>\n",
              "      <th>tribrid_pos_char_token_embed</th>\n",
              "      <td>82.596319</td>\n",
              "      <td>0.829425</td>\n",
              "      <td>0.825963</td>\n",
              "      <td>0.821599</td>\n",
              "    </tr>\n",
              "    <tr>\n",
              "      <th>tribrid_pos_char_convd_embed</th>\n",
              "      <td>87.071362</td>\n",
              "      <td>0.875580</td>\n",
              "      <td>0.870714</td>\n",
              "      <td>0.867329</td>\n",
              "    </tr>\n",
              "  </tbody>\n",
              "</table>\n",
              "</div>\n",
              "      <button class=\"colab-df-convert\" onclick=\"convertToInteractive('df-ce02acad-551a-4cc3-887e-7e989f24634b')\"\n",
              "              title=\"Convert this dataframe to an interactive table.\"\n",
              "              style=\"display:none;\">\n",
              "        \n",
              "  <svg xmlns=\"http://www.w3.org/2000/svg\" height=\"24px\"viewBox=\"0 0 24 24\"\n",
              "       width=\"24px\">\n",
              "    <path d=\"M0 0h24v24H0V0z\" fill=\"none\"/>\n",
              "    <path d=\"M18.56 5.44l.94 2.06.94-2.06 2.06-.94-2.06-.94-.94-2.06-.94 2.06-2.06.94zm-11 1L8.5 8.5l.94-2.06 2.06-.94-2.06-.94L8.5 2.5l-.94 2.06-2.06.94zm10 10l.94 2.06.94-2.06 2.06-.94-2.06-.94-.94-2.06-.94 2.06-2.06.94z\"/><path d=\"M17.41 7.96l-1.37-1.37c-.4-.4-.92-.59-1.43-.59-.52 0-1.04.2-1.43.59L10.3 9.45l-7.72 7.72c-.78.78-.78 2.05 0 2.83L4 21.41c.39.39.9.59 1.41.59.51 0 1.02-.2 1.41-.59l7.78-7.78 2.81-2.81c.8-.78.8-2.07 0-2.86zM5.41 20L4 18.59l7.72-7.72 1.47 1.35L5.41 20z\"/>\n",
              "  </svg>\n",
              "      </button>\n",
              "      \n",
              "  <style>\n",
              "    .colab-df-container {\n",
              "      display:flex;\n",
              "      flex-wrap:wrap;\n",
              "      gap: 12px;\n",
              "    }\n",
              "\n",
              "    .colab-df-convert {\n",
              "      background-color: #E8F0FE;\n",
              "      border: none;\n",
              "      border-radius: 50%;\n",
              "      cursor: pointer;\n",
              "      display: none;\n",
              "      fill: #1967D2;\n",
              "      height: 32px;\n",
              "      padding: 0 0 0 0;\n",
              "      width: 32px;\n",
              "    }\n",
              "\n",
              "    .colab-df-convert:hover {\n",
              "      background-color: #E2EBFA;\n",
              "      box-shadow: 0px 1px 2px rgba(60, 64, 67, 0.3), 0px 1px 3px 1px rgba(60, 64, 67, 0.15);\n",
              "      fill: #174EA6;\n",
              "    }\n",
              "\n",
              "    [theme=dark] .colab-df-convert {\n",
              "      background-color: #3B4455;\n",
              "      fill: #D2E3FC;\n",
              "    }\n",
              "\n",
              "    [theme=dark] .colab-df-convert:hover {\n",
              "      background-color: #434B5C;\n",
              "      box-shadow: 0px 1px 3px 1px rgba(0, 0, 0, 0.15);\n",
              "      filter: drop-shadow(0px 1px 2px rgba(0, 0, 0, 0.3));\n",
              "      fill: #FFFFFF;\n",
              "    }\n",
              "  </style>\n",
              "\n",
              "      <script>\n",
              "        const buttonEl =\n",
              "          document.querySelector('#df-ce02acad-551a-4cc3-887e-7e989f24634b button.colab-df-convert');\n",
              "        buttonEl.style.display =\n",
              "          google.colab.kernel.accessAllowed ? 'block' : 'none';\n",
              "\n",
              "        async function convertToInteractive(key) {\n",
              "          const element = document.querySelector('#df-ce02acad-551a-4cc3-887e-7e989f24634b');\n",
              "          const dataTable =\n",
              "            await google.colab.kernel.invokeFunction('convertToInteractive',\n",
              "                                                     [key], {});\n",
              "          if (!dataTable) return;\n",
              "\n",
              "          const docLinkHtml = 'Like what you see? Visit the ' +\n",
              "            '<a target=\"_blank\" href=https://colab.research.google.com/notebooks/data_table.ipynb>data table notebook</a>'\n",
              "            + ' to learn more about interactive tables.';\n",
              "          element.innerHTML = '';\n",
              "          dataTable['output_type'] = 'display_data';\n",
              "          await google.colab.output.renderOutput(dataTable, element);\n",
              "          const docLink = document.createElement('div');\n",
              "          docLink.innerHTML = docLinkHtml;\n",
              "          element.appendChild(docLink);\n",
              "        }\n",
              "      </script>\n",
              "    </div>\n",
              "  </div>\n",
              "  "
            ]
          },
          "metadata": {},
          "execution_count": 106
        }
      ]
    },
    {
      "cell_type": "code",
      "source": [
        "# Reduce the accuracy to same scale as other metrics\n",
        "all_model_results[\"accuracy\"] = all_model_results[\"accuracy\"]/100\n",
        "all_model_results[\"accuracy\"]"
      ],
      "metadata": {
        "colab": {
          "base_uri": "https://localhost:8080/"
        },
        "id": "mc_-7OpNr-Hi",
        "outputId": "ca4ef7b2-4146-4fec-fc03-6c4f131edc3b"
      },
      "execution_count": 107,
      "outputs": [
        {
          "output_type": "execute_result",
          "data": {
            "text/plain": [
              "baseline                        0.721832\n",
              "custom_token_embed_conv1d       0.818582\n",
              "pretrained_token_embed          0.747220\n",
              "custom_char_embed_conv1d        0.533695\n",
              "hybrid_char_token_embed         0.703595\n",
              "tribrid_pos_char_token_embed    0.825963\n",
              "tribrid_pos_char_convd_embed    0.870714\n",
              "Name: accuracy, dtype: float64"
            ]
          },
          "metadata": {},
          "execution_count": 107
        }
      ]
    },
    {
      "cell_type": "code",
      "source": [
        "# Plot and compare all of the model results\n",
        "all_model_results.plot(kind=\"bar\", figsize=(10, 7)).legend(bbox_to_anchor=(1.0, 1.0),);"
      ],
      "metadata": {
        "colab": {
          "base_uri": "https://localhost:8080/",
          "height": 573
        },
        "id": "nMdJylcgsmWt",
        "outputId": "8c5838c1-0970-4be0-e1ff-e3de1a17d64a"
      },
      "execution_count": 108,
      "outputs": [
        {
          "output_type": "display_data",
          "data": {
            "text/plain": [
              "<Figure size 720x504 with 1 Axes>"
            ],
            "image/png": "[encoded data removed]"
          },
          "metadata": {
            "needs_background": "light"
          }
        }
      ]
    },
    {
      "cell_type": "code",
      "source": [
        "# Sort model results by f1-score\n",
        "all_model_results.sort_values(\"f1\", ascending=False)[\"f1\"].plot(kind=\"bar\", figsize=(10, 7));"
      ],
      "metadata": {
        "colab": {
          "base_uri": "https://localhost:8080/",
          "height": 573
        },
        "id": "1hAD65cKswru",
        "outputId": "0ce57c6e-a2a6-441f-cf08-2d1a4d9745db"
      },
      "execution_count": 109,
      "outputs": [
        {
          "output_type": "display_data",
          "data": {
            "text/plain": [
              "<Figure size 720x504 with 1 Axes>"
            ],
            "image/png": "[encoded data removed]"
          },
          "metadata": {
            "needs_background": "light"
          }
        }
      ]
    },
    {
      "cell_type": "markdown",
      "source": [
        "Save and load best performing model"
      ],
      "metadata": {
        "id": "dwX6LwTTt4s-"
      }
    },
    {
      "cell_type": "code",
      "source": [
        "# Save best performing model to SavedModel format (default)\n",
        "tf.keras.models.save_model(model_6,\"skimlit_model.HDF5\") # model will be saved to path specified by string"
      ],
      "metadata": {
        "colab": {
          "base_uri": "https://localhost:8080/"
        },
        "id": "D6xeZkCht5nL",
        "outputId": "71402596-f294-4e42-f9e0-97e330523828"
      },
      "execution_count": 113,
      "outputs": [
        {
          "output_type": "stream",
          "name": "stderr",
          "text": [
            "WARNING:absl:Found untraced functions such as lstm_cell_7_layer_call_fn, lstm_cell_7_layer_call_and_return_conditional_losses, lstm_cell_8_layer_call_fn, lstm_cell_8_layer_call_and_return_conditional_losses while saving (showing 4 of 4). These functions will not be directly callable after loading.\n"
          ]
        },
        {
          "output_type": "stream",
          "name": "stdout",
          "text": [
            "INFO:tensorflow:Assets written to: skimlit_model.HDF5/assets\n"
          ]
        },
        {
          "output_type": "stream",
          "name": "stderr",
          "text": [
            "INFO:tensorflow:Assets written to: skimlit_model.HDF5/assets\n",
            "WARNING:absl:<keras.layers.recurrent.LSTMCell object at 0x7fcc4436a3d0> has the same name 'LSTMCell' as a built-in Keras object. Consider renaming <class 'keras.layers.recurrent.LSTMCell'> to avoid naming conflicts when loading with `tf.keras.models.load_model`. If renaming is not possible, pass the object in the `custom_objects` parameter of the load function.\n",
            "WARNING:absl:<keras.layers.recurrent.LSTMCell object at 0x7fcc44360ed0> has the same name 'LSTMCell' as a built-in Keras object. Consider renaming <class 'keras.layers.recurrent.LSTMCell'> to avoid naming conflicts when loading with `tf.keras.models.load_model`. If renaming is not possible, pass the object in the `custom_objects` parameter of the load function.\n"
          ]
        }
      ]
    },
    {
      "cell_type": "code",
      "source": [
        "# Load downloaded model from Google Storage\n",
        "#loaded_model = tf.keras.models.load_model(model_path)\n",
        "loaded_model = tf.keras.models.load_model('/content/skimlit_model.HDF5')"
      ],
      "metadata": {
        "id": "b3tl1MzouvXR"
      },
      "execution_count": 114,
      "outputs": []
    },
    {
      "cell_type": "markdown",
      "source": [
        "Make predictions and evalaute them against the truth labels"
      ],
      "metadata": {
        "id": "KDCW8uijuVtU"
      }
    },
    {
      "cell_type": "code",
      "source": [
        "# Make predictions with the loaded model on the validation set\n",
        "loaded_pred_probs = loaded_model.predict(val_pos_char_convd_dataset, verbose=1)\n",
        "loaded_preds = tf.argmax(loaded_pred_probs, axis=1)\n",
        "loaded_preds[:10]"
      ],
      "metadata": {
        "id": "i7mq1xlKuXfP",
        "colab": {
          "base_uri": "https://localhost:8080/"
        },
        "outputId": "71bdfbd0-86ea-4244-d140-7a0a9bc1391b"
      },
      "execution_count": 205,
      "outputs": [
        {
          "output_type": "stream",
          "name": "stdout",
          "text": [
            "945/945 [==============================] - 37s 39ms/step\n"
          ]
        },
        {
          "output_type": "execute_result",
          "data": {
            "text/plain": [
              "<tf.Tensor: shape=(10,), dtype=int64, numpy=array([0, 0, 3, 2, 2, 2, 4, 2, 4, 1])>"
            ]
          },
          "metadata": {},
          "execution_count": 205
        }
      ]
    },
    {
      "cell_type": "code",
      "source": [
        "# Evaluate loaded model's predictions\n",
        "model_6.evaluate(val_pos_char_convd_dataset)\n",
        "model_6"
      ],
      "metadata": {
        "id": "TJNGPkwpueEq",
        "colab": {
          "base_uri": "https://localhost:8080/"
        },
        "outputId": "373a4c3a-e276-4de7-e5b9-851ed896f4e7"
      },
      "execution_count": 118,
      "outputs": [
        {
          "output_type": "stream",
          "name": "stdout",
          "text": [
            "945/945 [==============================] - 41s 43ms/step - loss: 0.8752 - accuracy: 0.8707\n"
          ]
        },
        {
          "output_type": "execute_result",
          "data": {
            "text/plain": [
              "<keras.engine.functional.Functional at 0x7fcc441a4e10>"
            ]
          },
          "metadata": {},
          "execution_count": 118
        }
      ]
    },
    {
      "cell_type": "markdown",
      "source": [
        "### Let's perform the test on test data"
      ],
      "metadata": {
        "id": "wvrLS5WeYs3f"
      }
    },
    {
      "cell_type": "code",
      "source": [
        "# Create test dataset batch and prefetched\n",
        "test_pos_char_convd_data = tf.data.Dataset.from_tensor_slices((test_line_numbers_one_hot,\n",
        "                                                               test_total_line_one_hot,\n",
        "                                                               test_sentences,\n",
        "                                                               test_chars))\n",
        "\n",
        "test_pos_char_convd_labels = tf.data.Dataset.from_tensor_slices(test_labels_one_hot)\n",
        "test_pos_char_convd_dataset = tf.data.Dataset.zip((test_pos_char_convd_data, test_pos_char_convd_labels)).batch(32).prefetch(tf.data.AUTOTUNE)\n",
        "\n",
        "# Check shapes\n",
        "test_pos_char_convd_dataset"
      ],
      "metadata": {
        "colab": {
          "base_uri": "https://localhost:8080/"
        },
        "id": "_2gOiFJiPi57",
        "outputId": "4431698a-76d3-4268-8824-7453b16afa4c"
      },
      "execution_count": 119,
      "outputs": [
        {
          "output_type": "execute_result",
          "data": {
            "text/plain": [
              "<PrefetchDataset element_spec=((TensorSpec(shape=(None, 15), dtype=tf.float32, name=None), TensorSpec(shape=(None, 20), dtype=tf.float32, name=None), TensorSpec(shape=(None,), dtype=tf.string, name=None), TensorSpec(shape=(None,), dtype=tf.string, name=None)), TensorSpec(shape=(None, 5), dtype=tf.float64, name=None))>"
            ]
          },
          "metadata": {},
          "execution_count": 119
        }
      ]
    },
    {
      "cell_type": "code",
      "source": [
        "# Make predictions on the test dataset\n",
        "test_pred_probs = loaded_model.predict(test_pos_char_convd_dataset,verbose=1)\n",
        "test_preds = tf.argmax(test_pred_probs, axis=1)\n",
        "test_preds[:10]"
      ],
      "metadata": {
        "colab": {
          "base_uri": "https://localhost:8080/"
        },
        "id": "JT5-_n7TZ6R8",
        "outputId": "30598e5a-8850-4c7f-fd98-24e964472b25"
      },
      "execution_count": 120,
      "outputs": [
        {
          "output_type": "stream",
          "name": "stdout",
          "text": [
            "942/942 [==============================] - 36s 38ms/step\n"
          ]
        },
        {
          "output_type": "execute_result",
          "data": {
            "text/plain": [
              "<tf.Tensor: shape=(10,), dtype=int64, numpy=array([3, 2, 2, 2, 4, 4, 4, 1, 1, 0])>"
            ]
          },
          "metadata": {},
          "execution_count": 120
        }
      ]
    },
    {
      "cell_type": "code",
      "source": [
        "# Evaluate loaded model test predictions\n",
        "loaded_model_test_results = calculate_results(y_true=test_label_encoder,y_pred=test_preds)\n",
        "loaded_model_test_results"
      ],
      "metadata": {
        "colab": {
          "base_uri": "https://localhost:8080/"
        },
        "id": "mWQC7-KQacNJ",
        "outputId": "3d6e42f1-bc8c-44e8-d379-b7c07319d1ad"
      },
      "execution_count": 190,
      "outputs": [
        {
          "output_type": "execute_result",
          "data": {
            "text/plain": [
              "{'accuracy': 86.4808362369338,\n",
              " 'f1': 0.860748536138538,\n",
              " 'precision': 0.8686480239092144,\n",
              " 'recall': 0.864808362369338}"
            ]
          },
          "metadata": {},
          "execution_count": 190
        }
      ]
    },
    {
      "cell_type": "code",
      "source": [
        "class_names"
      ],
      "metadata": {
        "colab": {
          "base_uri": "https://localhost:8080/"
        },
        "id": "3t475OryrDBg",
        "outputId": "abe44b52-3b56-450a-a6df-6f5b97251a4d"
      },
      "execution_count": 201,
      "outputs": [
        {
          "output_type": "execute_result",
          "data": {
            "text/plain": [
              "array(['BACKGROUND', 'CONCLUSIONS', 'METHODS', 'OBJECTIVE', 'RESULTS'],\n",
              "      dtype=object)"
            ]
          },
          "metadata": {},
          "execution_count": 201
        }
      ]
    },
    {
      "cell_type": "code",
      "source": [
        "%%time\n",
        "# Get list of class names of test predictions\n",
        "test_pred_classes = [class_names[pred]for pred in test_preds]"
      ],
      "metadata": {
        "colab": {
          "base_uri": "https://localhost:8080/"
        },
        "id": "Fxln7D2IqfxM",
        "outputId": "94e949e7-6995-4056-c35b-62668fbcbc2d"
      },
      "execution_count": 202,
      "outputs": [
        {
          "output_type": "stream",
          "name": "stdout",
          "text": [
            "CPU times: user 23.4 s, sys: 1.29 s, total: 24.7 s\n",
            "Wall time: 26.9 s\n"
          ]
        }
      ]
    },
    {
      "cell_type": "code",
      "source": [
        "test_pred_classes[:10]"
      ],
      "metadata": {
        "colab": {
          "base_uri": "https://localhost:8080/"
        },
        "id": "LJb7Mvqfq3si",
        "outputId": "df1fbf72-627b-465c-8c3e-13315b32808c"
      },
      "execution_count": 203,
      "outputs": [
        {
          "output_type": "execute_result",
          "data": {
            "text/plain": [
              "['OBJECTIVE',\n",
              " 'METHODS',\n",
              " 'METHODS',\n",
              " 'METHODS',\n",
              " 'RESULTS',\n",
              " 'RESULTS',\n",
              " 'RESULTS',\n",
              " 'CONCLUSIONS',\n",
              " 'CONCLUSIONS',\n",
              " 'BACKGROUND']"
            ]
          },
          "metadata": {},
          "execution_count": 203
        }
      ]
    },
    {
      "cell_type": "code",
      "source": [
        "# Create prediction-enriched test dataframe\n",
        "test_df[\"prediction\"] = test_pred_classes # create column with test prediction class names\n",
        "test_df[\"pred_prob\"] = tf.reduce_max(test_pred_probs, axis=1).numpy() # get the maximum prediction probability\n",
        "test_df[\"correct\"] = test_df[\"prediction\"] == test_df[\"Target\"] # create binary column for whether the prediction is right or not\n",
        "test_df.head(20)"
      ],
      "metadata": {
        "colab": {
          "base_uri": "https://localhost:8080/",
          "height": 753
        },
        "id": "MevtQ8TdqSzU",
        "outputId": "5b4391c3-0514-473a-80f3-05fa5821835c"
      },
      "execution_count": 197,
      "outputs": [
        {
          "output_type": "execute_result",
          "data": {
            "text/plain": [
              "         Target                                               Text  \\\n",
              "0    BACKGROUND  this study analyzed liver function abnormaliti...   \n",
              "1       RESULTS  a post hoc analysis was conducted with the use...   \n",
              "2       RESULTS  liver function tests ( lfts ) were measured at...   \n",
              "3       RESULTS  survival analyses were used to assess the asso...   \n",
              "4       RESULTS  the percentage of patients with abnormal lfts ...   \n",
              "5       RESULTS  when mean hemodynamic profiles were compared i...   \n",
              "6       RESULTS  multivariable analyses revealed that patients ...   \n",
              "7   CONCLUSIONS  abnormal lfts are common in the adhf populatio...   \n",
              "8   CONCLUSIONS  elevated meld-xi scores are associated with po...   \n",
              "9    BACKGROUND  minimally invasive endovascular aneurysm repai...   \n",
              "10   BACKGROUND  the aim of this study was to analyse the cost-...   \n",
              "11      METHODS  resource use was determined from the amsterdam...   \n",
              "12      METHODS  the analysis was performed from a provider per...   \n",
              "13      METHODS  all costs were calculated as if all patients h...   \n",
              "14      RESULTS            a total of @ patients were randomized .   \n",
              "15      RESULTS  the @-day mortality rate was @ per cent after ...   \n",
              "16      RESULTS  at @months , the total mortality rate for evar...   \n",
              "17      RESULTS  the mean cost difference between evar and or w...   \n",
              "18      RESULTS  the incremental cost-effectiveness ratio per p...   \n",
              "19      RESULTS  there was no significant difference in quality...   \n",
              "\n",
              "    Line_number  Total_lines  pred_prob   prediction  correct  \n",
              "0             0            8   0.581875    OBJECTIVE    False  \n",
              "1             1            8   0.709784      METHODS    False  \n",
              "2             2            8   0.866547      METHODS    False  \n",
              "3             3            8   0.853069      METHODS    False  \n",
              "4             4            8   0.649711      RESULTS     True  \n",
              "5             5            8   0.826604      RESULTS     True  \n",
              "6             6            8   0.876368      RESULTS     True  \n",
              "7             7            8   0.687945  CONCLUSIONS     True  \n",
              "8             8            8   0.842164  CONCLUSIONS     True  \n",
              "9             0           12   0.654231   BACKGROUND     True  \n",
              "10            1           12   0.525052   BACKGROUND     True  \n",
              "11            2           12   0.852036      METHODS     True  \n",
              "12            3           12   0.909524      METHODS     True  \n",
              "13            4           12   0.909388      METHODS     True  \n",
              "14            5           12   0.602473      RESULTS     True  \n",
              "15            6           12   0.809210      RESULTS     True  \n",
              "16            7           12   0.843536      RESULTS     True  \n",
              "17            8           12   0.843721      RESULTS     True  \n",
              "18            9           12   0.712311      RESULTS     True  \n",
              "19           10           12   0.729282      RESULTS     True  "
            ],
            "text/html": [
              "\n",
              "  <div id=\"df-d8971a3a-a9f8-401e-89e8-1a90cf1afbad\">\n",
              "    <div class=\"colab-df-container\">\n",
              "      <div>\n",
              "<style scoped>\n",
              "    .dataframe tbody tr th:only-of-type {\n",
              "        vertical-align: middle;\n",
              "    }\n",
              "\n",
              "    .dataframe tbody tr th {\n",
              "        vertical-align: top;\n",
              "    }\n",
              "\n",
              "    .dataframe thead th {\n",
              "        text-align: right;\n",
              "    }\n",
              "</style>\n",
              "<table border=\"1\" class=\"dataframe\">\n",
              "  <thead>\n",
              "    <tr style=\"text-align: right;\">\n",
              "      <th></th>\n",
              "      <th>Target</th>\n",
              "      <th>Text</th>\n",
              "      <th>Line_number</th>\n",
              "      <th>Total_lines</th>\n",
              "      <th>pred_prob</th>\n",
              "      <th>prediction</th>\n",
              "      <th>correct</th>\n",
              "    </tr>\n",
              "  </thead>\n",
              "  <tbody>\n",
              "    <tr>\n",
              "      <th>0</th>\n",
              "      <td>BACKGROUND</td>\n",
              "      <td>this study analyzed liver function abnormaliti...</td>\n",
              "      <td>0</td>\n",
              "      <td>8</td>\n",
              "      <td>0.581875</td>\n",
              "      <td>OBJECTIVE</td>\n",
              "      <td>False</td>\n",
              "    </tr>\n",
              "    <tr>\n",
              "      <th>1</th>\n",
              "      <td>RESULTS</td>\n",
              "      <td>a post hoc analysis was conducted with the use...</td>\n",
              "      <td>1</td>\n",
              "      <td>8</td>\n",
              "      <td>0.709784</td>\n",
              "      <td>METHODS</td>\n",
              "      <td>False</td>\n",
              "    </tr>\n",
              "    <tr>\n",
              "      <th>2</th>\n",
              "      <td>RESULTS</td>\n",
              "      <td>liver function tests ( lfts ) were measured at...</td>\n",
              "      <td>2</td>\n",
              "      <td>8</td>\n",
              "      <td>0.866547</td>\n",
              "      <td>METHODS</td>\n",
              "      <td>False</td>\n",
              "    </tr>\n",
              "    <tr>\n",
              "      <th>3</th>\n",
              "      <td>RESULTS</td>\n",
              "      <td>survival analyses were used to assess the asso...</td>\n",
              "      <td>3</td>\n",
              "      <td>8</td>\n",
              "      <td>0.853069</td>\n",
              "      <td>METHODS</td>\n",
              "      <td>False</td>\n",
              "    </tr>\n",
              "    <tr>\n",
              "      <th>4</th>\n",
              "      <td>RESULTS</td>\n",
              "      <td>the percentage of patients with abnormal lfts ...</td>\n",
              "      <td>4</td>\n",
              "      <td>8</td>\n",
              "      <td>0.649711</td>\n",
              "      <td>RESULTS</td>\n",
              "      <td>True</td>\n",
              "    </tr>\n",
              "    <tr>\n",
              "      <th>5</th>\n",
              "      <td>RESULTS</td>\n",
              "      <td>when mean hemodynamic profiles were compared i...</td>\n",
              "      <td>5</td>\n",
              "      <td>8</td>\n",
              "      <td>0.826604</td>\n",
              "      <td>RESULTS</td>\n",
              "      <td>True</td>\n",
              "    </tr>\n",
              "    <tr>\n",
              "      <th>6</th>\n",
              "      <td>RESULTS</td>\n",
              "      <td>multivariable analyses revealed that patients ...</td>\n",
              "      <td>6</td>\n",
              "      <td>8</td>\n",
              "      <td>0.876368</td>\n",
              "      <td>RESULTS</td>\n",
              "      <td>True</td>\n",
              "    </tr>\n",
              "    <tr>\n",
              "      <th>7</th>\n",
              "      <td>CONCLUSIONS</td>\n",
              "      <td>abnormal lfts are common in the adhf populatio...</td>\n",
              "      <td>7</td>\n",
              "      <td>8</td>\n",
              "      <td>0.687945</td>\n",
              "      <td>CONCLUSIONS</td>\n",
              "      <td>True</td>\n",
              "    </tr>\n",
              "    <tr>\n",
              "      <th>8</th>\n",
              "      <td>CONCLUSIONS</td>\n",
              "      <td>elevated meld-xi scores are associated with po...</td>\n",
              "      <td>8</td>\n",
              "      <td>8</td>\n",
              "      <td>0.842164</td>\n",
              "      <td>CONCLUSIONS</td>\n",
              "      <td>True</td>\n",
              "    </tr>\n",
              "    <tr>\n",
              "      <th>9</th>\n",
              "      <td>BACKGROUND</td>\n",
              "      <td>minimally invasive endovascular aneurysm repai...</td>\n",
              "      <td>0</td>\n",
              "      <td>12</td>\n",
              "      <td>0.654231</td>\n",
              "      <td>BACKGROUND</td>\n",
              "      <td>True</td>\n",
              "    </tr>\n",
              "    <tr>\n",
              "      <th>10</th>\n",
              "      <td>BACKGROUND</td>\n",
              "      <td>the aim of this study was to analyse the cost-...</td>\n",
              "      <td>1</td>\n",
              "      <td>12</td>\n",
              "      <td>0.525052</td>\n",
              "      <td>BACKGROUND</td>\n",
              "      <td>True</td>\n",
              "    </tr>\n",
              "    <tr>\n",
              "      <th>11</th>\n",
              "      <td>METHODS</td>\n",
              "      <td>resource use was determined from the amsterdam...</td>\n",
              "      <td>2</td>\n",
              "      <td>12</td>\n",
              "      <td>0.852036</td>\n",
              "      <td>METHODS</td>\n",
              "      <td>True</td>\n",
              "    </tr>\n",
              "    <tr>\n",
              "      <th>12</th>\n",
              "      <td>METHODS</td>\n",
              "      <td>the analysis was performed from a provider per...</td>\n",
              "      <td>3</td>\n",
              "      <td>12</td>\n",
              "      <td>0.909524</td>\n",
              "      <td>METHODS</td>\n",
              "      <td>True</td>\n",
              "    </tr>\n",
              "    <tr>\n",
              "      <th>13</th>\n",
              "      <td>METHODS</td>\n",
              "      <td>all costs were calculated as if all patients h...</td>\n",
              "      <td>4</td>\n",
              "      <td>12</td>\n",
              "      <td>0.909388</td>\n",
              "      <td>METHODS</td>\n",
              "      <td>True</td>\n",
              "    </tr>\n",
              "    <tr>\n",
              "      <th>14</th>\n",
              "      <td>RESULTS</td>\n",
              "      <td>a total of @ patients were randomized .</td>\n",
              "      <td>5</td>\n",
              "      <td>12</td>\n",
              "      <td>0.602473</td>\n",
              "      <td>RESULTS</td>\n",
              "      <td>True</td>\n",
              "    </tr>\n",
              "    <tr>\n",
              "      <th>15</th>\n",
              "      <td>RESULTS</td>\n",
              "      <td>the @-day mortality rate was @ per cent after ...</td>\n",
              "      <td>6</td>\n",
              "      <td>12</td>\n",
              "      <td>0.809210</td>\n",
              "      <td>RESULTS</td>\n",
              "      <td>True</td>\n",
              "    </tr>\n",
              "    <tr>\n",
              "      <th>16</th>\n",
              "      <td>RESULTS</td>\n",
              "      <td>at @months , the total mortality rate for evar...</td>\n",
              "      <td>7</td>\n",
              "      <td>12</td>\n",
              "      <td>0.843536</td>\n",
              "      <td>RESULTS</td>\n",
              "      <td>True</td>\n",
              "    </tr>\n",
              "    <tr>\n",
              "      <th>17</th>\n",
              "      <td>RESULTS</td>\n",
              "      <td>the mean cost difference between evar and or w...</td>\n",
              "      <td>8</td>\n",
              "      <td>12</td>\n",
              "      <td>0.843721</td>\n",
              "      <td>RESULTS</td>\n",
              "      <td>True</td>\n",
              "    </tr>\n",
              "    <tr>\n",
              "      <th>18</th>\n",
              "      <td>RESULTS</td>\n",
              "      <td>the incremental cost-effectiveness ratio per p...</td>\n",
              "      <td>9</td>\n",
              "      <td>12</td>\n",
              "      <td>0.712311</td>\n",
              "      <td>RESULTS</td>\n",
              "      <td>True</td>\n",
              "    </tr>\n",
              "    <tr>\n",
              "      <th>19</th>\n",
              "      <td>RESULTS</td>\n",
              "      <td>there was no significant difference in quality...</td>\n",
              "      <td>10</td>\n",
              "      <td>12</td>\n",
              "      <td>0.729282</td>\n",
              "      <td>RESULTS</td>\n",
              "      <td>True</td>\n",
              "    </tr>\n",
              "  </tbody>\n",
              "</table>\n",
              "</div>\n",
              "      <button class=\"colab-df-convert\" onclick=\"convertToInteractive('df-d8971a3a-a9f8-401e-89e8-1a90cf1afbad')\"\n",
              "              title=\"Convert this dataframe to an interactive table.\"\n",
              "              style=\"display:none;\">\n",
              "        \n",
              "  <svg xmlns=\"http://www.w3.org/2000/svg\" height=\"24px\"viewBox=\"0 0 24 24\"\n",
              "       width=\"24px\">\n",
              "    <path d=\"M0 0h24v24H0V0z\" fill=\"none\"/>\n",
              "    <path d=\"M18.56 5.44l.94 2.06.94-2.06 2.06-.94-2.06-.94-.94-2.06-.94 2.06-2.06.94zm-11 1L8.5 8.5l.94-2.06 2.06-.94-2.06-.94L8.5 2.5l-.94 2.06-2.06.94zm10 10l.94 2.06.94-2.06 2.06-.94-2.06-.94-.94-2.06-.94 2.06-2.06.94z\"/><path d=\"M17.41 7.96l-1.37-1.37c-.4-.4-.92-.59-1.43-.59-.52 0-1.04.2-1.43.59L10.3 9.45l-7.72 7.72c-.78.78-.78 2.05 0 2.83L4 21.41c.39.39.9.59 1.41.59.51 0 1.02-.2 1.41-.59l7.78-7.78 2.81-2.81c.8-.78.8-2.07 0-2.86zM5.41 20L4 18.59l7.72-7.72 1.47 1.35L5.41 20z\"/>\n",
              "  </svg>\n",
              "      </button>\n",
              "      \n",
              "  <style>\n",
              "    .colab-df-container {\n",
              "      display:flex;\n",
              "      flex-wrap:wrap;\n",
              "      gap: 12px;\n",
              "    }\n",
              "\n",
              "    .colab-df-convert {\n",
              "      background-color: #E8F0FE;\n",
              "      border: none;\n",
              "      border-radius: 50%;\n",
              "      cursor: pointer;\n",
              "      display: none;\n",
              "      fill: #1967D2;\n",
              "      height: 32px;\n",
              "      padding: 0 0 0 0;\n",
              "      width: 32px;\n",
              "    }\n",
              "\n",
              "    .colab-df-convert:hover {\n",
              "      background-color: #E2EBFA;\n",
              "      box-shadow: 0px 1px 2px rgba(60, 64, 67, 0.3), 0px 1px 3px 1px rgba(60, 64, 67, 0.15);\n",
              "      fill: #174EA6;\n",
              "    }\n",
              "\n",
              "    [theme=dark] .colab-df-convert {\n",
              "      background-color: #3B4455;\n",
              "      fill: #D2E3FC;\n",
              "    }\n",
              "\n",
              "    [theme=dark] .colab-df-convert:hover {\n",
              "      background-color: #434B5C;\n",
              "      box-shadow: 0px 1px 3px 1px rgba(0, 0, 0, 0.15);\n",
              "      filter: drop-shadow(0px 1px 2px rgba(0, 0, 0, 0.3));\n",
              "      fill: #FFFFFF;\n",
              "    }\n",
              "  </style>\n",
              "\n",
              "      <script>\n",
              "        const buttonEl =\n",
              "          document.querySelector('#df-d8971a3a-a9f8-401e-89e8-1a90cf1afbad button.colab-df-convert');\n",
              "        buttonEl.style.display =\n",
              "          google.colab.kernel.accessAllowed ? 'block' : 'none';\n",
              "\n",
              "        async function convertToInteractive(key) {\n",
              "          const element = document.querySelector('#df-d8971a3a-a9f8-401e-89e8-1a90cf1afbad');\n",
              "          const dataTable =\n",
              "            await google.colab.kernel.invokeFunction('convertToInteractive',\n",
              "                                                     [key], {});\n",
              "          if (!dataTable) return;\n",
              "\n",
              "          const docLinkHtml = 'Like what you see? Visit the ' +\n",
              "            '<a target=\"_blank\" href=https://colab.research.google.com/notebooks/data_table.ipynb>data table notebook</a>'\n",
              "            + ' to learn more about interactive tables.';\n",
              "          element.innerHTML = '';\n",
              "          dataTable['output_type'] = 'display_data';\n",
              "          await google.colab.output.renderOutput(dataTable, element);\n",
              "          const docLink = document.createElement('div');\n",
              "          docLink.innerHTML = docLinkHtml;\n",
              "          element.appendChild(docLink);\n",
              "        }\n",
              "      </script>\n",
              "    </div>\n",
              "  </div>\n",
              "  "
            ]
          },
          "metadata": {},
          "execution_count": 197
        }
      ]
    },
    {
      "cell_type": "code",
      "source": [
        "# Find top 100 most wrong samples (note: 100 is an abitrary number, you could go through all of them if you wanted)\n",
        "top_100_wrong = test_df[test_df[\"correct\"] == False].sort_values(\"pred_prob\", ascending=False)[:100]\n",
        "print(f'total numner of worng prediction:{ len(top_100_wrong)}')"
      ],
      "metadata": {
        "colab": {
          "base_uri": "https://localhost:8080/"
        },
        "id": "wR7B92_3qyoU",
        "outputId": "741d2d9b-0ec3-4b0a-e6ed-ee5905ee126a"
      },
      "execution_count": 218,
      "outputs": [
        {
          "output_type": "stream",
          "name": "stdout",
          "text": [
            "total numner of worng prediction:100\n"
          ]
        }
      ]
    },
    {
      "cell_type": "code",
      "source": [
        "top_100_wrong[:10]"
      ],
      "metadata": {
        "colab": {
          "base_uri": "https://localhost:8080/",
          "height": 363
        },
        "id": "d4JBERQwudJt",
        "outputId": "2cfd3169-1fd0-4c99-9419-77fe227b7f3f"
      },
      "execution_count": 221,
      "outputs": [
        {
          "output_type": "execute_result",
          "data": {
            "text/plain": [
              "          Target                                               Text  \\\n",
              "12135    RESULTS  patients who were enrolled as cases were ontar...   \n",
              "18190    RESULTS  providers were randomized into @ groups : se c...   \n",
              "3574     RESULTS  the intervention was delivered to children ran...   \n",
              "6026     RESULTS  patients with higher risk mds or with aml aged...   \n",
              "5394     RESULTS  a randomized , double-blind , crossover study ...   \n",
              "21382  OBJECTIVE  design , settings , participants , and interve...   \n",
              "19048    RESULTS  a total of eighty migraineurs without aura wer...   \n",
              "4699     RESULTS  the primary efficacy end point was primary pat...   \n",
              "20346    RESULTS  outcomes were examined using kaplan-meier and ...   \n",
              "10137    RESULTS  this two-group online individually randomised ...   \n",
              "\n",
              "       Line_number  Total_lines  pred_prob prediction  correct  \n",
              "12135            3           16   0.935299    METHODS    False  \n",
              "18190            4           17   0.921880    METHODS    False  \n",
              "3574             4           16   0.921404    METHODS    False  \n",
              "6026             3           15   0.921323    METHODS    False  \n",
              "5394             3           12   0.916492    METHODS    False  \n",
              "21382            3           13   0.916179    METHODS    False  \n",
              "19048            3           10   0.913023    METHODS    False  \n",
              "4699             3           12   0.912447    METHODS    False  \n",
              "20346            3            8   0.911173    METHODS    False  \n",
              "10137            4           14   0.911026    METHODS    False  "
            ],
            "text/html": [
              "\n",
              "  <div id=\"df-ec13223f-8e09-419d-aa75-5abcf6cf9510\">\n",
              "    <div class=\"colab-df-container\">\n",
              "      <div>\n",
              "<style scoped>\n",
              "    .dataframe tbody tr th:only-of-type {\n",
              "        vertical-align: middle;\n",
              "    }\n",
              "\n",
              "    .dataframe tbody tr th {\n",
              "        vertical-align: top;\n",
              "    }\n",
              "\n",
              "    .dataframe thead th {\n",
              "        text-align: right;\n",
              "    }\n",
              "</style>\n",
              "<table border=\"1\" class=\"dataframe\">\n",
              "  <thead>\n",
              "    <tr style=\"text-align: right;\">\n",
              "      <th></th>\n",
              "      <th>Target</th>\n",
              "      <th>Text</th>\n",
              "      <th>Line_number</th>\n",
              "      <th>Total_lines</th>\n",
              "      <th>pred_prob</th>\n",
              "      <th>prediction</th>\n",
              "      <th>correct</th>\n",
              "    </tr>\n",
              "  </thead>\n",
              "  <tbody>\n",
              "    <tr>\n",
              "      <th>12135</th>\n",
              "      <td>RESULTS</td>\n",
              "      <td>patients who were enrolled as cases were ontar...</td>\n",
              "      <td>3</td>\n",
              "      <td>16</td>\n",
              "      <td>0.935299</td>\n",
              "      <td>METHODS</td>\n",
              "      <td>False</td>\n",
              "    </tr>\n",
              "    <tr>\n",
              "      <th>18190</th>\n",
              "      <td>RESULTS</td>\n",
              "      <td>providers were randomized into @ groups : se c...</td>\n",
              "      <td>4</td>\n",
              "      <td>17</td>\n",
              "      <td>0.921880</td>\n",
              "      <td>METHODS</td>\n",
              "      <td>False</td>\n",
              "    </tr>\n",
              "    <tr>\n",
              "      <th>3574</th>\n",
              "      <td>RESULTS</td>\n",
              "      <td>the intervention was delivered to children ran...</td>\n",
              "      <td>4</td>\n",
              "      <td>16</td>\n",
              "      <td>0.921404</td>\n",
              "      <td>METHODS</td>\n",
              "      <td>False</td>\n",
              "    </tr>\n",
              "    <tr>\n",
              "      <th>6026</th>\n",
              "      <td>RESULTS</td>\n",
              "      <td>patients with higher risk mds or with aml aged...</td>\n",
              "      <td>3</td>\n",
              "      <td>15</td>\n",
              "      <td>0.921323</td>\n",
              "      <td>METHODS</td>\n",
              "      <td>False</td>\n",
              "    </tr>\n",
              "    <tr>\n",
              "      <th>5394</th>\n",
              "      <td>RESULTS</td>\n",
              "      <td>a randomized , double-blind , crossover study ...</td>\n",
              "      <td>3</td>\n",
              "      <td>12</td>\n",
              "      <td>0.916492</td>\n",
              "      <td>METHODS</td>\n",
              "      <td>False</td>\n",
              "    </tr>\n",
              "    <tr>\n",
              "      <th>21382</th>\n",
              "      <td>OBJECTIVE</td>\n",
              "      <td>design , settings , participants , and interve...</td>\n",
              "      <td>3</td>\n",
              "      <td>13</td>\n",
              "      <td>0.916179</td>\n",
              "      <td>METHODS</td>\n",
              "      <td>False</td>\n",
              "    </tr>\n",
              "    <tr>\n",
              "      <th>19048</th>\n",
              "      <td>RESULTS</td>\n",
              "      <td>a total of eighty migraineurs without aura wer...</td>\n",
              "      <td>3</td>\n",
              "      <td>10</td>\n",
              "      <td>0.913023</td>\n",
              "      <td>METHODS</td>\n",
              "      <td>False</td>\n",
              "    </tr>\n",
              "    <tr>\n",
              "      <th>4699</th>\n",
              "      <td>RESULTS</td>\n",
              "      <td>the primary efficacy end point was primary pat...</td>\n",
              "      <td>3</td>\n",
              "      <td>12</td>\n",
              "      <td>0.912447</td>\n",
              "      <td>METHODS</td>\n",
              "      <td>False</td>\n",
              "    </tr>\n",
              "    <tr>\n",
              "      <th>20346</th>\n",
              "      <td>RESULTS</td>\n",
              "      <td>outcomes were examined using kaplan-meier and ...</td>\n",
              "      <td>3</td>\n",
              "      <td>8</td>\n",
              "      <td>0.911173</td>\n",
              "      <td>METHODS</td>\n",
              "      <td>False</td>\n",
              "    </tr>\n",
              "    <tr>\n",
              "      <th>10137</th>\n",
              "      <td>RESULTS</td>\n",
              "      <td>this two-group online individually randomised ...</td>\n",
              "      <td>4</td>\n",
              "      <td>14</td>\n",
              "      <td>0.911026</td>\n",
              "      <td>METHODS</td>\n",
              "      <td>False</td>\n",
              "    </tr>\n",
              "  </tbody>\n",
              "</table>\n",
              "</div>\n",
              "      <button class=\"colab-df-convert\" onclick=\"convertToInteractive('df-ec13223f-8e09-419d-aa75-5abcf6cf9510')\"\n",
              "              title=\"Convert this dataframe to an interactive table.\"\n",
              "              style=\"display:none;\">\n",
              "        \n",
              "  <svg xmlns=\"http://www.w3.org/2000/svg\" height=\"24px\"viewBox=\"0 0 24 24\"\n",
              "       width=\"24px\">\n",
              "    <path d=\"M0 0h24v24H0V0z\" fill=\"none\"/>\n",
              "    <path d=\"M18.56 5.44l.94 2.06.94-2.06 2.06-.94-2.06-.94-.94-2.06-.94 2.06-2.06.94zm-11 1L8.5 8.5l.94-2.06 2.06-.94-2.06-.94L8.5 2.5l-.94 2.06-2.06.94zm10 10l.94 2.06.94-2.06 2.06-.94-2.06-.94-.94-2.06-.94 2.06-2.06.94z\"/><path d=\"M17.41 7.96l-1.37-1.37c-.4-.4-.92-.59-1.43-.59-.52 0-1.04.2-1.43.59L10.3 9.45l-7.72 7.72c-.78.78-.78 2.05 0 2.83L4 21.41c.39.39.9.59 1.41.59.51 0 1.02-.2 1.41-.59l7.78-7.78 2.81-2.81c.8-.78.8-2.07 0-2.86zM5.41 20L4 18.59l7.72-7.72 1.47 1.35L5.41 20z\"/>\n",
              "  </svg>\n",
              "      </button>\n",
              "      \n",
              "  <style>\n",
              "    .colab-df-container {\n",
              "      display:flex;\n",
              "      flex-wrap:wrap;\n",
              "      gap: 12px;\n",
              "    }\n",
              "\n",
              "    .colab-df-convert {\n",
              "      background-color: #E8F0FE;\n",
              "      border: none;\n",
              "      border-radius: 50%;\n",
              "      cursor: pointer;\n",
              "      display: none;\n",
              "      fill: #1967D2;\n",
              "      height: 32px;\n",
              "      padding: 0 0 0 0;\n",
              "      width: 32px;\n",
              "    }\n",
              "\n",
              "    .colab-df-convert:hover {\n",
              "      background-color: #E2EBFA;\n",
              "      box-shadow: 0px 1px 2px rgba(60, 64, 67, 0.3), 0px 1px 3px 1px rgba(60, 64, 67, 0.15);\n",
              "      fill: #174EA6;\n",
              "    }\n",
              "\n",
              "    [theme=dark] .colab-df-convert {\n",
              "      background-color: #3B4455;\n",
              "      fill: #D2E3FC;\n",
              "    }\n",
              "\n",
              "    [theme=dark] .colab-df-convert:hover {\n",
              "      background-color: #434B5C;\n",
              "      box-shadow: 0px 1px 3px 1px rgba(0, 0, 0, 0.15);\n",
              "      filter: drop-shadow(0px 1px 2px rgba(0, 0, 0, 0.3));\n",
              "      fill: #FFFFFF;\n",
              "    }\n",
              "  </style>\n",
              "\n",
              "      <script>\n",
              "        const buttonEl =\n",
              "          document.querySelector('#df-ec13223f-8e09-419d-aa75-5abcf6cf9510 button.colab-df-convert');\n",
              "        buttonEl.style.display =\n",
              "          google.colab.kernel.accessAllowed ? 'block' : 'none';\n",
              "\n",
              "        async function convertToInteractive(key) {\n",
              "          const element = document.querySelector('#df-ec13223f-8e09-419d-aa75-5abcf6cf9510');\n",
              "          const dataTable =\n",
              "            await google.colab.kernel.invokeFunction('convertToInteractive',\n",
              "                                                     [key], {});\n",
              "          if (!dataTable) return;\n",
              "\n",
              "          const docLinkHtml = 'Like what you see? Visit the ' +\n",
              "            '<a target=\"_blank\" href=https://colab.research.google.com/notebooks/data_table.ipynb>data table notebook</a>'\n",
              "            + ' to learn more about interactive tables.';\n",
              "          element.innerHTML = '';\n",
              "          dataTable['output_type'] = 'display_data';\n",
              "          await google.colab.output.renderOutput(dataTable, element);\n",
              "          const docLink = document.createElement('div');\n",
              "          docLink.innerHTML = docLinkHtml;\n",
              "          element.appendChild(docLink);\n",
              "        }\n",
              "      </script>\n",
              "    </div>\n",
              "  </div>\n",
              "  "
            ]
          },
          "metadata": {},
          "execution_count": 221
        }
      ]
    },
    {
      "cell_type": "code",
      "source": [
        "# Investigate which one are wrong predictions:\n",
        "for row in top_100_wrong[0:10].itertuples(): # adjust indexes to view different samples\n",
        "  _, target, text, line_number, total_lines, prediction, pred_prob, _ = row\n",
        "  print(f\"Target: {target}, Pred: {prediction}, Prob: {pred_prob}, Line number: {line_number}, Total lines: {total_lines}\\n\")\n",
        "  print(f\"Text:\\n{text}\\n\")\n",
        "  print(\"-----\\n\")"
      ],
      "metadata": {
        "colab": {
          "base_uri": "https://localhost:8080/"
        },
        "id": "zA1f-_7dtY6-",
        "outputId": "e0cc3150-15c8-4a54-ad0c-6577e19dc1db"
      },
      "execution_count": 210,
      "outputs": [
        {
          "output_type": "stream",
          "name": "stdout",
          "text": [
            "Target: RESULTS, Pred: 0.9352990388870239, Prob: METHODS, Line number: 3, Total lines: 16\n",
            "\n",
            "Text:\n",
            "patients who were enrolled as cases were ontarians aged @ years or older hospitalized with hypomagnesemia .\n",
            "\n",
            "-----\n",
            "\n",
            "Target: RESULTS, Pred: 0.9218803644180298, Prob: METHODS, Line number: 4, Total lines: 17\n",
            "\n",
            "Text:\n",
            "providers were randomized into @ groups : se clinicians were enrolled in the game , whereas control clinicians received identical educational content in an online posting .\n",
            "\n",
            "-----\n",
            "\n",
            "Target: RESULTS, Pred: 0.9214037656784058, Prob: METHODS, Line number: 4, Total lines: 16\n",
            "\n",
            "Text:\n",
            "the intervention was delivered to children randomly selected from classes @ and @ who were followed up for @ months .\n",
            "\n",
            "-----\n",
            "\n",
            "Target: RESULTS, Pred: 0.9213234186172485, Prob: METHODS, Line number: 3, Total lines: 15\n",
            "\n",
            "Text:\n",
            "patients with higher risk mds or with aml aged @ years were eligible .\n",
            "\n",
            "-----\n",
            "\n",
            "Target: RESULTS, Pred: 0.9164919853210449, Prob: METHODS, Line number: 3, Total lines: 12\n",
            "\n",
            "Text:\n",
            "a randomized , double-blind , crossover study with - cx ( @ mg/day ) and ps ( @ g/day ) , single and combined , was performed in @ postmenopausal women .\n",
            "\n",
            "-----\n",
            "\n",
            "Target: OBJECTIVE, Pred: 0.9161790609359741, Prob: METHODS, Line number: 3, Total lines: 13\n",
            "\n",
            "Text:\n",
            "design , settings , participants , and intervention : ten healthy , normal-weight men were studied in randomized , double-blind fashion , each receiving a @-minute intraduodenal infusion of l-trp at @ ( total @ kcal ) or @ ( total @ kcal ) kcal/min or saline ( control ) .\n",
            "\n",
            "-----\n",
            "\n",
            "Target: RESULTS, Pred: 0.9130226969718933, Prob: METHODS, Line number: 3, Total lines: 10\n",
            "\n",
            "Text:\n",
            "a total of eighty migraineurs without aura were enrolled to receive either active acupoint acupuncture or inactive acupoint acupuncture treatment for @ weeks , and twenty patients in each group were randomly selected for the fmri scan at the end of baseline and at the end of treatment .\n",
            "\n",
            "-----\n",
            "\n",
            "Target: RESULTS, Pred: 0.9124470949172974, Prob: METHODS, Line number: 3, Total lines: 12\n",
            "\n",
            "Text:\n",
            "the primary efficacy end point was primary patency , defined as freedom from restenosis or clinically driven target lesion revascularization at @ months .\n",
            "\n",
            "-----\n",
            "\n",
            "Target: RESULTS, Pred: 0.9111728668212891, Prob: METHODS, Line number: 3, Total lines: 8\n",
            "\n",
            "Text:\n",
            "outcomes were examined using kaplan-meier and cox regression survival analysis .\n",
            "\n",
            "-----\n",
            "\n",
            "Target: RESULTS, Pred: 0.9110255241394043, Prob: METHODS, Line number: 4, Total lines: 14\n",
            "\n",
            "Text:\n",
            "this two-group online individually randomised controlled trial recruited employees from a uk-based private sector organisation ( approx .\n",
            "\n",
            "-----\n",
            "\n"
          ]
        }
      ]
    }
  ]
}