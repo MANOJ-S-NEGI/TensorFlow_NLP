{
  "nbformat": 4,
  "nbformat_minor": 0,
  "metadata": {
    "colab": {
      "name": "Tensorflow natural language processor Fundamentals.ipynb",
      "provenance": [],
      "collapsed_sections": [],
      "authorship_tag": "ABX9TyOSKlgjmIcp9HsmjYF5xdpc",
      "include_colab_link": true
    },
    "kernelspec": {
      "name": "python3",
      "display_name": "Python 3"
    },
    "language_info": {
      "name": "python"
    },
    "accelerator": "GPU"
  },
  "cells": [
    {
      "cell_type": "markdown",
      "metadata": {
        "id": "view-in-github",
        "colab_type": "text"
      },
      "source": [
        "<a href=\"https://colab.research.google.com/github/MANOJ-S-NEGI/TensorFlow_NLP/blob/main/Tensorflow_natural_language_processor_Fundamentals.ipynb\" target=\"_parent\"><img src=\"https://colab.research.google.com/assets/colab-badge.svg\" alt=\"Open In Colab\"/></a>"
      ]
    },
    {
      "cell_type": "code",
      "source": [
        "! nvidia-smi -L"
      ],
      "metadata": {
        "colab": {
          "base_uri": "https://localhost:8080/"
        },
        "id": "kNJkew0w9xSS",
        "outputId": "c69360aa-e4cc-44ef-c083-be021a6f4ea1"
      },
      "execution_count": 1,
      "outputs": [
        {
          "output_type": "stream",
          "name": "stdout",
          "text": [
            "GPU 0: Tesla K80 (UUID: GPU-05dc021c-cb12-f7d6-e037-c8544b05cc43)\n"
          ]
        }
      ]
    },
    {
      "cell_type": "code",
      "source": [
        "## import :\n",
        "import tensorflow as tf\n",
        "import pandas as pd\n",
        "import numpy as np\n",
        "import matplotlib.pyplot as plt\n",
        "import os\n",
        "import zipfile\n",
        "import random"
      ],
      "metadata": {
        "id": "1kU24Irw-T3y"
      },
      "execution_count": 2,
      "outputs": []
    },
    {
      "cell_type": "code",
      "execution_count": 3,
      "metadata": {
        "colab": {
          "base_uri": "https://localhost:8080/"
        },
        "id": "rzj4vZWx9ipI",
        "outputId": "5f25ef71-2405-4bb8-eeba-20ecc42d7d10"
      },
      "outputs": [
        {
          "output_type": "stream",
          "name": "stdout",
          "text": [
            "--2022-03-12 12:34:34--  https://storage.googleapis.com/ztm_tf_course/nlp_getting_started.zip\n",
            "Resolving storage.googleapis.com (storage.googleapis.com)... 173.194.192.128, 209.85.145.128, 209.85.147.128, ...\n",
            "Connecting to storage.googleapis.com (storage.googleapis.com)|173.194.192.128|:443... connected.\n",
            "HTTP request sent, awaiting response... 200 OK\n",
            "Length: 607343 (593K) [application/zip]\n",
            "Saving to: ‘nlp_getting_started.zip’\n",
            "\n",
            "\rnlp_getting_started   0%[                    ]       0  --.-KB/s               \rnlp_getting_started 100%[===================>] 593.11K  --.-KB/s    in 0.005s  \n",
            "\n",
            "2022-03-12 12:34:34 (107 MB/s) - ‘nlp_getting_started.zip’ saved [607343/607343]\n",
            "\n"
          ]
        }
      ],
      "source": [
        "# importing the file:\n",
        "!wget \"https://storage.googleapis.com/ztm_tf_course/nlp_getting_started.zip\"\n",
        "\n",
        "# unzipping the file\n",
        "zip_ref = zipfile.ZipFile(\"nlp_getting_started.zip\")\n",
        "zip_ref.extractall()\n",
        "zip_ref.close()\n",
        "\n",
        "# calling the train and test data:\n",
        "train_data=pd.read_csv(\"/content/train.csv\")\n",
        "test_data=pd.read_csv(\"/content/test.csv\")"
      ]
    },
    {
      "cell_type": "code",
      "source": [
        "# checking the train_data\n",
        "train_data.head(3)"
      ],
      "metadata": {
        "colab": {
          "base_uri": "https://localhost:8080/",
          "height": 172
        },
        "id": "Acu2K104Clln",
        "outputId": "971e77a5-f201-4e10-e8c1-fd3ea798da09"
      },
      "execution_count": 4,
      "outputs": [
        {
          "output_type": "execute_result",
          "data": {
            "text/plain": [
              "   id keyword location                                               text  \\\n",
              "0   1     NaN      NaN  Our Deeds are the Reason of this #earthquake M...   \n",
              "1   4     NaN      NaN             Forest fire near La Ronge Sask. Canada   \n",
              "2   5     NaN      NaN  All residents asked to 'shelter in place' are ...   \n",
              "\n",
              "   target  \n",
              "0       1  \n",
              "1       1  \n",
              "2       1  "
            ],
            "text/html": [
              "\n",
              "  <div id=\"df-d50a4abe-6fa2-4ec0-a7cb-baaf83d182b5\">\n",
              "    <div class=\"colab-df-container\">\n",
              "      <div>\n",
              "<style scoped>\n",
              "    .dataframe tbody tr th:only-of-type {\n",
              "        vertical-align: middle;\n",
              "    }\n",
              "\n",
              "    .dataframe tbody tr th {\n",
              "        vertical-align: top;\n",
              "    }\n",
              "\n",
              "    .dataframe thead th {\n",
              "        text-align: right;\n",
              "    }\n",
              "</style>\n",
              "<table border=\"1\" class=\"dataframe\">\n",
              "  <thead>\n",
              "    <tr style=\"text-align: right;\">\n",
              "      <th></th>\n",
              "      <th>id</th>\n",
              "      <th>keyword</th>\n",
              "      <th>location</th>\n",
              "      <th>text</th>\n",
              "      <th>target</th>\n",
              "    </tr>\n",
              "  </thead>\n",
              "  <tbody>\n",
              "    <tr>\n",
              "      <th>0</th>\n",
              "      <td>1</td>\n",
              "      <td>NaN</td>\n",
              "      <td>NaN</td>\n",
              "      <td>Our Deeds are the Reason of this #earthquake M...</td>\n",
              "      <td>1</td>\n",
              "    </tr>\n",
              "    <tr>\n",
              "      <th>1</th>\n",
              "      <td>4</td>\n",
              "      <td>NaN</td>\n",
              "      <td>NaN</td>\n",
              "      <td>Forest fire near La Ronge Sask. Canada</td>\n",
              "      <td>1</td>\n",
              "    </tr>\n",
              "    <tr>\n",
              "      <th>2</th>\n",
              "      <td>5</td>\n",
              "      <td>NaN</td>\n",
              "      <td>NaN</td>\n",
              "      <td>All residents asked to 'shelter in place' are ...</td>\n",
              "      <td>1</td>\n",
              "    </tr>\n",
              "  </tbody>\n",
              "</table>\n",
              "</div>\n",
              "      <button class=\"colab-df-convert\" onclick=\"convertToInteractive('df-d50a4abe-6fa2-4ec0-a7cb-baaf83d182b5')\"\n",
              "              title=\"Convert this dataframe to an interactive table.\"\n",
              "              style=\"display:none;\">\n",
              "        \n",
              "  <svg xmlns=\"http://www.w3.org/2000/svg\" height=\"24px\"viewBox=\"0 0 24 24\"\n",
              "       width=\"24px\">\n",
              "    <path d=\"M0 0h24v24H0V0z\" fill=\"none\"/>\n",
              "    <path d=\"M18.56 5.44l.94 2.06.94-2.06 2.06-.94-2.06-.94-.94-2.06-.94 2.06-2.06.94zm-11 1L8.5 8.5l.94-2.06 2.06-.94-2.06-.94L8.5 2.5l-.94 2.06-2.06.94zm10 10l.94 2.06.94-2.06 2.06-.94-2.06-.94-.94-2.06-.94 2.06-2.06.94z\"/><path d=\"M17.41 7.96l-1.37-1.37c-.4-.4-.92-.59-1.43-.59-.52 0-1.04.2-1.43.59L10.3 9.45l-7.72 7.72c-.78.78-.78 2.05 0 2.83L4 21.41c.39.39.9.59 1.41.59.51 0 1.02-.2 1.41-.59l7.78-7.78 2.81-2.81c.8-.78.8-2.07 0-2.86zM5.41 20L4 18.59l7.72-7.72 1.47 1.35L5.41 20z\"/>\n",
              "  </svg>\n",
              "      </button>\n",
              "      \n",
              "  <style>\n",
              "    .colab-df-container {\n",
              "      display:flex;\n",
              "      flex-wrap:wrap;\n",
              "      gap: 12px;\n",
              "    }\n",
              "\n",
              "    .colab-df-convert {\n",
              "      background-color: #E8F0FE;\n",
              "      border: none;\n",
              "      border-radius: 50%;\n",
              "      cursor: pointer;\n",
              "      display: none;\n",
              "      fill: #1967D2;\n",
              "      height: 32px;\n",
              "      padding: 0 0 0 0;\n",
              "      width: 32px;\n",
              "    }\n",
              "\n",
              "    .colab-df-convert:hover {\n",
              "      background-color: #E2EBFA;\n",
              "      box-shadow: 0px 1px 2px rgba(60, 64, 67, 0.3), 0px 1px 3px 1px rgba(60, 64, 67, 0.15);\n",
              "      fill: #174EA6;\n",
              "    }\n",
              "\n",
              "    [theme=dark] .colab-df-convert {\n",
              "      background-color: #3B4455;\n",
              "      fill: #D2E3FC;\n",
              "    }\n",
              "\n",
              "    [theme=dark] .colab-df-convert:hover {\n",
              "      background-color: #434B5C;\n",
              "      box-shadow: 0px 1px 3px 1px rgba(0, 0, 0, 0.15);\n",
              "      filter: drop-shadow(0px 1px 2px rgba(0, 0, 0, 0.3));\n",
              "      fill: #FFFFFF;\n",
              "    }\n",
              "  </style>\n",
              "\n",
              "      <script>\n",
              "        const buttonEl =\n",
              "          document.querySelector('#df-d50a4abe-6fa2-4ec0-a7cb-baaf83d182b5 button.colab-df-convert');\n",
              "        buttonEl.style.display =\n",
              "          google.colab.kernel.accessAllowed ? 'block' : 'none';\n",
              "\n",
              "        async function convertToInteractive(key) {\n",
              "          const element = document.querySelector('#df-d50a4abe-6fa2-4ec0-a7cb-baaf83d182b5');\n",
              "          const dataTable =\n",
              "            await google.colab.kernel.invokeFunction('convertToInteractive',\n",
              "                                                     [key], {});\n",
              "          if (!dataTable) return;\n",
              "\n",
              "          const docLinkHtml = 'Like what you see? Visit the ' +\n",
              "            '<a target=\"_blank\" href=https://colab.research.google.com/notebooks/data_table.ipynb>data table notebook</a>'\n",
              "            + ' to learn more about interactive tables.';\n",
              "          element.innerHTML = '';\n",
              "          dataTable['output_type'] = 'display_data';\n",
              "          await google.colab.output.renderOutput(dataTable, element);\n",
              "          const docLink = document.createElement('div');\n",
              "          docLink.innerHTML = docLinkHtml;\n",
              "          element.appendChild(docLink);\n",
              "        }\n",
              "      </script>\n",
              "    </div>\n",
              "  </div>\n",
              "  "
            ]
          },
          "metadata": {},
          "execution_count": 4
        }
      ]
    },
    {
      "cell_type": "code",
      "source": [
        "# shufflig the train data setting th seed:\n",
        "train_data_shuffled=train_data.sample(frac=1,random_state=21)\n",
        "train_data_shuffled.head(7)"
      ],
      "metadata": {
        "colab": {
          "base_uri": "https://localhost:8080/",
          "height": 258
        },
        "id": "X4EKQFzICsNk",
        "outputId": "9b63fe3b-8f8a-4213-ed5a-76b45d40641f"
      },
      "execution_count": 5,
      "outputs": [
        {
          "output_type": "execute_result",
          "data": {
            "text/plain": [
              "         id              keyword                  location  \\\n",
              "478     688               attack              Dayton, Ohio   \n",
              "2210   3166               deluge                  Brisbane   \n",
              "1493   2153          catastrophe                       NaN   \n",
              "148     212  airplane%20accident                 Indonesia   \n",
              "6766   9697              tornado                       NaN   \n",
              "7428  10626              wounded  Fredericksburg, Virginia   \n",
              "3982   5658             flooding                       NaN   \n",
              "\n",
              "                                                   text  target  \n",
              "478   A Dayton-area org tells me it was hit by a cyb...       1  \n",
              "2210  China is only delaying the deluge: If the fund...       0  \n",
              "1493  bbc r5live studio discussion of hiroshima v po...       1  \n",
              "148   #KCA #VoteJKT48ID mbataweel: #RIP #BINLADEN Fa...       1  \n",
              "6766                         @Ayshun_Tornado then don't       0  \n",
              "7428  .@wwp is serving more than 75k veterans. 52k O...       1  \n",
              "3982  Flooding kills 166 displace over one million i...       1  "
            ],
            "text/html": [
              "\n",
              "  <div id=\"df-3701a7f7-e9ce-4103-8920-f29c5d88d7a0\">\n",
              "    <div class=\"colab-df-container\">\n",
              "      <div>\n",
              "<style scoped>\n",
              "    .dataframe tbody tr th:only-of-type {\n",
              "        vertical-align: middle;\n",
              "    }\n",
              "\n",
              "    .dataframe tbody tr th {\n",
              "        vertical-align: top;\n",
              "    }\n",
              "\n",
              "    .dataframe thead th {\n",
              "        text-align: right;\n",
              "    }\n",
              "</style>\n",
              "<table border=\"1\" class=\"dataframe\">\n",
              "  <thead>\n",
              "    <tr style=\"text-align: right;\">\n",
              "      <th></th>\n",
              "      <th>id</th>\n",
              "      <th>keyword</th>\n",
              "      <th>location</th>\n",
              "      <th>text</th>\n",
              "      <th>target</th>\n",
              "    </tr>\n",
              "  </thead>\n",
              "  <tbody>\n",
              "    <tr>\n",
              "      <th>478</th>\n",
              "      <td>688</td>\n",
              "      <td>attack</td>\n",
              "      <td>Dayton, Ohio</td>\n",
              "      <td>A Dayton-area org tells me it was hit by a cyb...</td>\n",
              "      <td>1</td>\n",
              "    </tr>\n",
              "    <tr>\n",
              "      <th>2210</th>\n",
              "      <td>3166</td>\n",
              "      <td>deluge</td>\n",
              "      <td>Brisbane</td>\n",
              "      <td>China is only delaying the deluge: If the fund...</td>\n",
              "      <td>0</td>\n",
              "    </tr>\n",
              "    <tr>\n",
              "      <th>1493</th>\n",
              "      <td>2153</td>\n",
              "      <td>catastrophe</td>\n",
              "      <td>NaN</td>\n",
              "      <td>bbc r5live studio discussion of hiroshima v po...</td>\n",
              "      <td>1</td>\n",
              "    </tr>\n",
              "    <tr>\n",
              "      <th>148</th>\n",
              "      <td>212</td>\n",
              "      <td>airplane%20accident</td>\n",
              "      <td>Indonesia</td>\n",
              "      <td>#KCA #VoteJKT48ID mbataweel: #RIP #BINLADEN Fa...</td>\n",
              "      <td>1</td>\n",
              "    </tr>\n",
              "    <tr>\n",
              "      <th>6766</th>\n",
              "      <td>9697</td>\n",
              "      <td>tornado</td>\n",
              "      <td>NaN</td>\n",
              "      <td>@Ayshun_Tornado then don't</td>\n",
              "      <td>0</td>\n",
              "    </tr>\n",
              "    <tr>\n",
              "      <th>7428</th>\n",
              "      <td>10626</td>\n",
              "      <td>wounded</td>\n",
              "      <td>Fredericksburg, Virginia</td>\n",
              "      <td>.@wwp is serving more than 75k veterans. 52k O...</td>\n",
              "      <td>1</td>\n",
              "    </tr>\n",
              "    <tr>\n",
              "      <th>3982</th>\n",
              "      <td>5658</td>\n",
              "      <td>flooding</td>\n",
              "      <td>NaN</td>\n",
              "      <td>Flooding kills 166 displace over one million i...</td>\n",
              "      <td>1</td>\n",
              "    </tr>\n",
              "  </tbody>\n",
              "</table>\n",
              "</div>\n",
              "      <button class=\"colab-df-convert\" onclick=\"convertToInteractive('df-3701a7f7-e9ce-4103-8920-f29c5d88d7a0')\"\n",
              "              title=\"Convert this dataframe to an interactive table.\"\n",
              "              style=\"display:none;\">\n",
              "        \n",
              "  <svg xmlns=\"http://www.w3.org/2000/svg\" height=\"24px\"viewBox=\"0 0 24 24\"\n",
              "       width=\"24px\">\n",
              "    <path d=\"M0 0h24v24H0V0z\" fill=\"none\"/>\n",
              "    <path d=\"M18.56 5.44l.94 2.06.94-2.06 2.06-.94-2.06-.94-.94-2.06-.94 2.06-2.06.94zm-11 1L8.5 8.5l.94-2.06 2.06-.94-2.06-.94L8.5 2.5l-.94 2.06-2.06.94zm10 10l.94 2.06.94-2.06 2.06-.94-2.06-.94-.94-2.06-.94 2.06-2.06.94z\"/><path d=\"M17.41 7.96l-1.37-1.37c-.4-.4-.92-.59-1.43-.59-.52 0-1.04.2-1.43.59L10.3 9.45l-7.72 7.72c-.78.78-.78 2.05 0 2.83L4 21.41c.39.39.9.59 1.41.59.51 0 1.02-.2 1.41-.59l7.78-7.78 2.81-2.81c.8-.78.8-2.07 0-2.86zM5.41 20L4 18.59l7.72-7.72 1.47 1.35L5.41 20z\"/>\n",
              "  </svg>\n",
              "      </button>\n",
              "      \n",
              "  <style>\n",
              "    .colab-df-container {\n",
              "      display:flex;\n",
              "      flex-wrap:wrap;\n",
              "      gap: 12px;\n",
              "    }\n",
              "\n",
              "    .colab-df-convert {\n",
              "      background-color: #E8F0FE;\n",
              "      border: none;\n",
              "      border-radius: 50%;\n",
              "      cursor: pointer;\n",
              "      display: none;\n",
              "      fill: #1967D2;\n",
              "      height: 32px;\n",
              "      padding: 0 0 0 0;\n",
              "      width: 32px;\n",
              "    }\n",
              "\n",
              "    .colab-df-convert:hover {\n",
              "      background-color: #E2EBFA;\n",
              "      box-shadow: 0px 1px 2px rgba(60, 64, 67, 0.3), 0px 1px 3px 1px rgba(60, 64, 67, 0.15);\n",
              "      fill: #174EA6;\n",
              "    }\n",
              "\n",
              "    [theme=dark] .colab-df-convert {\n",
              "      background-color: #3B4455;\n",
              "      fill: #D2E3FC;\n",
              "    }\n",
              "\n",
              "    [theme=dark] .colab-df-convert:hover {\n",
              "      background-color: #434B5C;\n",
              "      box-shadow: 0px 1px 3px 1px rgba(0, 0, 0, 0.15);\n",
              "      filter: drop-shadow(0px 1px 2px rgba(0, 0, 0, 0.3));\n",
              "      fill: #FFFFFF;\n",
              "    }\n",
              "  </style>\n",
              "\n",
              "      <script>\n",
              "        const buttonEl =\n",
              "          document.querySelector('#df-3701a7f7-e9ce-4103-8920-f29c5d88d7a0 button.colab-df-convert');\n",
              "        buttonEl.style.display =\n",
              "          google.colab.kernel.accessAllowed ? 'block' : 'none';\n",
              "\n",
              "        async function convertToInteractive(key) {\n",
              "          const element = document.querySelector('#df-3701a7f7-e9ce-4103-8920-f29c5d88d7a0');\n",
              "          const dataTable =\n",
              "            await google.colab.kernel.invokeFunction('convertToInteractive',\n",
              "                                                     [key], {});\n",
              "          if (!dataTable) return;\n",
              "\n",
              "          const docLinkHtml = 'Like what you see? Visit the ' +\n",
              "            '<a target=\"_blank\" href=https://colab.research.google.com/notebooks/data_table.ipynb>data table notebook</a>'\n",
              "            + ' to learn more about interactive tables.';\n",
              "          element.innerHTML = '';\n",
              "          dataTable['output_type'] = 'display_data';\n",
              "          await google.colab.output.renderOutput(dataTable, element);\n",
              "          const docLink = document.createElement('div');\n",
              "          docLink.innerHTML = docLinkHtml;\n",
              "          element.appendChild(docLink);\n",
              "        }\n",
              "      </script>\n",
              "    </div>\n",
              "  </div>\n",
              "  "
            ]
          },
          "metadata": {},
          "execution_count": 5
        }
      ]
    },
    {
      "cell_type": "code",
      "source": [
        "# train_data=train_data.drop(\"index\",axis=1)"
      ],
      "metadata": {
        "id": "hh0o-KFeKf5Q"
      },
      "execution_count": 6,
      "outputs": []
    },
    {
      "cell_type": "code",
      "source": [
        "# How many examples of each class?\n",
        "train_data_shuffled.target.value_counts()"
      ],
      "metadata": {
        "colab": {
          "base_uri": "https://localhost:8080/"
        },
        "id": "UOM3ee24Dft_",
        "outputId": "d188465e-01a0-4522-bcef-215e6e538240"
      },
      "execution_count": 7,
      "outputs": [
        {
          "output_type": "execute_result",
          "data": {
            "text/plain": [
              "0    4342\n",
              "1    3271\n",
              "Name: target, dtype: int64"
            ]
          },
          "metadata": {},
          "execution_count": 7
        }
      ]
    },
    {
      "cell_type": "code",
      "source": [
        "## checking the total sample:\n",
        "print(f\"train__shuffled_sample: {len(train_data_shuffled)}\")\n",
        "print(f\"train_sample: {len(train_data)}\")\n",
        "print(f\"test_data: {len(test_data)}\")\n",
        "print(f\"total sample: {len(train_data)+len(test_data)}\")"
      ],
      "metadata": {
        "colab": {
          "base_uri": "https://localhost:8080/"
        },
        "id": "aU2LzXB7D2_V",
        "outputId": "a89ff191-ee75-44bd-faa1-97d47bd5589f"
      },
      "execution_count": 8,
      "outputs": [
        {
          "output_type": "stream",
          "name": "stdout",
          "text": [
            "train__shuffled_sample: 7613\n",
            "train_sample: 7613\n",
            "test_data: 3263\n",
            "total sample: 10876\n"
          ]
        }
      ]
    },
    {
      "cell_type": "code",
      "source": [
        "## calling the random function with range (0,10876-5)\n",
        "random_index=random.randint(0,len(train_data_shuffled)-5)\n",
        "\n",
        "# iterating the text and target randomly from train data shuffled \n",
        "for row in train_data_shuffled[[\"text\",\"target\"]][random_index:random_index+3].itertuples():\n",
        "    _,text,target=row # -, is used to get rid of index while other are taken the  text and target value\n",
        "    ##print over if:else:\n",
        "    print(f\"Target: {target}\", \"(real disaster)\" if target > 0 else \"(not real disaster)\")\n",
        "    print(f\"Text:\\n{text}\\n\")\n",
        "    print(\"---\\n\")"
      ],
      "metadata": {
        "colab": {
          "base_uri": "https://localhost:8080/"
        },
        "id": "_VqqMO_sGvRW",
        "outputId": "80c97559-4eac-46c9-f851-39e74a899899"
      },
      "execution_count": 9,
      "outputs": [
        {
          "output_type": "stream",
          "name": "stdout",
          "text": [
            "Target: 1 (real disaster)\n",
            "Text:\n",
            "Let's not forget our wounded female veterans. http://t.co/rZ7fbr10xw\n",
            "\n",
            "---\n",
            "\n",
            "Target: 0 (not real disaster)\n",
            "Text:\n",
            "@MisfitRarity misfit got bombed\n",
            "\n",
            "---\n",
            "\n",
            "Target: 1 (real disaster)\n",
            "Text:\n",
            "@Abu_Baraa1 Suicide bomber targets Saudi mosque at least 13 dead - Suicide bomber targets Saudi mosque at least 13 dead\n",
            "This is ridiculous\n",
            "\n",
            "---\n",
            "\n"
          ]
        }
      ]
    },
    {
      "cell_type": "code",
      "source": [
        "# split data into training and validation test\n",
        "from sklearn.model_selection import train_test_split\n",
        "\n",
        "## split the train data shuffled with test size of 20% of validation data and 80% train data \n",
        "train_sentence,valid_sentence,train_label,valid_label=  train_test_split( train_data_shuffled['text'].to_numpy(),\n",
        "                                                                       train_data_shuffled['target'].to_numpy(),\n",
        "                                                                       test_size=.20,\n",
        "                                                                       random_state=21)"
      ],
      "metadata": {
        "id": "SAdprOMsJmuf"
      },
      "execution_count": 10,
      "outputs": []
    },
    {
      "cell_type": "code",
      "source": [
        "## checking the train and validations (label and data):\n",
        "print(f\"{train_sentence[:1]} \\n\\n {train_label[:1]}\\n\\n{valid_label[:1]}\\n\\n{valid_sentence[:1]}\")\n",
        "print(f\"{len(train_sentence)} , {len(train_label)}  ,{len(valid_label)}  ,{len(valid_sentence)}\")"
      ],
      "metadata": {
        "colab": {
          "base_uri": "https://localhost:8080/"
        },
        "id": "KSv1SMJK2-FI",
        "outputId": "5bd66286-dfca-4249-b455-8e36c1a7692c"
      },
      "execution_count": 11,
      "outputs": [
        {
          "output_type": "stream",
          "name": "stdout",
          "text": [
            "[\"I have completed the quest 'Demolish 5 Murlo...' in the #Android game The Tribez.  http://t.co/pBclFsXRld #androidgames #gameinsight\"] \n",
            "\n",
            " [0]\n",
            "\n",
            "[0]\n",
            "\n",
            "['@olliebailey11 havnt you crashed ? ??']\n",
            "6090 , 6090  ,1523  ,1523\n"
          ]
        }
      ]
    },
    {
      "cell_type": "code",
      "source": [
        "## text_Vectorization:\n",
        "\n",
        "tf.random.set_seed(21)\n",
        "text_vectorization=tf.keras.layers.TextVectorization(max_tokens=1000, #mapping from token to number between 1000 or as mentioned\n",
        "                                                     output_mode=\"int\",\n",
        "                                                     output_sequence_length=15,\n",
        "                                                      )\n",
        "\n",
        "# fitting the training data into the text_vectorization:ie output mode-int,float\n",
        "text_vectorization.adapt(train_sentence)"
      ],
      "metadata": {
        "id": "VyKh3XwC3A6R"
      },
      "execution_count": 12,
      "outputs": []
    },
    {
      "cell_type": "code",
      "source": [
        "# Choose a random sentence from the training dataset and tokenize it\n",
        "random_sentence = random.choice(train_sentence)\n",
        "print(f\"Original text:\\n{random_sentence}\\n\\nVectorized version:\")\n",
        "text_vectorization([random_sentence])"
      ],
      "metadata": {
        "colab": {
          "base_uri": "https://localhost:8080/"
        },
        "id": "sfYzDzTJCoJI",
        "outputId": "90ba335e-ba56-496f-eb4b-ddf803a16fd5"
      },
      "execution_count": 13,
      "outputs": [
        {
          "output_type": "stream",
          "name": "stdout",
          "text": [
            "Original text:\n",
            "#foodscare #offers2go #NestleIndia slips into loss after #Magginoodle #ban unsafe and hazardous for #humanconsumption\n",
            "\n",
            "Vectorized version:\n"
          ]
        },
        {
          "output_type": "execute_result",
          "data": {
            "text/plain": [
              "<tf.Tensor: shape=(1, 15), dtype=int64, numpy=\n",
              "array([[  1,   1,   1,   1,  69,   1,  40,   1,   1,   1,   7, 517,   9,\n",
              "          1,   0]])>"
            ]
          },
          "metadata": {},
          "execution_count": 13
        }
      ]
    },
    {
      "cell_type": "code",
      "source": [
        "#Turns positive integers (indexes) into dense vectors of fixed size.\n",
        "tf.random.set_seed(21)\n",
        "embed=tf.keras.layers.Embedding(input_dim=1000,                         # set input size:\n",
        "                                output_dim=128,                          # it will be good if we choose number which is divied by 8\n",
        "                                embeddings_initializer='uniform',       # default\n",
        "                                input_length=15)                        # how long is each input\n",
        "\n",
        "# randomly choice data from train split:\n",
        "random_sentence_embed=random.choice(train_sentence)\n",
        "print(f\"Original text:\\n{random_sentence}\\\\n\\nEmbedded version:\")\n",
        "# Embed the random sentence (turn it into numerical representation)\n",
        "test_embed = embed(text_vectorization([random_sentence_embed]))\n",
        "test_embed"
      ],
      "metadata": {
        "colab": {
          "base_uri": "https://localhost:8080/"
        },
        "id": "X85DETM4t1Qa",
        "outputId": "d0ff10c5-9b1b-4df4-c420-998a43dc8ff3"
      },
      "execution_count": 14,
      "outputs": [
        {
          "output_type": "stream",
          "name": "stdout",
          "text": [
            "Original text:\n",
            "#foodscare #offers2go #NestleIndia slips into loss after #Magginoodle #ban unsafe and hazardous for #humanconsumption\\n\n",
            "Embedded version:\n"
          ]
        },
        {
          "output_type": "execute_result",
          "data": {
            "text/plain": [
              "<tf.Tensor: shape=(1, 15, 128), dtype=float32, numpy=\n",
              "array([[[ 4.8236847e-03,  1.1147320e-02,  1.4663551e-02, ...,\n",
              "          2.2623803e-02,  1.0691583e-05, -5.2167289e-03],\n",
              "        [-6.2715635e-03,  4.9065854e-02,  1.5664641e-02, ...,\n",
              "         -4.1518282e-02, -4.5492996e-02,  1.3686370e-02],\n",
              "        [-3.4402229e-02,  3.1514380e-02, -3.2824554e-02, ...,\n",
              "         -1.1310972e-02,  2.0180050e-02,  2.9268134e-02],\n",
              "        ...,\n",
              "        [ 4.8236847e-03,  1.1147320e-02,  1.4663551e-02, ...,\n",
              "          2.2623803e-02,  1.0691583e-05, -5.2167289e-03],\n",
              "        [-5.0957426e-03, -3.5536658e-02, -2.9882848e-02, ...,\n",
              "          1.3439540e-02, -3.7577201e-02, -1.4402807e-02],\n",
              "        [ 4.8236847e-03,  1.1147320e-02,  1.4663551e-02, ...,\n",
              "          2.2623803e-02,  1.0691583e-05, -5.2167289e-03]]], dtype=float32)>"
            ]
          },
          "metadata": {},
          "execution_count": 14
        }
      ]
    },
    {
      "cell_type": "code",
      "source": [
        "print(f\"text:{random_sentence_embed[0][0]}\")\n",
        "test_embed[0][0]"
      ],
      "metadata": {
        "colab": {
          "base_uri": "https://localhost:8080/"
        },
        "id": "ib66lOVVvHni",
        "outputId": "6a4ff368-4717-43a1-ca3e-a39493b401a8"
      },
      "execution_count": 15,
      "outputs": [
        {
          "output_type": "stream",
          "name": "stdout",
          "text": [
            "text:@\n"
          ]
        },
        {
          "output_type": "execute_result",
          "data": {
            "text/plain": [
              "<tf.Tensor: shape=(128,), dtype=float32, numpy=\n",
              "array([ 4.8236847e-03,  1.1147320e-02,  1.4663551e-02,  2.0489041e-02,\n",
              "        2.4113227e-02, -2.4209572e-02,  1.7650757e-02,  6.5895170e-04,\n",
              "        3.6374081e-02, -4.6947360e-02,  3.6341559e-02, -2.7665425e-02,\n",
              "        4.2725969e-02, -2.3372544e-02, -4.7758985e-02,  3.2030232e-03,\n",
              "       -3.3475354e-02, -1.1893380e-02,  4.7761571e-02,  9.6327886e-03,\n",
              "        4.3743823e-02, -2.2694159e-02, -2.7112842e-02,  4.1940100e-03,\n",
              "       -6.9982186e-03, -2.0042170e-02, -4.0495981e-02, -2.4151279e-02,\n",
              "       -2.3271799e-02, -4.8897218e-02, -4.7361732e-02,  4.7066461e-02,\n",
              "        4.6798673e-02,  1.1944722e-02, -1.1021592e-02, -4.8984684e-02,\n",
              "       -4.7139253e-02, -5.1415078e-03,  4.1741755e-02,  2.6406679e-02,\n",
              "       -1.6625118e-02, -1.5390098e-02, -1.2822472e-02,  4.2461816e-02,\n",
              "       -1.1826217e-02, -3.4683369e-02,  4.2948309e-02, -7.7293031e-03,\n",
              "        4.5214478e-02,  8.4716193e-03, -3.9111055e-02, -1.8026076e-02,\n",
              "       -1.7737292e-02, -4.7261931e-02, -1.5102208e-02,  2.3316417e-02,\n",
              "       -3.4805156e-02, -4.3256201e-02,  8.0767870e-03,  3.5076786e-02,\n",
              "        4.2819533e-02,  6.9533959e-03, -3.4062803e-02,  1.4114525e-02,\n",
              "        2.0265367e-02, -1.7408311e-02,  2.8704178e-02, -2.5427580e-02,\n",
              "        4.6888713e-02,  4.2943049e-02, -1.2398444e-02, -1.7374765e-02,\n",
              "       -4.2065095e-02,  8.1071369e-03,  3.6733214e-02, -4.8864033e-02,\n",
              "        2.1136012e-02, -3.8132809e-02,  1.2428537e-03,  4.2368699e-02,\n",
              "        3.2208491e-02,  3.1206463e-02, -4.0627778e-02,  2.6808094e-02,\n",
              "        4.6113696e-02, -4.3711673e-02, -2.9625071e-02, -4.3842625e-02,\n",
              "        4.8316494e-03,  4.8116222e-03, -4.6257496e-02, -3.4251858e-02,\n",
              "       -3.1822670e-02,  1.4497545e-02,  5.8583505e-03,  2.6178446e-02,\n",
              "       -1.5673041e-02,  2.1179151e-02, -1.4094330e-02,  8.6345077e-03,\n",
              "       -1.7091431e-02, -3.1923592e-02, -1.9714944e-03, -8.1049092e-03,\n",
              "       -4.2391002e-02, -2.8699040e-02, -6.2950961e-03,  2.3154151e-02,\n",
              "       -4.4343185e-02,  4.0713836e-02,  2.2565212e-02, -4.3507613e-02,\n",
              "        4.5578290e-02,  1.6534951e-02,  2.5695052e-02,  3.3319842e-02,\n",
              "       -2.3013366e-02, -2.3828780e-02,  1.0938704e-02,  2.8846625e-02,\n",
              "       -2.2385454e-02, -8.0515370e-03,  4.8797596e-02,  3.5883296e-02,\n",
              "        1.6205423e-03,  2.2623803e-02,  1.0691583e-05, -5.2167289e-03],\n",
              "      dtype=float32)>"
            ]
          },
          "metadata": {},
          "execution_count": 15
        }
      ]
    },
    {
      "cell_type": "markdown",
      "source": [
        "###Modelling a text dataset\n",
        "---\n",
        "Once you've got your inputs and outputs prepared, it's a matter of figuring out which machine learning model to build in between them to bridge the gap.\n",
        "\n",
        "Now that we've got a way to turn our text data into numbers, we can start to build machine learning models to model it.\n",
        "\n",
        "To get plenty of practice, we're going to build a series of different models, each as its own experiment. We'll then compare the results of each model and see which one performed best.\n",
        "\n",
        "**More specifically, we'll be building the following:**\n",
        "\n",
        "Model 0: Naive Bayes (baseline)\n",
        "\n",
        "Model 1: Feed-forward neural network (dense model)\n",
        "\n",
        "Model 2: LSTM model\n",
        "\n",
        "Model 3: GRU model\n",
        "\n",
        "Model 4: Bidirectional-LSTM model\n",
        "\n",
        "Model 5: 1D Convolutional Neural Network\n",
        "\n",
        "Model 6: TensorFlow Hub Pretrained Feature Extractor\n",
        "\n",
        "Model 7: Same as model 6 with 10% of training data"
      ],
      "metadata": {
        "id": "265oQ66Mynl0"
      }
    },
    {
      "cell_type": "code",
      "source": [
        "#creating the evaluation functions:\n",
        "\n",
        "from sklearn.metrics import accuracy_score,precision_recall_fscore_support\n",
        "\n",
        "def calculate_result(y_true,y_prediction):\n",
        "    model_accuracy=accuracy_score(y_true,y_prediction)\n",
        "    model_precision,model_recall,model_f1,_= precision_recall_fscore_support(y_true,y_prediction,average=\"weighted\")\n",
        "\n",
        "    model_result={ 'model_accuracy':model_accuracy,\n",
        "                  'model_precision':model_precision,\n",
        "                  'model_recall': model_recall,\n",
        "                  'model_f1':model_f1   }\n",
        "    return model_result\n"
      ],
      "metadata": {
        "id": "bU5xV2Tt9Umj"
      },
      "execution_count": 16,
      "outputs": []
    },
    {
      "cell_type": "code",
      "source": [
        "## MODELLING :test one:\n",
        "\n",
        "##creating the callback function\n",
        "import datetime\n",
        "dir=\"/content/\"+datetime.datetime.now().strftime(\"%Y%m%d-%H%M%S\")\n",
        "tensorflow_callback=tf.keras.callbacks.TensorBoard(dir)\n",
        "\n",
        "\n",
        "input=tf.keras.layers.Input(shape=(1,),dtype=\"string\")# inputs are 1-dimensional strings\n",
        "x=text_vectorization(input)# turn the input text into numbers\n",
        "x=embed(x) # create an embedding of the numerized numbers\n",
        "x=tf.keras.layers.GlobalAveragePooling1D()(x)# lower the dimensionality of the embedding (try running the model without this layer and see what happens)\n",
        "output=tf.keras.layers.Dense(1, activation=\"sigmoid\")(x)# create the output layer, want binary outputs so use sigmoid activation\n",
        "\n",
        "# creating the model:\n",
        "model_1=tf.keras.Model(input,output, name=\"model_one\")"
      ],
      "metadata": {
        "id": "YyljDWTBwTL1"
      },
      "execution_count": 17,
      "outputs": []
    },
    {
      "cell_type": "code",
      "source": [
        "## compiling the model\n",
        "model_1.compile(optimizer=tf.keras.optimizers.Adam(),\n",
        "              loss=tf.keras.losses.BinaryCrossentropy(),\n",
        "              metrics=[\"accuracy\"])"
      ],
      "metadata": {
        "id": "wfVUxd8M_JO_"
      },
      "execution_count": 18,
      "outputs": []
    },
    {
      "cell_type": "code",
      "source": [
        "model_1.summary()"
      ],
      "metadata": {
        "colab": {
          "base_uri": "https://localhost:8080/"
        },
        "id": "6BW34Pn52TKo",
        "outputId": "cc6cde42-569e-417a-bbcb-1ba3a6822b81"
      },
      "execution_count": 19,
      "outputs": [
        {
          "output_type": "stream",
          "name": "stdout",
          "text": [
            "Model: \"model_one\"\n",
            "_________________________________________________________________\n",
            " Layer (type)                Output Shape              Param #   \n",
            "=================================================================\n",
            " input_1 (InputLayer)        [(None, 1)]               0         \n",
            "                                                                 \n",
            " text_vectorization (TextVec  (None, 15)               0         \n",
            " torization)                                                     \n",
            "                                                                 \n",
            " embedding (Embedding)       (None, 15, 128)           128000    \n",
            "                                                                 \n",
            " global_average_pooling1d (G  (None, 128)              0         \n",
            " lobalAveragePooling1D)                                          \n",
            "                                                                 \n",
            " dense (Dense)               (None, 1)                 129       \n",
            "                                                                 \n",
            "=================================================================\n",
            "Total params: 128,129\n",
            "Trainable params: 128,129\n",
            "Non-trainable params: 0\n",
            "_________________________________________________________________\n"
          ]
        }
      ]
    },
    {
      "cell_type": "markdown",
      "source": [
        "#####Most of the trainable parameters are contained within the embedding layer.\n",
        "\n",
        "**Recall we created an embedding of size 128 (output_dim=128) for a vocabulary of size 10,000 (input_dim=10000), ie 128*10000 hence the 1,280,000 trainable parameters.**\n",
        "\n",
        "Alright, our model is compiled, let's fit it to our training data for 5 epochs.\n",
        "We'll also pass our TensorBoard callback function to make sure our model's training metrics are logged."
      ],
      "metadata": {
        "id": "kZsA-zof8stA"
      }
    },
    {
      "cell_type": "code",
      "source": [
        "##fitting the model:\n",
        "history_model_1= model_1.fit(train_sentence,train_label,\n",
        "                             epochs=5,\n",
        "                             validation_data=(valid_sentence,valid_label),\n",
        "                             callbacks=[tensorflow_callback])"
      ],
      "metadata": {
        "colab": {
          "base_uri": "https://localhost:8080/"
        },
        "id": "scuuNGRE73um",
        "outputId": "73d7a998-390c-4089-ca38-63584ce3b4be"
      },
      "execution_count": 20,
      "outputs": [
        {
          "output_type": "stream",
          "name": "stdout",
          "text": [
            "Epoch 1/5\n",
            "191/191 [==============================] - 9s 15ms/step - loss: 0.6296 - accuracy: 0.6662 - val_loss: 0.5591 - val_accuracy: 0.7433\n",
            "Epoch 2/5\n",
            "191/191 [==============================] - 3s 13ms/step - loss: 0.5040 - accuracy: 0.7762 - val_loss: 0.4883 - val_accuracy: 0.7859\n",
            "Epoch 3/5\n",
            "191/191 [==============================] - 3s 13ms/step - loss: 0.4445 - accuracy: 0.8023 - val_loss: 0.4679 - val_accuracy: 0.7886\n",
            "Epoch 4/5\n",
            "191/191 [==============================] - 2s 12ms/step - loss: 0.4150 - accuracy: 0.8195 - val_loss: 0.4617 - val_accuracy: 0.7879\n",
            "Epoch 5/5\n",
            "191/191 [==============================] - 2s 13ms/step - loss: 0.3967 - accuracy: 0.8217 - val_loss: 0.4572 - val_accuracy: 0.7971\n"
          ]
        }
      ]
    },
    {
      "cell_type": "code",
      "source": [
        "## evaluate the model:\n",
        "# Check the results\n",
        "model_1.evaluate(valid_sentence, valid_label)"
      ],
      "metadata": {
        "colab": {
          "base_uri": "https://localhost:8080/"
        },
        "id": "UzGFqUKh9qmi",
        "outputId": "7073aeb2-b684-4cbf-a2fc-c5c6290109d1"
      },
      "execution_count": 21,
      "outputs": [
        {
          "output_type": "stream",
          "name": "stdout",
          "text": [
            "48/48 [==============================] - 0s 7ms/step - loss: 0.4572 - accuracy: 0.7971\n"
          ]
        },
        {
          "output_type": "execute_result",
          "data": {
            "text/plain": [
              "[0.45720961689949036, 0.7971109747886658]"
            ]
          },
          "metadata": {},
          "execution_count": 21
        }
      ]
    },
    {
      "cell_type": "code",
      "source": [
        "embed.weights"
      ],
      "metadata": {
        "colab": {
          "base_uri": "https://localhost:8080/"
        },
        "id": "oemxDnZ4AGB_",
        "outputId": "998630b8-e732-41e5-ec3a-1f0210e56b9a"
      },
      "execution_count": 22,
      "outputs": [
        {
          "output_type": "execute_result",
          "data": {
            "text/plain": [
              "[<tf.Variable 'embedding/embeddings:0' shape=(1000, 128) dtype=float32, numpy=\n",
              " array([[-0.06148476,  0.02318658, -0.04034749, ..., -0.00628182,\n",
              "         -0.00870261,  0.03261742],\n",
              "        [-0.00769676, -0.00121251,  0.00213842, ...,  0.03479509,\n",
              "          0.01247953,  0.00694555],\n",
              "        [-0.01465766, -0.03059987, -0.02664799, ...,  0.03162967,\n",
              "          0.03202447,  0.03609628],\n",
              "        ...,\n",
              "        [ 0.05553561,  0.02113368,  0.00258693, ..., -0.00089247,\n",
              "         -0.0805729 , -0.06568798],\n",
              "        [ 0.10500549,  0.07570121,  0.14432263, ..., -0.14196205,\n",
              "         -0.10544059, -0.11025136],\n",
              "        [-0.13531199, -0.04363405, -0.10847173, ...,  0.08237384,\n",
              "          0.10476168,  0.0689557 ]], dtype=float32)>]"
            ]
          },
          "metadata": {},
          "execution_count": 22
        }
      ]
    },
    {
      "cell_type": "code",
      "source": [
        "embed_weights=model_1.get_layer(\"embedding\").get_weights()[0]\n",
        "print(embed_weights,\"\\n\\n\",embed_weights.shape)"
      ],
      "metadata": {
        "colab": {
          "base_uri": "https://localhost:8080/"
        },
        "id": "v21t9A2bAO4A",
        "outputId": "80054a68-a869-4413-e153-86d9f031ff0c"
      },
      "execution_count": 24,
      "outputs": [
        {
          "output_type": "stream",
          "name": "stdout",
          "text": [
            "[[-0.06148476  0.02318658 -0.04034749 ... -0.00628182 -0.00870261\n",
            "   0.03261742]\n",
            " [-0.00769676 -0.00121251  0.00213842 ...  0.03479509  0.01247953\n",
            "   0.00694555]\n",
            " [-0.01465766 -0.03059987 -0.02664799 ...  0.03162967  0.03202447\n",
            "   0.03609628]\n",
            " ...\n",
            " [ 0.05553561  0.02113368  0.00258693 ... -0.00089247 -0.0805729\n",
            "  -0.06568798]\n",
            " [ 0.10500549  0.07570121  0.14432263 ... -0.14196205 -0.10544059\n",
            "  -0.11025136]\n",
            " [-0.13531199 -0.04363405 -0.10847173 ...  0.08237384  0.10476168\n",
            "   0.0689557 ]] \n",
            "\n",
            " (1000, 128)\n"
          ]
        }
      ]
    },
    {
      "cell_type": "code",
      "source": [
        "# # View tensorboard logs of transfer learning modelling experiments (should be 4 models)\n",
        "# # Upload TensorBoard dev records\n",
        "#!tensorboard dev upload --logdir ./content/20220305-163655 \\\n",
        "#   --name \"First deep model on text data\" \\\n",
        "#   --description \"Trying a dense model with an embedding layer\" \\\n",
        "#   --one_shot # exits the uploader when upload has finished"
      ],
      "metadata": {
        "id": "M4VMnwnzBZKi"
      },
      "execution_count": 25,
      "outputs": []
    },
    {
      "cell_type": "code",
      "source": [
        "# If you need to remove previous experiments, you can do so using the following command\n",
        "# !tensorboard dev delete --experiment_id EXPERIMENT_ID_TO_DELETE"
      ],
      "metadata": {
        "id": "NenaBBvaDMo6"
      },
      "execution_count": 26,
      "outputs": []
    },
    {
      "cell_type": "code",
      "source": [
        "##making predictionsprobability\n",
        "\n",
        "model_1_pred_probs=model_1.predict(valid_sentence)\n",
        "model_1_pred_probs"
      ],
      "metadata": {
        "colab": {
          "base_uri": "https://localhost:8080/"
        },
        "id": "BM3sXRkADTU6",
        "outputId": "89c09131-e258-4415-fc49-a806829087d4"
      },
      "execution_count": 27,
      "outputs": [
        {
          "output_type": "execute_result",
          "data": {
            "text/plain": [
              "array([[0.23445068],\n",
              "       [0.37403584],\n",
              "       [0.56699353],\n",
              "       ...,\n",
              "       [0.23366076],\n",
              "       [0.57942116],\n",
              "       [0.1380776 ]], dtype=float32)"
            ]
          },
          "metadata": {},
          "execution_count": 27
        }
      ]
    },
    {
      "cell_type": "code",
      "source": [
        "model_1_prediction=tf.round(model_1_pred_probs)"
      ],
      "metadata": {
        "id": "Xdxbmm4cD-em"
      },
      "execution_count": 28,
      "outputs": []
    },
    {
      "cell_type": "code",
      "source": [
        "model_1_prediction.shape,model_1_prediction"
      ],
      "metadata": {
        "colab": {
          "base_uri": "https://localhost:8080/"
        },
        "id": "nRWixUaVElL3",
        "outputId": "a96ba00e-8b60-4a98-acf9-5389712835f8"
      },
      "execution_count": 29,
      "outputs": [
        {
          "output_type": "execute_result",
          "data": {
            "text/plain": [
              "(TensorShape([1523, 1]), <tf.Tensor: shape=(1523, 1), dtype=float32, numpy=\n",
              " array([[0.],\n",
              "        [0.],\n",
              "        [1.],\n",
              "        ...,\n",
              "        [0.],\n",
              "        [1.],\n",
              "        [0.]], dtype=float32)>)"
            ]
          },
          "metadata": {},
          "execution_count": 29
        }
      ]
    },
    {
      "cell_type": "code",
      "source": [
        "## need to remove the dimention :\n",
        "model_1_predictions=tf.squeeze(model_1_prediction)\n",
        "model_1_predictions,model_1_predictions.shape"
      ],
      "metadata": {
        "colab": {
          "base_uri": "https://localhost:8080/"
        },
        "id": "eSClHFuBEm-T",
        "outputId": "d357747a-6db5-44c1-862f-828af0e93744"
      },
      "execution_count": 30,
      "outputs": [
        {
          "output_type": "execute_result",
          "data": {
            "text/plain": [
              "(<tf.Tensor: shape=(1523,), dtype=float32, numpy=array([0., 0., 1., ..., 0., 1., 0.], dtype=float32)>,\n",
              " TensorShape([1523]))"
            ]
          },
          "metadata": {},
          "execution_count": 30
        }
      ]
    },
    {
      "cell_type": "code",
      "source": [
        "model_1_result=calculate_result(valid_label,model_1_predictions)\n",
        "model_1_result"
      ],
      "metadata": {
        "colab": {
          "base_uri": "https://localhost:8080/"
        },
        "id": "hMPpsvewAhOq",
        "outputId": "4969dab1-ba9d-4082-d84c-4c1beec5ee4e"
      },
      "execution_count": 31,
      "outputs": [
        {
          "output_type": "execute_result",
          "data": {
            "text/plain": [
              "{'model_accuracy': 0.7971109652002626,\n",
              " 'model_f1': 0.7942272913814911,\n",
              " 'model_precision': 0.7968414875256773,\n",
              " 'model_recall': 0.7971109652002626}"
            ]
          },
          "metadata": {},
          "execution_count": 31
        }
      ]
    },
    {
      "cell_type": "code",
      "source": [
        "from sklearn import metrics\n",
        "## creating the model 3:LSTM long short term memory.\n",
        "\n",
        "input=tf.keras.Input(shape=(1,),dtype=\"string\")\n",
        "x=text_vectorization(input)\n",
        "x=embed(x)\n",
        "x=tf.keras.layers.LSTM(128)(x)\n",
        "output=tf.keras.layers.Dense(1,activation='sigmoid')(x)\n",
        "model_2=tf.keras.Model(input,output)\n",
        "\n",
        "# model_2 compiling:\n",
        "model_2.compile(loss=tf.keras.losses.BinaryCrossentropy(),\n",
        "               optimizer=tf.keras.optimizers.Adam(),\n",
        "                metrics=['accuracy'])\n",
        "#fitting the model:\n",
        "history_model_2=model_2.fit(train_sentence,train_label,\n",
        "                            epochs=5,\n",
        "                            validation_data=(valid_sentence,valid_label),\n",
        "                            callbacks=[tensorflow_callback]\n",
        "                            )\n",
        "model_2.summary()"
      ],
      "metadata": {
        "colab": {
          "base_uri": "https://localhost:8080/"
        },
        "id": "2yZeJAlABVLR",
        "outputId": "ebb14993-2a4d-4a93-9150-ea5e8714c139"
      },
      "execution_count": 32,
      "outputs": [
        {
          "output_type": "stream",
          "name": "stdout",
          "text": [
            "Epoch 1/5\n",
            "191/191 [==============================] - 7s 15ms/step - loss: 0.4074 - accuracy: 0.8251 - val_loss: 0.4614 - val_accuracy: 0.7945\n",
            "Epoch 2/5\n",
            "191/191 [==============================] - 2s 12ms/step - loss: 0.3812 - accuracy: 0.8345 - val_loss: 0.4572 - val_accuracy: 0.7912\n",
            "Epoch 3/5\n",
            "191/191 [==============================] - 2s 11ms/step - loss: 0.3735 - accuracy: 0.8366 - val_loss: 0.4632 - val_accuracy: 0.7905\n",
            "Epoch 4/5\n",
            "191/191 [==============================] - 2s 12ms/step - loss: 0.3605 - accuracy: 0.8425 - val_loss: 0.4585 - val_accuracy: 0.7859\n",
            "Epoch 5/5\n",
            "191/191 [==============================] - 2s 12ms/step - loss: 0.3470 - accuracy: 0.8489 - val_loss: 0.4756 - val_accuracy: 0.7807\n",
            "Model: \"model\"\n",
            "_________________________________________________________________\n",
            " Layer (type)                Output Shape              Param #   \n",
            "=================================================================\n",
            " input_2 (InputLayer)        [(None, 1)]               0         \n",
            "                                                                 \n",
            " text_vectorization (TextVec  (None, 15)               0         \n",
            " torization)                                                     \n",
            "                                                                 \n",
            " embedding (Embedding)       (None, 15, 128)           128000    \n",
            "                                                                 \n",
            " lstm (LSTM)                 (None, 128)               131584    \n",
            "                                                                 \n",
            " dense_1 (Dense)             (None, 1)                 129       \n",
            "                                                                 \n",
            "=================================================================\n",
            "Total params: 259,713\n",
            "Trainable params: 259,713\n",
            "Non-trainable params: 0\n",
            "_________________________________________________________________\n"
          ]
        }
      ]
    },
    {
      "cell_type": "code",
      "source": [
        "## prediction over fitted model:\n",
        "model_2_pred=tf.squeeze(tf.round(model_2.predict(valid_sentence)))\n",
        "model_2_pred"
      ],
      "metadata": {
        "colab": {
          "base_uri": "https://localhost:8080/"
        },
        "id": "XJL9WZK-DWsD",
        "outputId": "b53114cd-83f9-4cf1-964b-3369c8374363"
      },
      "execution_count": 33,
      "outputs": [
        {
          "output_type": "execute_result",
          "data": {
            "text/plain": [
              "<tf.Tensor: shape=(1523,), dtype=float32, numpy=array([0., 0., 1., ..., 0., 0., 0.], dtype=float32)>"
            ]
          },
          "metadata": {},
          "execution_count": 33
        }
      ]
    },
    {
      "cell_type": "code",
      "source": [
        "model_2_result=calculate_result(valid_label,model_2_pred)\n",
        "model_2_result"
      ],
      "metadata": {
        "colab": {
          "base_uri": "https://localhost:8080/"
        },
        "id": "i49LQOnLHRiD",
        "outputId": "5cba7c02-96a3-43b7-bafb-c37d6f3ddede"
      },
      "execution_count": 34,
      "outputs": [
        {
          "output_type": "execute_result",
          "data": {
            "text/plain": [
              "{'model_accuracy': 0.7806959947472094,\n",
              " 'model_f1': 0.7788035415578313,\n",
              " 'model_precision': 0.7792594324528506,\n",
              " 'model_recall': 0.7806959947472094}"
            ]
          },
          "metadata": {},
          "execution_count": 34
        }
      ]
    },
    {
      "cell_type": "code",
      "source": [
        "## lets try another model basic model : using th extra layer bidirectional.\n",
        "\n",
        "input=tf.keras.layers.Input(shape=(1,),dtype='string')\n",
        "x=text_vectorization(input)\n",
        "x=embed(x)\n",
        "x=tf.keras.layers.Bidirectional(tf.keras.layers.LSTM(128))(x)\n",
        "output=tf.keras.layers.Dense(1,activation=\"sigmoid\")(x)\n",
        "model_3=tf.keras.Model(input,output)\n",
        "\n",
        "## compiling the model:\n",
        "model_3.compile(loss=tf.keras.losses.BinaryCrossentropy(),\n",
        "                optimizer=tf.keras.optimizers.Adam(),\n",
        "                metrics=['accuracy'])\n",
        "\n",
        "## fitting the model_3:\n",
        "\n",
        "history_model_3=model_3.fit(train_sentence,train_label,\n",
        "                            epochs=5,\n",
        "                            validation_data=(valid_sentence,valid_label),\n",
        "                            callbacks=[tensorflow_callback])"
      ],
      "metadata": {
        "id": "e1Hm3YWgIIy8",
        "colab": {
          "base_uri": "https://localhost:8080/"
        },
        "outputId": "291d2593-ba33-4c58-b218-082266a46acb"
      },
      "execution_count": 35,
      "outputs": [
        {
          "output_type": "stream",
          "name": "stdout",
          "text": [
            "Epoch 1/5\n",
            "191/191 [==============================] - 9s 25ms/step - loss: 0.3714 - accuracy: 0.8430 - val_loss: 0.4732 - val_accuracy: 0.7925\n",
            "Epoch 2/5\n",
            "191/191 [==============================] - 3s 17ms/step - loss: 0.3402 - accuracy: 0.8565 - val_loss: 0.4678 - val_accuracy: 0.7879\n",
            "Epoch 3/5\n",
            "191/191 [==============================] - 5s 25ms/step - loss: 0.3159 - accuracy: 0.8691 - val_loss: 0.4644 - val_accuracy: 0.7886\n",
            "Epoch 4/5\n",
            "191/191 [==============================] - 5s 26ms/step - loss: 0.2937 - accuracy: 0.8801 - val_loss: 0.4874 - val_accuracy: 0.7814\n",
            "Epoch 5/5\n",
            "191/191 [==============================] - 5s 25ms/step - loss: 0.2737 - accuracy: 0.8897 - val_loss: 0.5618 - val_accuracy: 0.7768\n"
          ]
        }
      ]
    },
    {
      "cell_type": "code",
      "source": [
        "model_3_pred=tf.squeeze(tf.round(model_3.predict(valid_sentence)))\n",
        "model_3_pred"
      ],
      "metadata": {
        "colab": {
          "base_uri": "https://localhost:8080/"
        },
        "id": "BhOrWmu24gKL",
        "outputId": "f6f04f38-d14f-4501-abca-4d8119137bc1"
      },
      "execution_count": 36,
      "outputs": [
        {
          "output_type": "execute_result",
          "data": {
            "text/plain": [
              "<tf.Tensor: shape=(1523,), dtype=float32, numpy=array([0., 0., 1., ..., 0., 0., 0.], dtype=float32)>"
            ]
          },
          "metadata": {},
          "execution_count": 36
        }
      ]
    },
    {
      "cell_type": "code",
      "source": [
        "model_3_result=calculate_result(valid_label,model_3_pred)\n",
        "\n",
        "print(model_3_result)\n",
        "print(model_3.summary())"
      ],
      "metadata": {
        "colab": {
          "base_uri": "https://localhost:8080/"
        },
        "id": "RZ-dPBBn6VLG",
        "outputId": "35acd372-4198-4eca-916f-8ec2e7520075"
      },
      "execution_count": 37,
      "outputs": [
        {
          "output_type": "stream",
          "name": "stdout",
          "text": [
            "{'model_accuracy': 0.7767564018384767, 'model_precision': 0.7752520452941478, 'model_recall': 0.7767564018384767, 'model_f1': 0.7751398536097055}\n",
            "Model: \"model_1\"\n",
            "_________________________________________________________________\n",
            " Layer (type)                Output Shape              Param #   \n",
            "=================================================================\n",
            " input_3 (InputLayer)        [(None, 1)]               0         \n",
            "                                                                 \n",
            " text_vectorization (TextVec  (None, 15)               0         \n",
            " torization)                                                     \n",
            "                                                                 \n",
            " embedding (Embedding)       (None, 15, 128)           128000    \n",
            "                                                                 \n",
            " bidirectional (Bidirectiona  (None, 256)              263168    \n",
            " l)                                                              \n",
            "                                                                 \n",
            " dense_2 (Dense)             (None, 1)                 257       \n",
            "                                                                 \n",
            "=================================================================\n",
            "Total params: 391,425\n",
            "Trainable params: 391,425\n",
            "Non-trainable params: 0\n",
            "_________________________________________________________________\n",
            "None\n"
          ]
        }
      ]
    },
    {
      "cell_type": "code",
      "source": [
        "#model_5 convid layer addition:\n",
        "\n",
        "input=tf.keras.layers.Input(shape=(1,),dtype='string')\n",
        "x=text_vectorization(input)\n",
        "x=embed(x)\n",
        "x=tf.keras.layers.Conv1D(64,5,activation='sigmoid')(x)\n",
        "x=tf.keras.layers.GlobalMaxPooling1D()(x)\n",
        "output=tf.keras.layers.Dense(1,activation='sigmoid')(x)\n",
        "model_4=tf.keras.Model(input,output)\n",
        "\n",
        "#compile the model:\n",
        "\n",
        "model_4.compile(loss=tf.keras.losses.BinaryCrossentropy(),\n",
        "                optimizer=tf.keras.optimizers.Adam(),\n",
        "                metrics=['accuracy'])\n",
        "\n",
        "## fitting the model_4:\n",
        "history_model_4=model_4.fit(train_sentence,train_label,\n",
        "                            epochs=5,\n",
        "                            validation_data=(valid_sentence,valid_label),\n",
        "                            callbacks=[tensorflow_callback])"
      ],
      "metadata": {
        "colab": {
          "base_uri": "https://localhost:8080/"
        },
        "id": "G4E7Tdsg6iXD",
        "outputId": "66e8a927-6db0-4191-a66c-dfbb582e3a0b"
      },
      "execution_count": 38,
      "outputs": [
        {
          "output_type": "stream",
          "name": "stdout",
          "text": [
            "Epoch 1/5\n",
            "191/191 [==============================] - 9s 9ms/step - loss: 0.4190 - accuracy: 0.8287 - val_loss: 0.4731 - val_accuracy: 0.7912\n",
            "Epoch 2/5\n",
            "191/191 [==============================] - 2s 9ms/step - loss: 0.3683 - accuracy: 0.8429 - val_loss: 0.4767 - val_accuracy: 0.7886\n",
            "Epoch 3/5\n",
            "191/191 [==============================] - 2s 8ms/step - loss: 0.3532 - accuracy: 0.8491 - val_loss: 0.4852 - val_accuracy: 0.7919\n",
            "Epoch 4/5\n",
            "191/191 [==============================] - 1s 8ms/step - loss: 0.3370 - accuracy: 0.8578 - val_loss: 0.4977 - val_accuracy: 0.7774\n",
            "Epoch 5/5\n",
            "191/191 [==============================] - 2s 8ms/step - loss: 0.3204 - accuracy: 0.8686 - val_loss: 0.5036 - val_accuracy: 0.7899\n"
          ]
        }
      ]
    },
    {
      "cell_type": "code",
      "source": [
        "model_4_pred=tf.squeeze(tf.round(model_4.predict(valid_sentence)))\n",
        "model_4_pred"
      ],
      "metadata": {
        "colab": {
          "base_uri": "https://localhost:8080/"
        },
        "id": "b3_sXMHo8Hyd",
        "outputId": "d26adb41-cc73-4c3d-f20b-201db9ab8d4a"
      },
      "execution_count": 39,
      "outputs": [
        {
          "output_type": "execute_result",
          "data": {
            "text/plain": [
              "<tf.Tensor: shape=(1523,), dtype=float32, numpy=array([0., 0., 1., ..., 0., 0., 0.], dtype=float32)>"
            ]
          },
          "metadata": {},
          "execution_count": 39
        }
      ]
    },
    {
      "cell_type": "code",
      "source": [
        "model_4_result=calculate_result(valid_label,model_4_pred)\n",
        "model_4_result"
      ],
      "metadata": {
        "colab": {
          "base_uri": "https://localhost:8080/"
        },
        "id": "InXgVMJ-9g8q",
        "outputId": "57b1517f-99ce-4a3f-8f9e-a4539b1c0b8e"
      },
      "execution_count": 40,
      "outputs": [
        {
          "output_type": "execute_result",
          "data": {
            "text/plain": [
              "{'model_accuracy': 0.7898883782009193,\n",
              " 'model_f1': 0.7872021062323799,\n",
              " 'model_precision': 0.7890966813345005,\n",
              " 'model_recall': 0.7898883782009193}"
            ]
          },
          "metadata": {},
          "execution_count": 40
        }
      ]
    },
    {
      "cell_type": "code",
      "source": [
        "## tranfer learning {universal sentence encoder}\n",
        "\n",
        "import tensorflow_hub as hub\n",
        "embed = hub.load(\"https://tfhub.dev/google/universal-sentence-encoder/4\")\n",
        "embed"
      ],
      "metadata": {
        "id": "e-lwS9_p-WAG",
        "colab": {
          "base_uri": "https://localhost:8080/"
        },
        "outputId": "dce56725-df34-40a5-ebf8-1a8658eda454"
      },
      "execution_count": 41,
      "outputs": [
        {
          "output_type": "execute_result",
          "data": {
            "text/plain": [
              "<tensorflow.python.saved_model.load.Loader._recreate_base_user_object.<locals>._UserObject at 0x7f43a1ae34d0>"
            ]
          },
          "metadata": {},
          "execution_count": 41
        }
      ]
    },
    {
      "cell_type": "code",
      "source": [
        "sentence_encode_layer=hub.KerasLayer(\"https://tfhub.dev/google/universal-sentence-encoder/4\",\n",
        "                                     input_shape=[],\n",
        "                                     dtype=\"string\",\n",
        "                                     trainable=False)"
      ],
      "metadata": {
        "id": "6GkSN1lq9nXp"
      },
      "execution_count": 80,
      "outputs": []
    },
    {
      "cell_type": "code",
      "source": [
        "## creating the model through Sequential API\n",
        "\n",
        "model_6= tf.keras.Sequential([ sentence_encode_layer,\n",
        "                              tf.keras.layers.Dense(128,activation=\"relu\"),\n",
        "                              tf.keras.layers.Dense(128,activation=\"relu\"),\n",
        "                              tf.keras.layers.Dense(1,activation=\"sigmoid\") ])\n",
        "## compile the model 6:\n",
        "model_6.compile(loss=tf.keras.losses.BinaryCrossentropy(),\n",
        "                optimizer=tf.keras.optimizers.Adam(),\n",
        "                metrics=['accuracy'])\n",
        "\n",
        "## fitting the model_6:\n",
        "\n",
        "history_model_6=model_6.fit( train_sentence,train_label,\n",
        "                            epochs=3,   \n",
        "                            validation_data=(valid_sentence,valid_label),\n",
        "                            callbacks=[tensorflow_callback]);"
      ],
      "metadata": {
        "colab": {
          "base_uri": "https://localhost:8080/"
        },
        "id": "hpPNjaui-yo6",
        "outputId": "53c0687a-5e4d-40e4-ff3a-45c2906e0e83"
      },
      "execution_count": 81,
      "outputs": [
        {
          "output_type": "stream",
          "name": "stdout",
          "text": [
            "Epoch 1/3\n",
            "191/191 [==============================] - 8s 28ms/step - loss: 0.4756 - accuracy: 0.7856 - val_loss: 0.4197 - val_accuracy: 0.8142\n",
            "Epoch 2/3\n",
            "191/191 [==============================] - 5s 25ms/step - loss: 0.3947 - accuracy: 0.8264 - val_loss: 0.4032 - val_accuracy: 0.8365\n",
            "Epoch 3/3\n",
            "191/191 [==============================] - 4s 22ms/step - loss: 0.3674 - accuracy: 0.8407 - val_loss: 0.4031 - val_accuracy: 0.8273\n"
          ]
        }
      ]
    },
    {
      "cell_type": "code",
      "source": [
        "model_6_pred=tf.squeeze((model_6.predict(valid_sentence)))\n",
        "model_6_pred_probs=tf.round(model_6_pred)\n",
        "model_6_pred,model_6_pred_probs"
      ],
      "metadata": {
        "colab": {
          "base_uri": "https://localhost:8080/"
        },
        "id": "M0RU8998_Xwk",
        "outputId": "a7c92a7f-9a0b-4c5e-c486-2edd5aba2566"
      },
      "execution_count": 100,
      "outputs": [
        {
          "output_type": "execute_result",
          "data": {
            "text/plain": [
              "(<tf.Tensor: shape=(1523,), dtype=float32, numpy=\n",
              " array([0.22493367, 0.07609187, 0.9049177 , ..., 0.10247773, 0.17009874,\n",
              "        0.09528247], dtype=float32)>,\n",
              " <tf.Tensor: shape=(1523,), dtype=float32, numpy=array([0., 0., 1., ..., 0., 0., 0.], dtype=float32)>)"
            ]
          },
          "metadata": {},
          "execution_count": 100
        }
      ]
    },
    {
      "cell_type": "code",
      "source": [
        "model_6_result=calculate_result(valid_label,model_6_pred)\n",
        "model_6_result"
      ],
      "metadata": {
        "colab": {
          "base_uri": "https://localhost:8080/"
        },
        "id": "_0HbtKY7DnRG",
        "outputId": "839e3a9c-7dcb-4eb3-ef15-266e85cef7fa"
      },
      "execution_count": 45,
      "outputs": [
        {
          "output_type": "execute_result",
          "data": {
            "text/plain": [
              "{'model_accuracy': 0.8253447143795141,\n",
              " 'model_f1': 0.823181359230396,\n",
              " 'model_precision': 0.8255945094919267,\n",
              " 'model_recall': 0.8253447143795141}"
            ]
          },
          "metadata": {},
          "execution_count": 45
        }
      ]
    },
    {
      "cell_type": "code",
      "source": [
        "model_6.summary()"
      ],
      "metadata": {
        "colab": {
          "base_uri": "https://localhost:8080/"
        },
        "id": "FABhhVDxHsme",
        "outputId": "76d6254f-53a1-40bf-88a3-86463e33f5e0"
      },
      "execution_count": 46,
      "outputs": [
        {
          "output_type": "stream",
          "name": "stdout",
          "text": [
            "Model: \"sequential\"\n",
            "_________________________________________________________________\n",
            " Layer (type)                Output Shape              Param #   \n",
            "=================================================================\n",
            " keras_layer (KerasLayer)    (None, 512)               256797824 \n",
            "                                                                 \n",
            " dense_4 (Dense)             (None, 128)               65664     \n",
            "                                                                 \n",
            " dense_5 (Dense)             (None, 128)               16512     \n",
            "                                                                 \n",
            " dense_6 (Dense)             (None, 1)                 129       \n",
            "                                                                 \n",
            "=================================================================\n",
            "Total params: 256,880,129\n",
            "Trainable params: 82,305\n",
            "Non-trainable params: 256,797,824\n",
            "_________________________________________________________________\n"
          ]
        }
      ]
    },
    {
      "cell_type": "code",
      "source": [
        "## compairing the all the model:\n",
        "compair_model=pd.DataFrame({'simple_model':model_1_result,\n",
        "                            'LSTM_model':model_2_result,\n",
        "                            'bidirectional':model_3_result,\n",
        "                            'Convid':model_4_result,\n",
        "                            'tensorflow_hub_encoder':model_6_result\n",
        "                            })\n",
        "\n",
        "compair_model.transpose()\n"
      ],
      "metadata": {
        "colab": {
          "base_uri": "https://localhost:8080/",
          "height": 215
        },
        "id": "9OxXIht6EGm0",
        "outputId": "616df4b6-402d-4b00-9113-7e9738ed69e4"
      },
      "execution_count": 49,
      "outputs": [
        {
          "output_type": "execute_result",
          "data": {
            "text/plain": [
              "                        model_accuracy  model_precision  model_recall  \\\n",
              "simple_model                  0.797111         0.796841      0.797111   \n",
              "LSTM_model                    0.780696         0.779259      0.780696   \n",
              "bidirectional                 0.776756         0.775252      0.776756   \n",
              "Convid                        0.789888         0.789097      0.789888   \n",
              "tensorflow_hub_encoder        0.825345         0.825595      0.825345   \n",
              "\n",
              "                        model_f1  \n",
              "simple_model            0.794227  \n",
              "LSTM_model              0.778804  \n",
              "bidirectional           0.775140  \n",
              "Convid                  0.787202  \n",
              "tensorflow_hub_encoder  0.823181  "
            ],
            "text/html": [
              "\n",
              "  <div id=\"df-2c57762a-f5d1-4c27-810f-151d6fbaea29\">\n",
              "    <div class=\"colab-df-container\">\n",
              "      <div>\n",
              "<style scoped>\n",
              "    .dataframe tbody tr th:only-of-type {\n",
              "        vertical-align: middle;\n",
              "    }\n",
              "\n",
              "    .dataframe tbody tr th {\n",
              "        vertical-align: top;\n",
              "    }\n",
              "\n",
              "    .dataframe thead th {\n",
              "        text-align: right;\n",
              "    }\n",
              "</style>\n",
              "<table border=\"1\" class=\"dataframe\">\n",
              "  <thead>\n",
              "    <tr style=\"text-align: right;\">\n",
              "      <th></th>\n",
              "      <th>model_accuracy</th>\n",
              "      <th>model_precision</th>\n",
              "      <th>model_recall</th>\n",
              "      <th>model_f1</th>\n",
              "    </tr>\n",
              "  </thead>\n",
              "  <tbody>\n",
              "    <tr>\n",
              "      <th>simple_model</th>\n",
              "      <td>0.797111</td>\n",
              "      <td>0.796841</td>\n",
              "      <td>0.797111</td>\n",
              "      <td>0.794227</td>\n",
              "    </tr>\n",
              "    <tr>\n",
              "      <th>LSTM_model</th>\n",
              "      <td>0.780696</td>\n",
              "      <td>0.779259</td>\n",
              "      <td>0.780696</td>\n",
              "      <td>0.778804</td>\n",
              "    </tr>\n",
              "    <tr>\n",
              "      <th>bidirectional</th>\n",
              "      <td>0.776756</td>\n",
              "      <td>0.775252</td>\n",
              "      <td>0.776756</td>\n",
              "      <td>0.775140</td>\n",
              "    </tr>\n",
              "    <tr>\n",
              "      <th>Convid</th>\n",
              "      <td>0.789888</td>\n",
              "      <td>0.789097</td>\n",
              "      <td>0.789888</td>\n",
              "      <td>0.787202</td>\n",
              "    </tr>\n",
              "    <tr>\n",
              "      <th>tensorflow_hub_encoder</th>\n",
              "      <td>0.825345</td>\n",
              "      <td>0.825595</td>\n",
              "      <td>0.825345</td>\n",
              "      <td>0.823181</td>\n",
              "    </tr>\n",
              "  </tbody>\n",
              "</table>\n",
              "</div>\n",
              "      <button class=\"colab-df-convert\" onclick=\"convertToInteractive('df-2c57762a-f5d1-4c27-810f-151d6fbaea29')\"\n",
              "              title=\"Convert this dataframe to an interactive table.\"\n",
              "              style=\"display:none;\">\n",
              "        \n",
              "  <svg xmlns=\"http://www.w3.org/2000/svg\" height=\"24px\"viewBox=\"0 0 24 24\"\n",
              "       width=\"24px\">\n",
              "    <path d=\"M0 0h24v24H0V0z\" fill=\"none\"/>\n",
              "    <path d=\"M18.56 5.44l.94 2.06.94-2.06 2.06-.94-2.06-.94-.94-2.06-.94 2.06-2.06.94zm-11 1L8.5 8.5l.94-2.06 2.06-.94-2.06-.94L8.5 2.5l-.94 2.06-2.06.94zm10 10l.94 2.06.94-2.06 2.06-.94-2.06-.94-.94-2.06-.94 2.06-2.06.94z\"/><path d=\"M17.41 7.96l-1.37-1.37c-.4-.4-.92-.59-1.43-.59-.52 0-1.04.2-1.43.59L10.3 9.45l-7.72 7.72c-.78.78-.78 2.05 0 2.83L4 21.41c.39.39.9.59 1.41.59.51 0 1.02-.2 1.41-.59l7.78-7.78 2.81-2.81c.8-.78.8-2.07 0-2.86zM5.41 20L4 18.59l7.72-7.72 1.47 1.35L5.41 20z\"/>\n",
              "  </svg>\n",
              "      </button>\n",
              "      \n",
              "  <style>\n",
              "    .colab-df-container {\n",
              "      display:flex;\n",
              "      flex-wrap:wrap;\n",
              "      gap: 12px;\n",
              "    }\n",
              "\n",
              "    .colab-df-convert {\n",
              "      background-color: #E8F0FE;\n",
              "      border: none;\n",
              "      border-radius: 50%;\n",
              "      cursor: pointer;\n",
              "      display: none;\n",
              "      fill: #1967D2;\n",
              "      height: 32px;\n",
              "      padding: 0 0 0 0;\n",
              "      width: 32px;\n",
              "    }\n",
              "\n",
              "    .colab-df-convert:hover {\n",
              "      background-color: #E2EBFA;\n",
              "      box-shadow: 0px 1px 2px rgba(60, 64, 67, 0.3), 0px 1px 3px 1px rgba(60, 64, 67, 0.15);\n",
              "      fill: #174EA6;\n",
              "    }\n",
              "\n",
              "    [theme=dark] .colab-df-convert {\n",
              "      background-color: #3B4455;\n",
              "      fill: #D2E3FC;\n",
              "    }\n",
              "\n",
              "    [theme=dark] .colab-df-convert:hover {\n",
              "      background-color: #434B5C;\n",
              "      box-shadow: 0px 1px 3px 1px rgba(0, 0, 0, 0.15);\n",
              "      filter: drop-shadow(0px 1px 2px rgba(0, 0, 0, 0.3));\n",
              "      fill: #FFFFFF;\n",
              "    }\n",
              "  </style>\n",
              "\n",
              "      <script>\n",
              "        const buttonEl =\n",
              "          document.querySelector('#df-2c57762a-f5d1-4c27-810f-151d6fbaea29 button.colab-df-convert');\n",
              "        buttonEl.style.display =\n",
              "          google.colab.kernel.accessAllowed ? 'block' : 'none';\n",
              "\n",
              "        async function convertToInteractive(key) {\n",
              "          const element = document.querySelector('#df-2c57762a-f5d1-4c27-810f-151d6fbaea29');\n",
              "          const dataTable =\n",
              "            await google.colab.kernel.invokeFunction('convertToInteractive',\n",
              "                                                     [key], {});\n",
              "          if (!dataTable) return;\n",
              "\n",
              "          const docLinkHtml = 'Like what you see? Visit the ' +\n",
              "            '<a target=\"_blank\" href=https://colab.research.google.com/notebooks/data_table.ipynb>data table notebook</a>'\n",
              "            + ' to learn more about interactive tables.';\n",
              "          element.innerHTML = '';\n",
              "          dataTable['output_type'] = 'display_data';\n",
              "          await google.colab.output.renderOutput(dataTable, element);\n",
              "          const docLink = document.createElement('div');\n",
              "          docLink.innerHTML = docLinkHtml;\n",
              "          element.appendChild(docLink);\n",
              "        }\n",
              "      </script>\n",
              "    </div>\n",
              "  </div>\n",
              "  "
            ]
          },
          "metadata": {},
          "execution_count": 49
        }
      ]
    },
    {
      "cell_type": "code",
      "source": [
        "compair_model.plot(kind='bar',figsize=(10,10)).legend(bbox_to_anchor=(1.0, 1.0));"
      ],
      "metadata": {
        "colab": {
          "base_uri": "https://localhost:8080/",
          "height": 663
        },
        "id": "-yVF4LNSFXgT",
        "outputId": "139284b7-aced-425c-9f98-c8e4bea78d91"
      },
      "execution_count": 67,
      "outputs": [
        {
          "output_type": "display_data",
          "data": {
            "text/plain": [
              "<Figure size 720x720 with 1 Axes>"
            ],
            "image/png": "[encoded data removed]"
          },
          "metadata": {
            "needs_background": "light"
          }
        }
      ]
    },
    {
      "cell_type": "code",
      "source": [
        "# Sort model results by f1-score\n",
        "all_result=compair_model.transpose()\n",
        "all_result.sort_values('model_f1', ascending=False)['model_f1'].plot(kind='bar', figsize=(10, 7));"
      ],
      "metadata": {
        "colab": {
          "base_uri": "https://localhost:8080/",
          "height": 540
        },
        "id": "_2F34tr_Jo5A",
        "outputId": "48625035-8c55-433c-9626-0d013f07f8e3"
      },
      "execution_count": 73,
      "outputs": [
        {
          "output_type": "display_data",
          "data": {
            "text/plain": [
              "<Figure size 720x504 with 1 Axes>"
            ],
            "image/png": "[encoded data removed]"
          },
          "metadata": {
            "needs_background": "light"
          }
        }
      ]
    },
    {
      "cell_type": "code",
      "source": [
        "## loading and saving of the model:\n",
        "# Save TF Hub Sentence Encoder model to HDF5 format\n",
        "model_6.save(\"model_6.h5\")\n"
      ],
      "metadata": {
        "id": "v8RRh0t5LS4h"
      },
      "execution_count": null,
      "outputs": []
    },
    {
      "cell_type": "code",
      "source": [
        "# Load model with custom Hub Layer (required with HDF5 format)\n",
        "\n",
        "loaded_model_6 = tf.keras.models.load_model(\"model_6.h5\", \n",
        "                                            custom_objects={\"KerasLayer\": hub.KerasLayer})"
      ],
      "metadata": {
        "id": "8pIGAhnqOcUh"
      },
      "execution_count": 93,
      "outputs": []
    },
    {
      "cell_type": "code",
      "source": [
        "loaded_model_6.evaluate(valid_sentence,valid_label)"
      ],
      "metadata": {
        "colab": {
          "base_uri": "https://localhost:8080/"
        },
        "id": "ANf6NGCuPamQ",
        "outputId": "6887120f-e8a4-434d-87b4-b4961e840ba1"
      },
      "execution_count": 95,
      "outputs": [
        {
          "output_type": "stream",
          "name": "stdout",
          "text": [
            "48/48 [==============================] - 2s 28ms/step - loss: 0.4031 - accuracy: 0.8273\n"
          ]
        },
        {
          "output_type": "execute_result",
          "data": {
            "text/plain": [
              "[0.4030812680721283, 0.8273144960403442]"
            ]
          },
          "metadata": {},
          "execution_count": 95
        }
      ]
    },
    {
      "cell_type": "code",
      "source": [
        "model_6.evaluate(valid_sentence,valid_label)"
      ],
      "metadata": {
        "colab": {
          "base_uri": "https://localhost:8080/"
        },
        "id": "MM_O8v5nPd4J",
        "outputId": "24577500-17f7-4a2a-d810-832d086c8820"
      },
      "execution_count": 97,
      "outputs": [
        {
          "output_type": "stream",
          "name": "stdout",
          "text": [
            "48/48 [==============================] - 2s 32ms/step - loss: 0.4031 - accuracy: 0.8273\n"
          ]
        },
        {
          "output_type": "execute_result",
          "data": {
            "text/plain": [
              "[0.4030812084674835, 0.8273144960403442]"
            ]
          },
          "metadata": {},
          "execution_count": 97
        }
      ]
    },
    {
      "cell_type": "code",
      "source": [
        " ## compairing the predictions and original targets for sentence also finding the most wrong predictions:\n",
        "\n",
        " valid_dataframe=pd.DataFrame({\n",
        "                                'text':valid_sentence,\n",
        "                               'target':valid_label,\n",
        "                               'pred':model_6_pred_probs,\n",
        "                               'prob_pred':model_6_pred})"
      ],
      "metadata": {
        "id": "f_ZfA8hhPoJb"
      },
      "execution_count": 119,
      "outputs": []
    },
    {
      "cell_type": "code",
      "source": [
        "valid_dataframe"
      ],
      "metadata": {
        "colab": {
          "base_uri": "https://localhost:8080/",
          "height": 655
        },
        "id": "CPFbx-4UWIpD",
        "outputId": "be164ad9-88e2-4695-c9ca-ed36b879ebd2"
      },
      "execution_count": 120,
      "outputs": [
        {
          "output_type": "execute_result",
          "data": {
            "text/plain": [
              "                                                   text  target  pred  \\\n",
              "0                 @olliebailey11 havnt you crashed ? ??       0   0.0   \n",
              "1     Did you miss the #BitCoin explosion - Don't mi...       0   0.0   \n",
              "2     FYI: ;ACCIDENT PROPERTY DAMAGE;3460 LIMESTONE ...       1   1.0   \n",
              "3     #psd #special Olap #world pres: http://t.co/9x...       1   0.0   \n",
              "4     MORE--&gt;OSHA officers on siteinvestigating N...       1   1.0   \n",
              "...                                                 ...     ...   ...   \n",
              "1518    They are making a Bad Boys 3 and 4!! A must see       0   0.0   \n",
              "1519  Forest fires could delay @AbbyAirshow but offi...       1   1.0   \n",
              "1520  There is no greater tragedy than becoming comf...       0   0.0   \n",
              "1521  Truth...\\nhttps://t.co/4ZQrsAQrRT\\n#News\\n#BBC...       1   0.0   \n",
              "1522  ok peace I hope I fall off a cliff along with ...       1   0.0   \n",
              "\n",
              "      prob_pred  \n",
              "0      0.224934  \n",
              "1      0.076092  \n",
              "2      0.904918  \n",
              "3      0.216491  \n",
              "4      0.957740  \n",
              "...         ...  \n",
              "1518   0.029904  \n",
              "1519   0.890712  \n",
              "1520   0.102478  \n",
              "1521   0.170099  \n",
              "1522   0.095282  \n",
              "\n",
              "[1523 rows x 4 columns]"
            ],
            "text/html": [
              "\n",
              "  <div id=\"df-e2d287d3-67bb-42ef-97b7-84de0cb410f9\">\n",
              "    <div class=\"colab-df-container\">\n",
              "      <div>\n",
              "<style scoped>\n",
              "    .dataframe tbody tr th:only-of-type {\n",
              "        vertical-align: middle;\n",
              "    }\n",
              "\n",
              "    .dataframe tbody tr th {\n",
              "        vertical-align: top;\n",
              "    }\n",
              "\n",
              "    .dataframe thead th {\n",
              "        text-align: right;\n",
              "    }\n",
              "</style>\n",
              "<table border=\"1\" class=\"dataframe\">\n",
              "  <thead>\n",
              "    <tr style=\"text-align: right;\">\n",
              "      <th></th>\n",
              "      <th>text</th>\n",
              "      <th>target</th>\n",
              "      <th>pred</th>\n",
              "      <th>prob_pred</th>\n",
              "    </tr>\n",
              "  </thead>\n",
              "  <tbody>\n",
              "    <tr>\n",
              "      <th>0</th>\n",
              "      <td>@olliebailey11 havnt you crashed ? ??</td>\n",
              "      <td>0</td>\n",
              "      <td>0.0</td>\n",
              "      <td>0.224934</td>\n",
              "    </tr>\n",
              "    <tr>\n",
              "      <th>1</th>\n",
              "      <td>Did you miss the #BitCoin explosion - Don't mi...</td>\n",
              "      <td>0</td>\n",
              "      <td>0.0</td>\n",
              "      <td>0.076092</td>\n",
              "    </tr>\n",
              "    <tr>\n",
              "      <th>2</th>\n",
              "      <td>FYI: ;ACCIDENT PROPERTY DAMAGE;3460 LIMESTONE ...</td>\n",
              "      <td>1</td>\n",
              "      <td>1.0</td>\n",
              "      <td>0.904918</td>\n",
              "    </tr>\n",
              "    <tr>\n",
              "      <th>3</th>\n",
              "      <td>#psd #special Olap #world pres: http://t.co/9x...</td>\n",
              "      <td>1</td>\n",
              "      <td>0.0</td>\n",
              "      <td>0.216491</td>\n",
              "    </tr>\n",
              "    <tr>\n",
              "      <th>4</th>\n",
              "      <td>MORE--&amp;gt;OSHA officers on siteinvestigating N...</td>\n",
              "      <td>1</td>\n",
              "      <td>1.0</td>\n",
              "      <td>0.957740</td>\n",
              "    </tr>\n",
              "    <tr>\n",
              "      <th>...</th>\n",
              "      <td>...</td>\n",
              "      <td>...</td>\n",
              "      <td>...</td>\n",
              "      <td>...</td>\n",
              "    </tr>\n",
              "    <tr>\n",
              "      <th>1518</th>\n",
              "      <td>They are making a Bad Boys 3 and 4!! A must see</td>\n",
              "      <td>0</td>\n",
              "      <td>0.0</td>\n",
              "      <td>0.029904</td>\n",
              "    </tr>\n",
              "    <tr>\n",
              "      <th>1519</th>\n",
              "      <td>Forest fires could delay @AbbyAirshow but offi...</td>\n",
              "      <td>1</td>\n",
              "      <td>1.0</td>\n",
              "      <td>0.890712</td>\n",
              "    </tr>\n",
              "    <tr>\n",
              "      <th>1520</th>\n",
              "      <td>There is no greater tragedy than becoming comf...</td>\n",
              "      <td>0</td>\n",
              "      <td>0.0</td>\n",
              "      <td>0.102478</td>\n",
              "    </tr>\n",
              "    <tr>\n",
              "      <th>1521</th>\n",
              "      <td>Truth...\\nhttps://t.co/4ZQrsAQrRT\\n#News\\n#BBC...</td>\n",
              "      <td>1</td>\n",
              "      <td>0.0</td>\n",
              "      <td>0.170099</td>\n",
              "    </tr>\n",
              "    <tr>\n",
              "      <th>1522</th>\n",
              "      <td>ok peace I hope I fall off a cliff along with ...</td>\n",
              "      <td>1</td>\n",
              "      <td>0.0</td>\n",
              "      <td>0.095282</td>\n",
              "    </tr>\n",
              "  </tbody>\n",
              "</table>\n",
              "<p>1523 rows × 4 columns</p>\n",
              "</div>\n",
              "      <button class=\"colab-df-convert\" onclick=\"convertToInteractive('df-e2d287d3-67bb-42ef-97b7-84de0cb410f9')\"\n",
              "              title=\"Convert this dataframe to an interactive table.\"\n",
              "              style=\"display:none;\">\n",
              "        \n",
              "  <svg xmlns=\"http://www.w3.org/2000/svg\" height=\"24px\"viewBox=\"0 0 24 24\"\n",
              "       width=\"24px\">\n",
              "    <path d=\"M0 0h24v24H0V0z\" fill=\"none\"/>\n",
              "    <path d=\"M18.56 5.44l.94 2.06.94-2.06 2.06-.94-2.06-.94-.94-2.06-.94 2.06-2.06.94zm-11 1L8.5 8.5l.94-2.06 2.06-.94-2.06-.94L8.5 2.5l-.94 2.06-2.06.94zm10 10l.94 2.06.94-2.06 2.06-.94-2.06-.94-.94-2.06-.94 2.06-2.06.94z\"/><path d=\"M17.41 7.96l-1.37-1.37c-.4-.4-.92-.59-1.43-.59-.52 0-1.04.2-1.43.59L10.3 9.45l-7.72 7.72c-.78.78-.78 2.05 0 2.83L4 21.41c.39.39.9.59 1.41.59.51 0 1.02-.2 1.41-.59l7.78-7.78 2.81-2.81c.8-.78.8-2.07 0-2.86zM5.41 20L4 18.59l7.72-7.72 1.47 1.35L5.41 20z\"/>\n",
              "  </svg>\n",
              "      </button>\n",
              "      \n",
              "  <style>\n",
              "    .colab-df-container {\n",
              "      display:flex;\n",
              "      flex-wrap:wrap;\n",
              "      gap: 12px;\n",
              "    }\n",
              "\n",
              "    .colab-df-convert {\n",
              "      background-color: #E8F0FE;\n",
              "      border: none;\n",
              "      border-radius: 50%;\n",
              "      cursor: pointer;\n",
              "      display: none;\n",
              "      fill: #1967D2;\n",
              "      height: 32px;\n",
              "      padding: 0 0 0 0;\n",
              "      width: 32px;\n",
              "    }\n",
              "\n",
              "    .colab-df-convert:hover {\n",
              "      background-color: #E2EBFA;\n",
              "      box-shadow: 0px 1px 2px rgba(60, 64, 67, 0.3), 0px 1px 3px 1px rgba(60, 64, 67, 0.15);\n",
              "      fill: #174EA6;\n",
              "    }\n",
              "\n",
              "    [theme=dark] .colab-df-convert {\n",
              "      background-color: #3B4455;\n",
              "      fill: #D2E3FC;\n",
              "    }\n",
              "\n",
              "    [theme=dark] .colab-df-convert:hover {\n",
              "      background-color: #434B5C;\n",
              "      box-shadow: 0px 1px 3px 1px rgba(0, 0, 0, 0.15);\n",
              "      filter: drop-shadow(0px 1px 2px rgba(0, 0, 0, 0.3));\n",
              "      fill: #FFFFFF;\n",
              "    }\n",
              "  </style>\n",
              "\n",
              "      <script>\n",
              "        const buttonEl =\n",
              "          document.querySelector('#df-e2d287d3-67bb-42ef-97b7-84de0cb410f9 button.colab-df-convert');\n",
              "        buttonEl.style.display =\n",
              "          google.colab.kernel.accessAllowed ? 'block' : 'none';\n",
              "\n",
              "        async function convertToInteractive(key) {\n",
              "          const element = document.querySelector('#df-e2d287d3-67bb-42ef-97b7-84de0cb410f9');\n",
              "          const dataTable =\n",
              "            await google.colab.kernel.invokeFunction('convertToInteractive',\n",
              "                                                     [key], {});\n",
              "          if (!dataTable) return;\n",
              "\n",
              "          const docLinkHtml = 'Like what you see? Visit the ' +\n",
              "            '<a target=\"_blank\" href=https://colab.research.google.com/notebooks/data_table.ipynb>data table notebook</a>'\n",
              "            + ' to learn more about interactive tables.';\n",
              "          element.innerHTML = '';\n",
              "          dataTable['output_type'] = 'display_data';\n",
              "          await google.colab.output.renderOutput(dataTable, element);\n",
              "          const docLink = document.createElement('div');\n",
              "          docLink.innerHTML = docLinkHtml;\n",
              "          element.appendChild(docLink);\n",
              "        }\n",
              "      </script>\n",
              "    </div>\n",
              "  </div>\n",
              "  "
            ]
          },
          "metadata": {},
          "execution_count": 120
        }
      ]
    },
    {
      "cell_type": "code",
      "source": [
        "## prediction of wrong target values:\n",
        "most_wrong_pred=valid_dataframe[valid_dataframe['target']!= valid_dataframe['pred']].sort_values('prob_pred',ascending=False)\n",
        "most_wrong_pred"
      ],
      "metadata": {
        "colab": {
          "base_uri": "https://localhost:8080/",
          "height": 2271
        },
        "id": "Q9GrWNHzXCaK",
        "outputId": "4304527f-0a30-4db9-e766-414e4d481f46"
      },
      "execution_count": 126,
      "outputs": [
        {
          "output_type": "execute_result",
          "data": {
            "text/plain": [
              "                                                   text  target  pred  \\\n",
              "1269  Teen Disaster Preparedness Event in Van Nuys A...       0   1.0   \n",
              "997   We should all have a fire safety plan. RT @Mat...       0   1.0   \n",
              "1427  Truck Driver Salvages Banned Tomatoes From Des...       0   1.0   \n",
              "1417  FAAN orders evacuation of abandoned aircraft a...       0   1.0   \n",
              "1225  #Sismo M 1.3 - 1km NNE of The Geysers Californ...       0   1.0   \n",
              "...                                                 ...     ...   ...   \n",
              "83    Even if u have your weapon and your badge we g...       1   0.0   \n",
              "1102  the sunset boys wreck my bed   original 1979 u...       1   0.0   \n",
              "1390                             Flattened thee striker       1   0.0   \n",
              "45    Do you feel like you are sinking in low self-i...       1   0.0   \n",
              "1038                             @Truly_Stings Yo Dm me       1   0.0   \n",
              "\n",
              "      prob_pred  \n",
              "1269   0.983139  \n",
              "997    0.961084  \n",
              "1427   0.955491  \n",
              "1417   0.952374  \n",
              "1225   0.906147  \n",
              "...         ...  \n",
              "83     0.045946  \n",
              "1102   0.042651  \n",
              "1390   0.041682  \n",
              "45     0.038852  \n",
              "1038   0.030166  \n",
              "\n",
              "[263 rows x 4 columns]"
            ],
            "text/html": [
              "\n",
              "  <div id=\"df-433cc9ce-21f2-47fc-b9ff-7ed7f6af661d\">\n",
              "    <div class=\"colab-df-container\">\n",
              "      <div>\n",
              "<style scoped>\n",
              "    .dataframe tbody tr th:only-of-type {\n",
              "        vertical-align: middle;\n",
              "    }\n",
              "\n",
              "    .dataframe tbody tr th {\n",
              "        vertical-align: top;\n",
              "    }\n",
              "\n",
              "    .dataframe thead th {\n",
              "        text-align: right;\n",
              "    }\n",
              "</style>\n",
              "<table border=\"1\" class=\"dataframe\">\n",
              "  <thead>\n",
              "    <tr style=\"text-align: right;\">\n",
              "      <th></th>\n",
              "      <th>text</th>\n",
              "      <th>target</th>\n",
              "      <th>pred</th>\n",
              "      <th>prob_pred</th>\n",
              "    </tr>\n",
              "  </thead>\n",
              "  <tbody>\n",
              "    <tr>\n",
              "      <th>1269</th>\n",
              "      <td>Teen Disaster Preparedness Event in Van Nuys A...</td>\n",
              "      <td>0</td>\n",
              "      <td>1.0</td>\n",
              "      <td>0.983139</td>\n",
              "    </tr>\n",
              "    <tr>\n",
              "      <th>997</th>\n",
              "      <td>We should all have a fire safety plan. RT @Mat...</td>\n",
              "      <td>0</td>\n",
              "      <td>1.0</td>\n",
              "      <td>0.961084</td>\n",
              "    </tr>\n",
              "    <tr>\n",
              "      <th>1427</th>\n",
              "      <td>Truck Driver Salvages Banned Tomatoes From Des...</td>\n",
              "      <td>0</td>\n",
              "      <td>1.0</td>\n",
              "      <td>0.955491</td>\n",
              "    </tr>\n",
              "    <tr>\n",
              "      <th>1417</th>\n",
              "      <td>FAAN orders evacuation of abandoned aircraft a...</td>\n",
              "      <td>0</td>\n",
              "      <td>1.0</td>\n",
              "      <td>0.952374</td>\n",
              "    </tr>\n",
              "    <tr>\n",
              "      <th>1225</th>\n",
              "      <td>#Sismo M 1.3 - 1km NNE of The Geysers Californ...</td>\n",
              "      <td>0</td>\n",
              "      <td>1.0</td>\n",
              "      <td>0.906147</td>\n",
              "    </tr>\n",
              "    <tr>\n",
              "      <th>...</th>\n",
              "      <td>...</td>\n",
              "      <td>...</td>\n",
              "      <td>...</td>\n",
              "      <td>...</td>\n",
              "    </tr>\n",
              "    <tr>\n",
              "      <th>83</th>\n",
              "      <td>Even if u have your weapon and your badge we g...</td>\n",
              "      <td>1</td>\n",
              "      <td>0.0</td>\n",
              "      <td>0.045946</td>\n",
              "    </tr>\n",
              "    <tr>\n",
              "      <th>1102</th>\n",
              "      <td>the sunset boys wreck my bed   original 1979 u...</td>\n",
              "      <td>1</td>\n",
              "      <td>0.0</td>\n",
              "      <td>0.042651</td>\n",
              "    </tr>\n",
              "    <tr>\n",
              "      <th>1390</th>\n",
              "      <td>Flattened thee striker</td>\n",
              "      <td>1</td>\n",
              "      <td>0.0</td>\n",
              "      <td>0.041682</td>\n",
              "    </tr>\n",
              "    <tr>\n",
              "      <th>45</th>\n",
              "      <td>Do you feel like you are sinking in low self-i...</td>\n",
              "      <td>1</td>\n",
              "      <td>0.0</td>\n",
              "      <td>0.038852</td>\n",
              "    </tr>\n",
              "    <tr>\n",
              "      <th>1038</th>\n",
              "      <td>@Truly_Stings Yo Dm me</td>\n",
              "      <td>1</td>\n",
              "      <td>0.0</td>\n",
              "      <td>0.030166</td>\n",
              "    </tr>\n",
              "  </tbody>\n",
              "</table>\n",
              "<p>263 rows × 4 columns</p>\n",
              "</div>\n",
              "      <button class=\"colab-df-convert\" onclick=\"convertToInteractive('df-433cc9ce-21f2-47fc-b9ff-7ed7f6af661d')\"\n",
              "              title=\"Convert this dataframe to an interactive table.\"\n",
              "              style=\"display:none;\">\n",
              "        \n",
              "  <svg xmlns=\"http://www.w3.org/2000/svg\" height=\"24px\"viewBox=\"0 0 24 24\"\n",
              "       width=\"24px\">\n",
              "    <path d=\"M0 0h24v24H0V0z\" fill=\"none\"/>\n",
              "    <path d=\"M18.56 5.44l.94 2.06.94-2.06 2.06-.94-2.06-.94-.94-2.06-.94 2.06-2.06.94zm-11 1L8.5 8.5l.94-2.06 2.06-.94-2.06-.94L8.5 2.5l-.94 2.06-2.06.94zm10 10l.94 2.06.94-2.06 2.06-.94-2.06-.94-.94-2.06-.94 2.06-2.06.94z\"/><path d=\"M17.41 7.96l-1.37-1.37c-.4-.4-.92-.59-1.43-.59-.52 0-1.04.2-1.43.59L10.3 9.45l-7.72 7.72c-.78.78-.78 2.05 0 2.83L4 21.41c.39.39.9.59 1.41.59.51 0 1.02-.2 1.41-.59l7.78-7.78 2.81-2.81c.8-.78.8-2.07 0-2.86zM5.41 20L4 18.59l7.72-7.72 1.47 1.35L5.41 20z\"/>\n",
              "  </svg>\n",
              "      </button>\n",
              "      \n",
              "  <style>\n",
              "    .colab-df-container {\n",
              "      display:flex;\n",
              "      flex-wrap:wrap;\n",
              "      gap: 12px;\n",
              "    }\n",
              "\n",
              "    .colab-df-convert {\n",
              "      background-color: #E8F0FE;\n",
              "      border: none;\n",
              "      border-radius: 50%;\n",
              "      cursor: pointer;\n",
              "      display: none;\n",
              "      fill: #1967D2;\n",
              "      height: 32px;\n",
              "      padding: 0 0 0 0;\n",
              "      width: 32px;\n",
              "    }\n",
              "\n",
              "    .colab-df-convert:hover {\n",
              "      background-color: #E2EBFA;\n",
              "      box-shadow: 0px 1px 2px rgba(60, 64, 67, 0.3), 0px 1px 3px 1px rgba(60, 64, 67, 0.15);\n",
              "      fill: #174EA6;\n",
              "    }\n",
              "\n",
              "    [theme=dark] .colab-df-convert {\n",
              "      background-color: #3B4455;\n",
              "      fill: #D2E3FC;\n",
              "    }\n",
              "\n",
              "    [theme=dark] .colab-df-convert:hover {\n",
              "      background-color: #434B5C;\n",
              "      box-shadow: 0px 1px 3px 1px rgba(0, 0, 0, 0.15);\n",
              "      filter: drop-shadow(0px 1px 2px rgba(0, 0, 0, 0.3));\n",
              "      fill: #FFFFFF;\n",
              "    }\n",
              "  </style>\n",
              "\n",
              "      <script>\n",
              "        const buttonEl =\n",
              "          document.querySelector('#df-433cc9ce-21f2-47fc-b9ff-7ed7f6af661d button.colab-df-convert');\n",
              "        buttonEl.style.display =\n",
              "          google.colab.kernel.accessAllowed ? 'block' : 'none';\n",
              "\n",
              "        async function convertToInteractive(key) {\n",
              "          const element = document.querySelector('#df-433cc9ce-21f2-47fc-b9ff-7ed7f6af661d');\n",
              "          const dataTable =\n",
              "            await google.colab.kernel.invokeFunction('convertToInteractive',\n",
              "                                                     [key], {});\n",
              "          if (!dataTable) return;\n",
              "\n",
              "          const docLinkHtml = 'Like what you see? Visit the ' +\n",
              "            '<a target=\"_blank\" href=https://colab.research.google.com/notebooks/data_table.ipynb>data table notebook</a>'\n",
              "            + ' to learn more about interactive tables.';\n",
              "          element.innerHTML = '';\n",
              "          dataTable['output_type'] = 'display_data';\n",
              "          await google.colab.output.renderOutput(dataTable, element);\n",
              "          const docLink = document.createElement('div');\n",
              "          docLink.innerHTML = docLinkHtml;\n",
              "          element.appendChild(docLink);\n",
              "        }\n",
              "      </script>\n",
              "    </div>\n",
              "  </div>\n",
              "  "
            ]
          },
          "metadata": {},
          "execution_count": 126
        }
      ]
    },
    {
      "cell_type": "code",
      "source": [
        "## False Positive:\n",
        "for false_positive in most_wrong_pred[:10].itertuples():\n",
        "    _,text,target,pred,pred_prob=false_positive\n",
        "    print(f'target:{target}\\n pred:{pred}\\n pred_probability:{pred_prob}')\n",
        "    print(f'Test::{text}')\n",
        "    print('-------------\\n')"
      ],
      "metadata": {
        "colab": {
          "base_uri": "https://localhost:8080/"
        },
        "id": "0bRWp5xetIzZ",
        "outputId": "1a49c59b-33c3-415c-8d5f-04397b96e040"
      },
      "execution_count": 134,
      "outputs": [
        {
          "output_type": "stream",
          "name": "stdout",
          "text": [
            "target:0\n",
            " pred:1.0\n",
            " pred_probability:0.9831386804580688\n",
            "Test::Teen Disaster Preparedness Event in Van Nuys August 11 @ 5:30pm http://t.co/fXUX987vZx via @VanNuysCouncil\n",
            "-------------\n",
            "\n",
            "target:0\n",
            " pred:1.0\n",
            " pred_probability:0.9610844850540161\n",
            "Test::We should all have a fire safety plan. RT @Matt_Kroschel: MOCK WILDFIRE near #Vail as agencies prepare for the worst. http://t.co/SWwyLRk0fv\n",
            "-------------\n",
            "\n",
            "target:0\n",
            " pred:1.0\n",
            " pred_probability:0.9554905295372009\n",
            "Test::Truck Driver Salvages Banned Tomatoes From Destruction on #Russian Border http://t.co/7b2Wf6ovFK #news\n",
            "-------------\n",
            "\n",
            "target:0\n",
            " pred:1.0\n",
            " pred_probability:0.9523735642433167\n",
            "Test::FAAN orders evacuation of abandoned aircraft at MMA http://t.co/dEvYbnVXGQ via @todayng\n",
            "-------------\n",
            "\n",
            "target:0\n",
            " pred:1.0\n",
            " pred_probability:0.9061474204063416\n",
            "Test::#Sismo M 1.3 - 1km NNE of The Geysers California: Time2015-08-05 23:40:21 UTC2015-08-05 16:40:21 -07:00 a... http://t.co/x6el3ySYcn #CS\n",
            "-------------\n",
            "\n",
            "target:0\n",
            " pred:1.0\n",
            " pred_probability:0.9047204852104187\n",
            "Test::This Attempted Mass Murder brought to You by the Obama Administration http://t.co/jbrK8ZsrY6\n",
            "-------------\n",
            "\n",
            "target:0\n",
            " pred:1.0\n",
            " pred_probability:0.9036333560943604\n",
            "Test::Dr. Jim &amp; the tsunami: The latest New Yorker warned us in no uncertain terms. Haven't you heard? The tsunami's... http://t.co/1RrEO2jG9u\n",
            "-------------\n",
            "\n",
            "target:0\n",
            " pred:1.0\n",
            " pred_probability:0.8987135291099548\n",
            "Test::VIDEO: Slain Mexican Journalist Unknowingly Predicted His Own Death http://t.co/QxhOwCv16R via @BreitbartNews\n",
            "-------------\n",
            "\n",
            "target:0\n",
            " pred:1.0\n",
            " pred_probability:0.8749950528144836\n",
            "Test::Google Alert: Emergency units simulate a chemical explosion at NU http://t.co/NDgpWYxu6H\n",
            "-------------\n",
            "\n",
            "target:0\n",
            " pred:1.0\n",
            " pred_probability:0.8710901737213135\n",
            "Test::@StephanieMarija 'light rain' was the forecast I based my dressing on. Light. Rain. Not incessant deluge!\n",
            "-------------\n",
            "\n"
          ]
        }
      ]
    },
    {
      "cell_type": "code",
      "source": [
        "## finally time to make predictions o n the test data:\n",
        "test_sentences=test_data['text'].to_list() # into the list\n",
        "test_sample=random.sample(test_sentences, 10)\n",
        "for test_text in test_sample:\n",
        "    pred_prob=tf.squeeze(model_6.predict([test_text]))\n",
        "    print(f'prediction_probability:{pred_prob}')\n",
        "    pred=tf.round(pred_prob)\n",
        "    print(f'actual_prediction:{pred}')\n",
        "    print(f'Test_Text::{test_text}\\n---------------\\n')"
      ],
      "metadata": {
        "colab": {
          "base_uri": "https://localhost:8080/"
        },
        "id": "WMG1te27u_La",
        "outputId": "f9942516-9855-4f80-fdc2-dfa55de88a0a"
      },
      "execution_count": 161,
      "outputs": [
        {
          "output_type": "stream",
          "name": "stdout",
          "text": [
            "prediction_probability:0.7770441174507141\n",
            "actual_prediction:1.0\n",
            "Test_Text:Don't blame the messenger. Food panic in Venezuela. 1 minute video.Thanks SHTFPlan!\n",
            "https://t.co/QBSTQXA6QX\n",
            "---------------\n",
            "\n",
            "prediction_probability:0.9072712063789368\n",
            "actual_prediction:1.0\n",
            "Test_Text:#Muslim cemetery demolition infuriates cultural groups in #Israel \n",
            "\n",
            "http://t.co/vpLZKUidz2\n",
            "---------------\n",
            "\n",
            "prediction_probability:0.8006669282913208\n",
            "actual_prediction:1.0\n",
            "Test_Text:@Cynicalreality when the subject is mass murder. @LetsBe_Rational @MishaWeller @llr517\n",
            "---------------\n",
            "\n",
            "prediction_probability:0.2532767951488495\n",
            "actual_prediction:0.0\n",
            "Test_Text:Sorry Kylie pretty sure James?? ate Bruce ?? this morning. #Catastrophe  https://t.co/TR6oM9yN2C\n",
            "---------------\n",
            "\n",
            "prediction_probability:0.9940469264984131\n",
            "actual_prediction:1.0\n",
            "Test_Text:http://t.co/B2FaSrt1tN Twelve feared killed in Pakistani air ambulance helicopter crash http://t.co/O8BJXnEPQm\n",
            "---------------\n",
            "\n",
            "prediction_probability:0.03481215983629227\n",
            "actual_prediction:0.0\n",
            "Test_Text:Do you feel engulfed with anxiety? Take the quiz: http://t.co/Um6weIUjyW http://t.co/Fm92uk6Yp2\n",
            "---------------\n",
            "\n",
            "prediction_probability:0.07296880334615707\n",
            "actual_prediction:0.0\n",
            "Test_Text:What a nice hat?\n",
            "---------------\n",
            "\n",
            "prediction_probability:0.8741429448127747\n",
            "actual_prediction:1.0\n",
            "Test_Text:Attention Service Members Veterans Educators First Responders in Jacksonville FL http://t.co/4UrtBEAcE5\n",
            "---------------\n",
            "\n",
            "prediction_probability:0.2140788584947586\n",
            "actual_prediction:0.0\n",
            "Test_Text:@RudyHavenstein @zerohedge isn't it just zerohedge readers who are panicking? For everyone else it's summer time trade.\n",
            "---------------\n",
            "\n",
            "prediction_probability:0.13811370730400085\n",
            "actual_prediction:0.0\n",
            "Test_Text:Slosher is a fucboi weapon\n",
            "---------------\n",
            "\n"
          ]
        }
      ]
    },
    {
      "cell_type": "code",
      "source": [
        "## finally time to make predictions own sentence:\n",
        "own=\"sometimes life is like a cyclone,flood \"\n",
        "pred_prob=tf.squeeze(model_6.predict([own]))\n",
        "print(f'prediction_probability:{pred_prob}')\n",
        "pred=tf.round(pred_prob)\n",
        "print(f'actual_prediction:{pred}')\n",
        "print(f'Test_Text::{own}\\n---------------\\n')\n",
        "if pred < 1:\n",
        "    print('Not a dister dont panic.......')\n",
        "else:\n",
        "    print('It is disaster')\n",
        "   "
      ],
      "metadata": {
        "colab": {
          "base_uri": "https://localhost:8080/"
        },
        "id": "LAUyCzRcxck0",
        "outputId": "4e9f5169-06b0-4424-ca2e-5df55420edc5"
      },
      "execution_count": 174,
      "outputs": [
        {
          "output_type": "stream",
          "name": "stdout",
          "text": [
            "prediction_probability:0.12032227218151093\n",
            "actual_prediction:0.0\n",
            "Test_Text::sometime life is like a cyclone,flood \n",
            "---------------\n",
            "\n",
            "Not a dister dont panic.......\n"
          ]
        }
      ]
    }
  ]
}